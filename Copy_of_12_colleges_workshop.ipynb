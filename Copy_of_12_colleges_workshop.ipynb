{
  "nbformat": 4,
  "nbformat_minor": 0,
  "metadata": {
    "colab": {
      "provenance": [],
      "collapsed_sections": [
        "zD1M9Hoi0SAc",
        "YBjMXwZN_UUH",
        "hgn25aMls6Zi"
      ],
      "include_colab_link": true
    },
    "kernelspec": {
      "name": "python3",
      "display_name": "Python 3"
    }
  },
  "cells": [
    {
      "cell_type": "markdown",
      "metadata": {
        "id": "view-in-github",
        "colab_type": "text"
      },
      "source": [
        "<a href=\"https://colab.research.google.com/github/shreya-gundoju/shreya-gundoju/blob/cognizant-ml-training/Copy_of_12_colleges_workshop.ipynb\" target=\"_parent\"><img src=\"https://colab.research.google.com/assets/colab-badge.svg\" alt=\"Open In Colab\"/></a>"
      ]
    },
    {
      "cell_type": "markdown",
      "metadata": {
        "id": "R8mSYBoZaVEo"
      },
      "source": [
        "### Linear regression"
      ]
    },
    {
      "cell_type": "markdown",
      "metadata": {
        "id": "aCQGNDZIE0gi"
      },
      "source": [
        "**Correlation and Linear Regression**"
      ]
    },
    {
      "cell_type": "markdown",
      "metadata": {
        "id": "7BQcZLJCDLG2"
      },
      "source": [
        "* Regression is concerned with specifying the relationship between a single numeric dependent variable (the value to be predicted) and one or more numeric independent variables (the predictors).  \n",
        "\n",
        "* The simplest forms of regression assume that the relationship between the independent and dependent variables follows a straight line.\n",
        "\n",
        "* You might recall from basic algebra that lines can be defined in a slope-intercept form similar to y = a + bx.\n",
        "\n",
        "* The slope term b specifies how much y rises for each unit increase in x.\n",
        "\n",
        "* Positive values define lines that slope upward while negative values define lines that slope downward.\n",
        "\n",
        "* The term a is known as the intercept because it specifies the point where the line crosses, or intercepts, the vertical y axis. It indicates the value of y when x = 0.\n",
        "\n",
        "https://www.mathsisfun.com/data/straight_line_graph.html"
      ]
    },
    {
      "cell_type": "code",
      "source": [
        "# https://www.kaggle.com/datasets/elikplim/concrete-compressive-strength-data-set\n",
        "\n",
        "import numpy as np\n",
        "import pandas as pd\n",
        "import matplotlib.pyplot as plt\n",
        "import scipy.stats as stats\n",
        "import statsmodels.api as sm\n",
        "import seaborn as sns\n",
        "\n",
        "df = pd.read_csv('concrete_data.csv')\n",
        "\n",
        "df.head()"
      ],
      "metadata": {
        "colab": {
          "base_uri": "https://localhost:8080/",
          "height": 206
        },
        "id": "vjlaLZmSy6L6",
        "outputId": "95b3076a-5d93-42c8-c463-8aa6db88c950"
      },
      "execution_count": null,
      "outputs": [
        {
          "output_type": "execute_result",
          "data": {
            "text/plain": [
              "   cement  blast_furnace_slag  fly_ash  water  superplasticizer  \\\n",
              "0   540.0                 0.0      0.0  162.0               2.5   \n",
              "1   540.0                 0.0      0.0  162.0               2.5   \n",
              "2   332.5               142.5      0.0  228.0               0.0   \n",
              "3   332.5               142.5      0.0  228.0               0.0   \n",
              "4   198.6               132.4      0.0  192.0               0.0   \n",
              "\n",
              "   coarse_aggregate  fine_aggregate   age  concrete_compressive_strength  \n",
              "0            1040.0            676.0   28                          79.99  \n",
              "1            1055.0            676.0   28                          61.89  \n",
              "2             932.0            594.0  270                          40.27  \n",
              "3             932.0            594.0  365                          41.05  \n",
              "4             978.4            825.5  360                          44.30  "
            ],
            "text/html": [
              "\n",
              "  <div id=\"df-37a91fed-4022-4a29-9073-1722f50b2b33\">\n",
              "    <div class=\"colab-df-container\">\n",
              "      <div>\n",
              "<style scoped>\n",
              "    .dataframe tbody tr th:only-of-type {\n",
              "        vertical-align: middle;\n",
              "    }\n",
              "\n",
              "    .dataframe tbody tr th {\n",
              "        vertical-align: top;\n",
              "    }\n",
              "\n",
              "    .dataframe thead th {\n",
              "        text-align: right;\n",
              "    }\n",
              "</style>\n",
              "<table border=\"1\" class=\"dataframe\">\n",
              "  <thead>\n",
              "    <tr style=\"text-align: right;\">\n",
              "      <th></th>\n",
              "      <th>cement</th>\n",
              "      <th>blast_furnace_slag</th>\n",
              "      <th>fly_ash</th>\n",
              "      <th>water</th>\n",
              "      <th>superplasticizer</th>\n",
              "      <th>coarse_aggregate</th>\n",
              "      <th>fine_aggregate</th>\n",
              "      <th>age</th>\n",
              "      <th>concrete_compressive_strength</th>\n",
              "    </tr>\n",
              "  </thead>\n",
              "  <tbody>\n",
              "    <tr>\n",
              "      <th>0</th>\n",
              "      <td>540.0</td>\n",
              "      <td>0.0</td>\n",
              "      <td>0.0</td>\n",
              "      <td>162.0</td>\n",
              "      <td>2.5</td>\n",
              "      <td>1040.0</td>\n",
              "      <td>676.0</td>\n",
              "      <td>28</td>\n",
              "      <td>79.99</td>\n",
              "    </tr>\n",
              "    <tr>\n",
              "      <th>1</th>\n",
              "      <td>540.0</td>\n",
              "      <td>0.0</td>\n",
              "      <td>0.0</td>\n",
              "      <td>162.0</td>\n",
              "      <td>2.5</td>\n",
              "      <td>1055.0</td>\n",
              "      <td>676.0</td>\n",
              "      <td>28</td>\n",
              "      <td>61.89</td>\n",
              "    </tr>\n",
              "    <tr>\n",
              "      <th>2</th>\n",
              "      <td>332.5</td>\n",
              "      <td>142.5</td>\n",
              "      <td>0.0</td>\n",
              "      <td>228.0</td>\n",
              "      <td>0.0</td>\n",
              "      <td>932.0</td>\n",
              "      <td>594.0</td>\n",
              "      <td>270</td>\n",
              "      <td>40.27</td>\n",
              "    </tr>\n",
              "    <tr>\n",
              "      <th>3</th>\n",
              "      <td>332.5</td>\n",
              "      <td>142.5</td>\n",
              "      <td>0.0</td>\n",
              "      <td>228.0</td>\n",
              "      <td>0.0</td>\n",
              "      <td>932.0</td>\n",
              "      <td>594.0</td>\n",
              "      <td>365</td>\n",
              "      <td>41.05</td>\n",
              "    </tr>\n",
              "    <tr>\n",
              "      <th>4</th>\n",
              "      <td>198.6</td>\n",
              "      <td>132.4</td>\n",
              "      <td>0.0</td>\n",
              "      <td>192.0</td>\n",
              "      <td>0.0</td>\n",
              "      <td>978.4</td>\n",
              "      <td>825.5</td>\n",
              "      <td>360</td>\n",
              "      <td>44.30</td>\n",
              "    </tr>\n",
              "  </tbody>\n",
              "</table>\n",
              "</div>\n",
              "      <button class=\"colab-df-convert\" onclick=\"convertToInteractive('df-37a91fed-4022-4a29-9073-1722f50b2b33')\"\n",
              "              title=\"Convert this dataframe to an interactive table.\"\n",
              "              style=\"display:none;\">\n",
              "        \n",
              "  <svg xmlns=\"http://www.w3.org/2000/svg\" height=\"24px\"viewBox=\"0 0 24 24\"\n",
              "       width=\"24px\">\n",
              "    <path d=\"M0 0h24v24H0V0z\" fill=\"none\"/>\n",
              "    <path d=\"M18.56 5.44l.94 2.06.94-2.06 2.06-.94-2.06-.94-.94-2.06-.94 2.06-2.06.94zm-11 1L8.5 8.5l.94-2.06 2.06-.94-2.06-.94L8.5 2.5l-.94 2.06-2.06.94zm10 10l.94 2.06.94-2.06 2.06-.94-2.06-.94-.94-2.06-.94 2.06-2.06.94z\"/><path d=\"M17.41 7.96l-1.37-1.37c-.4-.4-.92-.59-1.43-.59-.52 0-1.04.2-1.43.59L10.3 9.45l-7.72 7.72c-.78.78-.78 2.05 0 2.83L4 21.41c.39.39.9.59 1.41.59.51 0 1.02-.2 1.41-.59l7.78-7.78 2.81-2.81c.8-.78.8-2.07 0-2.86zM5.41 20L4 18.59l7.72-7.72 1.47 1.35L5.41 20z\"/>\n",
              "  </svg>\n",
              "      </button>\n",
              "      \n",
              "  <style>\n",
              "    .colab-df-container {\n",
              "      display:flex;\n",
              "      flex-wrap:wrap;\n",
              "      gap: 12px;\n",
              "    }\n",
              "\n",
              "    .colab-df-convert {\n",
              "      background-color: #E8F0FE;\n",
              "      border: none;\n",
              "      border-radius: 50%;\n",
              "      cursor: pointer;\n",
              "      display: none;\n",
              "      fill: #1967D2;\n",
              "      height: 32px;\n",
              "      padding: 0 0 0 0;\n",
              "      width: 32px;\n",
              "    }\n",
              "\n",
              "    .colab-df-convert:hover {\n",
              "      background-color: #E2EBFA;\n",
              "      box-shadow: 0px 1px 2px rgba(60, 64, 67, 0.3), 0px 1px 3px 1px rgba(60, 64, 67, 0.15);\n",
              "      fill: #174EA6;\n",
              "    }\n",
              "\n",
              "    [theme=dark] .colab-df-convert {\n",
              "      background-color: #3B4455;\n",
              "      fill: #D2E3FC;\n",
              "    }\n",
              "\n",
              "    [theme=dark] .colab-df-convert:hover {\n",
              "      background-color: #434B5C;\n",
              "      box-shadow: 0px 1px 3px 1px rgba(0, 0, 0, 0.15);\n",
              "      filter: drop-shadow(0px 1px 2px rgba(0, 0, 0, 0.3));\n",
              "      fill: #FFFFFF;\n",
              "    }\n",
              "  </style>\n",
              "\n",
              "      <script>\n",
              "        const buttonEl =\n",
              "          document.querySelector('#df-37a91fed-4022-4a29-9073-1722f50b2b33 button.colab-df-convert');\n",
              "        buttonEl.style.display =\n",
              "          google.colab.kernel.accessAllowed ? 'block' : 'none';\n",
              "\n",
              "        async function convertToInteractive(key) {\n",
              "          const element = document.querySelector('#df-37a91fed-4022-4a29-9073-1722f50b2b33');\n",
              "          const dataTable =\n",
              "            await google.colab.kernel.invokeFunction('convertToInteractive',\n",
              "                                                     [key], {});\n",
              "          if (!dataTable) return;\n",
              "\n",
              "          const docLinkHtml = 'Like what you see? Visit the ' +\n",
              "            '<a target=\"_blank\" href=https://colab.research.google.com/notebooks/data_table.ipynb>data table notebook</a>'\n",
              "            + ' to learn more about interactive tables.';\n",
              "          element.innerHTML = '';\n",
              "          dataTable['output_type'] = 'display_data';\n",
              "          await google.colab.output.renderOutput(dataTable, element);\n",
              "          const docLink = document.createElement('div');\n",
              "          docLink.innerHTML = docLinkHtml;\n",
              "          element.appendChild(docLink);\n",
              "        }\n",
              "      </script>\n",
              "    </div>\n",
              "  </div>\n",
              "  "
            ]
          },
          "metadata": {},
          "execution_count": 8
        }
      ]
    },
    {
      "cell_type": "code",
      "source": [
        "df.info()"
      ],
      "metadata": {
        "colab": {
          "base_uri": "https://localhost:8080/"
        },
        "id": "FY-VsIekzxVF",
        "outputId": "d42521d1-2251-4d98-839d-c87717fd4ca5"
      },
      "execution_count": null,
      "outputs": [
        {
          "output_type": "stream",
          "name": "stdout",
          "text": [
            "<class 'pandas.core.frame.DataFrame'>\n",
            "RangeIndex: 1030 entries, 0 to 1029\n",
            "Data columns (total 9 columns):\n",
            " #   Column                         Non-Null Count  Dtype  \n",
            "---  ------                         --------------  -----  \n",
            " 0   cement                         1030 non-null   float64\n",
            " 1   blast_furnace_slag             1030 non-null   float64\n",
            " 2   fly_ash                        1030 non-null   float64\n",
            " 3   water                          1030 non-null   float64\n",
            " 4   superplasticizer               1030 non-null   float64\n",
            " 5   coarse_aggregate               1030 non-null   float64\n",
            " 6   fine_aggregate                 1030 non-null   float64\n",
            " 7   age                            1030 non-null   int64  \n",
            " 8   concrete_compressive_strength  1030 non-null   float64\n",
            "dtypes: float64(8), int64(1)\n",
            "memory usage: 72.5 KB\n"
          ]
        }
      ]
    },
    {
      "cell_type": "code",
      "source": [
        "sns.heatmap(df.corr().round(2),annot=True)\n",
        "plt.show()"
      ],
      "metadata": {
        "colab": {
          "base_uri": "https://localhost:8080/",
          "height": 642
        },
        "id": "AvP_W09Wzz5t",
        "outputId": "cbbdc1f0-ebfb-4f14-c1db-4e8683229bc0"
      },
      "execution_count": null,
      "outputs": [
        {
          "output_type": "display_data",
          "data": {
            "text/plain": [
              "<Figure size 640x480 with 2 Axes>"
            ],
            "image/png": "[encoded data removed]"
          },
          "metadata": {}
        }
      ]
    },
    {
      "cell_type": "code",
      "source": [
        "# define a function that removes outliers\n",
        "def remove_outliers(data):\n",
        "    q1 = np.percentile(data,25)\n",
        "    q3 = np.percentile(data,75)\n",
        "    iqr = q3-q1\n",
        "    upper = q3+1.5*iqr\n",
        "    lower = q1-1.5*iqr\n",
        "    data[(data>lower)&(data<upper)]\n",
        "    return data[(data>lower)&(data<upper)]\n",
        "\n",
        "# create an empty data frame\n",
        "df_clean = pd.DataFrame()\n",
        "\n",
        "# populate data frame with no outliers\n",
        "for name,value in df.iteritems():\n",
        "    df_clean[name] = remove_outliers(value)"
      ],
      "metadata": {
        "colab": {
          "base_uri": "https://localhost:8080/"
        },
        "id": "PSPcjehv2LgF",
        "outputId": "5b62d3ce-e8b5-4d86-c749-45fb3147526c"
      },
      "execution_count": null,
      "outputs": [
        {
          "output_type": "stream",
          "name": "stderr",
          "text": [
            "<ipython-input-10-27fedce797d1>:15: FutureWarning: iteritems is deprecated and will be removed in a future version. Use .items instead.\n",
            "  for name,value in df.iteritems():\n"
          ]
        }
      ]
    },
    {
      "cell_type": "code",
      "source": [
        "df_clean.isna().sum()"
      ],
      "metadata": {
        "colab": {
          "base_uri": "https://localhost:8080/"
        },
        "id": "UkAAQK-C2Uu5",
        "outputId": "e542f9f5-a63f-44fe-f5ad-4a1e3e8b00c2"
      },
      "execution_count": null,
      "outputs": [
        {
          "output_type": "execute_result",
          "data": {
            "text/plain": [
              "cement                            0\n",
              "blast_furnace_slag                2\n",
              "fly_ash                           0\n",
              "water                             9\n",
              "superplasticizer                 10\n",
              "coarse_aggregate                  0\n",
              "fine_aggregate                    5\n",
              "age                              59\n",
              "concrete_compressive_strength     4\n",
              "dtype: int64"
            ]
          },
          "metadata": {},
          "execution_count": 11
        }
      ]
    },
    {
      "cell_type": "code",
      "source": [
        "# remove missing values\n",
        "df_clean.dropna(axis=0,inplace=True)\n",
        "\n",
        "# reset index\n",
        "df_clean.reset_index(drop=True, inplace=True)\n",
        "df_clean.isna().sum()"
      ],
      "metadata": {
        "colab": {
          "base_uri": "https://localhost:8080/"
        },
        "id": "JGj4RDvJ2WNE",
        "outputId": "3148b6c0-e6cb-4e3d-bf1b-80f5e4415ddf"
      },
      "execution_count": null,
      "outputs": [
        {
          "output_type": "execute_result",
          "data": {
            "text/plain": [
              "cement                           0\n",
              "blast_furnace_slag               0\n",
              "fly_ash                          0\n",
              "water                            0\n",
              "superplasticizer                 0\n",
              "coarse_aggregate                 0\n",
              "fine_aggregate                   0\n",
              "age                              0\n",
              "concrete_compressive_strength    0\n",
              "dtype: int64"
            ]
          },
          "metadata": {},
          "execution_count": 12
        }
      ]
    },
    {
      "cell_type": "code",
      "source": [
        "from sklearn.model_selection import train_test_split\n",
        "from sklearn.linear_model import LinearRegression\n",
        "\n",
        "features_clean = df_clean.iloc[:,:-1]\n",
        "strength_clean = df_clean.iloc[:,-1]\n",
        "\n",
        "features = df.iloc[:,:-1]\n",
        "strength = df.iloc[:,-1]\n",
        "\n",
        "X_train_clean, X_test_clean, y_train_clean, y_test_clean = train_test_split(\n",
        "    features_clean,strength_clean,test_size=0.3,random_state=42)\n",
        "\n",
        "X_train, X_test, y_train, y_test = train_test_split(features,strength,test_size=0.3,random_state=42)"
      ],
      "metadata": {
        "id": "OCM2e9-1z9BF"
      },
      "execution_count": null,
      "outputs": []
    },
    {
      "cell_type": "code",
      "source": [
        "# train check data\n",
        "regression = LinearRegression()\n",
        "regression.fit(X_train,y_train)\n",
        "\n",
        "# print out the results\n",
        "print(f'Training data r-squared:,{regression.score(X_train, y_train)}')\n",
        "print(f'Test data r-squared:{regression.score(X_test, y_test)}')"
      ],
      "metadata": {
        "colab": {
          "base_uri": "https://localhost:8080/"
        },
        "id": "S_q2czIZ1YE1",
        "outputId": "6a72dd3c-327e-48a6-bef2-3060fd262bfc"
      },
      "execution_count": null,
      "outputs": [
        {
          "output_type": "stream",
          "name": "stdout",
          "text": [
            "Training data r-squared:,0.6196723710532998\n",
            "Test data r-squared:0.5943782479239206\n"
          ]
        }
      ]
    },
    {
      "cell_type": "code",
      "source": [
        "# train check clean data\n",
        "regression = LinearRegression()\n",
        "regression.fit(X_train_clean,y_train_clean)\n",
        "\n",
        "# print out the results\n",
        "print(f'Training data r-squared:,{regression.score(X_train_clean, y_train_clean)}')\n",
        "print(f'Test data r-squared:{regression.score(X_test_clean, y_test_clean)}')"
      ],
      "metadata": {
        "colab": {
          "base_uri": "https://localhost:8080/"
        },
        "id": "n-IkvxiX1pE4",
        "outputId": "08191610-6323-4b5c-9a29-46125b462db9"
      },
      "execution_count": null,
      "outputs": [
        {
          "output_type": "stream",
          "name": "stdout",
          "text": [
            "Training data r-squared:,0.7745552036054404\n",
            "Test data r-squared:0.7550275284843796\n"
          ]
        }
      ]
    },
    {
      "cell_type": "code",
      "source": [
        "y_test_clean[10:13]"
      ],
      "metadata": {
        "colab": {
          "base_uri": "https://localhost:8080/"
        },
        "id": "gDDVxNPw4Ckh",
        "outputId": "b44e9700-84e1-4075-f9af-ae87a9cd5a70"
      },
      "execution_count": null,
      "outputs": [
        {
          "output_type": "execute_result",
          "data": {
            "text/plain": [
              "215    42.70\n",
              "628    41.68\n",
              "542    35.17\n",
              "Name: concrete_compressive_strength, dtype: float64"
            ]
          },
          "metadata": {},
          "execution_count": 16
        }
      ]
    },
    {
      "cell_type": "code",
      "source": [
        "# predict values for test data\n",
        "y_pred=regression.predict(X_test_clean[10:13])\n",
        "y_pred"
      ],
      "metadata": {
        "colab": {
          "base_uri": "https://localhost:8080/"
        },
        "id": "cc2UupQQ3M2n",
        "outputId": "344358bb-97ba-4d83-d3fc-6e1168389733"
      },
      "execution_count": null,
      "outputs": [
        {
          "output_type": "execute_result",
          "data": {
            "text/plain": [
              "array([36.52803633, 35.7358487 , 46.57107735])"
            ]
          },
          "metadata": {},
          "execution_count": 17
        }
      ]
    },
    {
      "cell_type": "markdown",
      "metadata": {
        "id": "zD1M9Hoi0SAc"
      },
      "source": [
        "###Decision Trees classification"
      ]
    },
    {
      "cell_type": "markdown",
      "metadata": {
        "id": "bZf22wX0S5ak"
      },
      "source": [
        "**Choosing the Best split**\n",
        "* The first challenge that a decision tree will face is to identify which feature to split upon.\n",
        "\n",
        "* We look for a way to split the data such that the resulting partitions contained examples primarily of a single class of target variable.\n",
        "\n",
        "* The degree to which a subset of examples contains only a single class is known as purity, and any subset composed of only a single class is called 100% pure.\n",
        "\n",
        "**Entropy is a measure of purity**\n",
        "* Sets with high Entropy are very diverse and provide little information about other items that may also belong in the set, as there is no apparent commonality.  The decision tree hopes to find splits that reduce entropy, ultimately increasing homogeneity within the groups.\n",
        "\n",
        "* The **information gain** for a feature F is calculated as the difference between the entropy in the segment before the split (S1) and the partitions resulting from the split (S2)\n",
        "\n",
        "* Decision trees use information gain for splitting on numeric features as well. To do so, a common practice is to test various splits that divide the values into groups greater than or less than a numeric threshold.\n",
        "\n",
        "* This reduces the numeric feature into a two-level categorical feature that allows information gain to be calculated as usual. The numeric cut point yielding the largest information gain is chosen for the split.\n",
        "\n",
        "* A decision tree can continue to grow indefinitely, choosing splitting features and dividing the data into smaller and smaller partitions until each example is perfectly classified or the algorithm runs out of features to split on.\n",
        "\n",
        "* However, if the tree grows overly large, many of the decisions it makes will be overly specific and the model will be overfitted to the training data. The process of pruning a decision tree involves reducing its size such that it generalizes better to unseen data\n",
        "\n",
        "* One solution to this problem is to stop the tree from growing once it reaches a certain number of decisions or when the decision nodes contain only a small number of examples. This is called early stopping or pre-pruning the decision tree.\n",
        "\n",
        "* An alternative, called post-pruning, involves growing a tree that is intentionally too large and pruning leaf nodes to reduce the size of the tree to a more appropriate level.\n",
        "Pruning the tree later on allows the algorithm to be certain that all the important data structures were discovered.\n"
      ]
    },
    {
      "cell_type": "markdown",
      "metadata": {
        "id": "TjiQAyQq0xDp"
      },
      "source": [
        "----------\n",
        "**Gini**\n",
        "\n",
        "* Both Gini Impurity and Entropy are criteria to split a node in a decision tree. They are standard metrics to compute “impurity”. They guide to split a node in the decision tree only based on the information that exists at that node.\n",
        "\n",
        "* Gini is intended for continuous attributes, and Entropy for attributes that occur in classes.\n"
      ]
    },
    {
      "cell_type": "code",
      "metadata": {
        "id": "UtHQVrL57B49",
        "colab": {
          "base_uri": "https://localhost:8080/",
          "height": 281
        },
        "outputId": "825e43df-058d-4770-e072-4f73cd68fc35"
      },
      "source": [
        "# Simple example\n",
        "import pandas as pd\n",
        "from sklearn import tree\n",
        "from sklearn.model_selection import GridSearchCV\n",
        "\n",
        "df = pd.read_excel('fit.xlsx')\n",
        "print(df)\n",
        "\n",
        "from sklearn.model_selection import train_test_split\n",
        "\n",
        "y = df['type']\n",
        "x = df.drop(['type'], axis=1)\n",
        "X_train, X_test, y_train, y_test = train_test_split(x, y, test_size=0.2, random_state=2)\n",
        "\n",
        "parameters = {'criterion':('gini', 'entropy'),\n",
        "              }\n",
        "\n",
        "tr = tree.DecisionTreeClassifier()\n",
        "gsearch = GridSearchCV(tr, parameters)\n",
        "gsearch.fit(X_train, y_train)\n",
        "model = gsearch.best_estimator_\n",
        "model.criterion"
      ],
      "execution_count": null,
      "outputs": [
        {
          "output_type": "stream",
          "name": "stdout",
          "text": [
            "   Age  Lot_of_Pizza  Exercise   type\n",
            "0   25             1         1    Fit\n",
            "1   29             1         1    Fit\n",
            "2   31             0         1    Fit\n",
            "3   33             0         1    Fit\n",
            "4   28             0         1    Fit\n",
            "5   33             1         0  Unfit\n",
            "6   32             1         0  Unfit\n",
            "7   25             1         1    Fit\n",
            "8   29             1         1  Unfit\n",
            "9   31             0         1    Fit\n"
          ]
        },
        {
          "output_type": "stream",
          "name": "stderr",
          "text": [
            "/usr/local/lib/python3.10/dist-packages/sklearn/model_selection/_split.py:700: UserWarning: The least populated class in y has only 3 members, which is less than n_splits=5.\n",
            "  warnings.warn(\n"
          ]
        },
        {
          "output_type": "execute_result",
          "data": {
            "text/plain": [
              "'gini'"
            ],
            "application/vnd.google.colaboratory.intrinsic+json": {
              "type": "string"
            }
          },
          "metadata": {},
          "execution_count": 12
        }
      ]
    },
    {
      "cell_type": "code",
      "metadata": {
        "id": "KwpBENdo71uM",
        "colab": {
          "base_uri": "https://localhost:8080/"
        },
        "outputId": "09c50ea6-2b28-4e76-ff8f-476f41a9deda"
      },
      "source": [
        "score = model.score(X_test, y_test)\n",
        "score"
      ],
      "execution_count": null,
      "outputs": [
        {
          "output_type": "execute_result",
          "data": {
            "text/plain": [
              "1.0"
            ]
          },
          "metadata": {},
          "execution_count": 4
        }
      ]
    },
    {
      "cell_type": "code",
      "metadata": {
        "colab": {
          "base_uri": "https://localhost:8080/"
        },
        "id": "kLROOfuf731f",
        "outputId": "b9ed6bda-e6bd-4285-97dc-8b439422f305"
      },
      "source": [
        "X_train, y_train"
      ],
      "execution_count": null,
      "outputs": [
        {
          "output_type": "execute_result",
          "data": {
            "text/plain": [
              "(   Age  Lot_of_Pizza  Exercise\n",
              " 5   33             1         0\n",
              " 0   25             1         1\n",
              " 7   25             1         1\n",
              " 2   31             0         1\n",
              " 3   33             0         1\n",
              " 6   32             1         0\n",
              " 9   31             0         1\n",
              " 8   29             1         1,\n",
              " 5    Unfit\n",
              " 0      Fit\n",
              " 7      Fit\n",
              " 2      Fit\n",
              " 3      Fit\n",
              " 6    Unfit\n",
              " 9      Fit\n",
              " 8    Unfit\n",
              " Name: type, dtype: object)"
            ]
          },
          "metadata": {},
          "execution_count": 9
        }
      ]
    },
    {
      "cell_type": "code",
      "metadata": {
        "colab": {
          "base_uri": "https://localhost:8080/"
        },
        "id": "zemZYVmn_Q35",
        "outputId": "6281ae33-1ec4-496d-deea-dcc07c3ae9f2"
      },
      "source": [
        "X_test, y_test"
      ],
      "execution_count": null,
      "outputs": [
        {
          "output_type": "execute_result",
          "data": {
            "text/plain": [
              "(   Age  Lot_of_Pizza  Exercise\n",
              " 4   28             0         1\n",
              " 1   29             1         1,\n",
              " 4    Fit\n",
              " 1    Fit\n",
              " Name: type, dtype: object)"
            ]
          },
          "metadata": {},
          "execution_count": 10
        }
      ]
    },
    {
      "cell_type": "code",
      "metadata": {
        "id": "7N4U30X472l0",
        "colab": {
          "base_uri": "https://localhost:8080/",
          "height": 422
        },
        "outputId": "d7b41d66-7fec-456d-e90f-e7689d0e0240"
      },
      "source": [
        "# decision tree visualization\n",
        "import matplotlib.pyplot as plt\n",
        "from sklearn import tree\n",
        "\n",
        "plt.figure(figsize=(5,5))\n",
        "tree.plot_tree(model, filled=True, node_ids=True)\n",
        "plt.show()"
      ],
      "execution_count": null,
      "outputs": [
        {
          "output_type": "display_data",
          "data": {
            "text/plain": [
              "<Figure size 500x500 with 1 Axes>"
            ],
            "image/png": "[encoded data removed]"
          },
          "metadata": {}
        }
      ]
    },
    {
      "cell_type": "code",
      "metadata": {
        "id": "nZppgV61CKrW",
        "colab": {
          "base_uri": "https://localhost:8080/",
          "height": 351
        },
        "outputId": "095ed509-c766-4462-8a84-cd671567fec8"
      },
      "source": [
        "# Bigger example\n",
        "import numpy as np\n",
        "import pandas as pd\n",
        "\n",
        "# Mushroom dataset by Jeff Schlimmer of Carnegie Mellon University.\n",
        "# The raw dataset is available freely at the UCI Machine Learning Repository\n",
        "# (https://www.kaggle.com/uciml/mushroom-classification).\n",
        "\n",
        "df = pd.read_csv('mushrooms.csv')\n",
        "df.head()"
      ],
      "execution_count": null,
      "outputs": [
        {
          "output_type": "execute_result",
          "data": {
            "text/plain": [
              "  class cap-shape cap-surface cap-color bruises odor gill-attachment  \\\n",
              "0     p         x           s         n       t    p               f   \n",
              "1     e         x           s         y       t    a               f   \n",
              "2     e         b           s         w       t    l               f   \n",
              "3     p         x           y         w       t    p               f   \n",
              "4     e         x           s         g       f    n               f   \n",
              "\n",
              "  gill-spacing gill-size gill-color  ... stalk-surface-below-ring  \\\n",
              "0            c         n          k  ...                        s   \n",
              "1            c         b          k  ...                        s   \n",
              "2            c         b          n  ...                        s   \n",
              "3            c         n          n  ...                        s   \n",
              "4            w         b          k  ...                        s   \n",
              "\n",
              "  stalk-color-above-ring stalk-color-below-ring veil-type veil-color  \\\n",
              "0                      w                      w         p          w   \n",
              "1                      w                      w         p          w   \n",
              "2                      w                      w         p          w   \n",
              "3                      w                      w         p          w   \n",
              "4                      w                      w         p          w   \n",
              "\n",
              "  ring-number ring-type spore-print-color population habitat  \n",
              "0           o         p                 k          s       u  \n",
              "1           o         p                 n          n       g  \n",
              "2           o         p                 n          n       m  \n",
              "3           o         p                 k          s       u  \n",
              "4           o         e                 n          a       g  \n",
              "\n",
              "[5 rows x 23 columns]"
            ],
            "text/html": [
              "\n",
              "  <div id=\"df-991d161b-6207-41f8-a71e-e07f6f9f7cec\">\n",
              "    <div class=\"colab-df-container\">\n",
              "      <div>\n",
              "<style scoped>\n",
              "    .dataframe tbody tr th:only-of-type {\n",
              "        vertical-align: middle;\n",
              "    }\n",
              "\n",
              "    .dataframe tbody tr th {\n",
              "        vertical-align: top;\n",
              "    }\n",
              "\n",
              "    .dataframe thead th {\n",
              "        text-align: right;\n",
              "    }\n",
              "</style>\n",
              "<table border=\"1\" class=\"dataframe\">\n",
              "  <thead>\n",
              "    <tr style=\"text-align: right;\">\n",
              "      <th></th>\n",
              "      <th>class</th>\n",
              "      <th>cap-shape</th>\n",
              "      <th>cap-surface</th>\n",
              "      <th>cap-color</th>\n",
              "      <th>bruises</th>\n",
              "      <th>odor</th>\n",
              "      <th>gill-attachment</th>\n",
              "      <th>gill-spacing</th>\n",
              "      <th>gill-size</th>\n",
              "      <th>gill-color</th>\n",
              "      <th>...</th>\n",
              "      <th>stalk-surface-below-ring</th>\n",
              "      <th>stalk-color-above-ring</th>\n",
              "      <th>stalk-color-below-ring</th>\n",
              "      <th>veil-type</th>\n",
              "      <th>veil-color</th>\n",
              "      <th>ring-number</th>\n",
              "      <th>ring-type</th>\n",
              "      <th>spore-print-color</th>\n",
              "      <th>population</th>\n",
              "      <th>habitat</th>\n",
              "    </tr>\n",
              "  </thead>\n",
              "  <tbody>\n",
              "    <tr>\n",
              "      <th>0</th>\n",
              "      <td>p</td>\n",
              "      <td>x</td>\n",
              "      <td>s</td>\n",
              "      <td>n</td>\n",
              "      <td>t</td>\n",
              "      <td>p</td>\n",
              "      <td>f</td>\n",
              "      <td>c</td>\n",
              "      <td>n</td>\n",
              "      <td>k</td>\n",
              "      <td>...</td>\n",
              "      <td>s</td>\n",
              "      <td>w</td>\n",
              "      <td>w</td>\n",
              "      <td>p</td>\n",
              "      <td>w</td>\n",
              "      <td>o</td>\n",
              "      <td>p</td>\n",
              "      <td>k</td>\n",
              "      <td>s</td>\n",
              "      <td>u</td>\n",
              "    </tr>\n",
              "    <tr>\n",
              "      <th>1</th>\n",
              "      <td>e</td>\n",
              "      <td>x</td>\n",
              "      <td>s</td>\n",
              "      <td>y</td>\n",
              "      <td>t</td>\n",
              "      <td>a</td>\n",
              "      <td>f</td>\n",
              "      <td>c</td>\n",
              "      <td>b</td>\n",
              "      <td>k</td>\n",
              "      <td>...</td>\n",
              "      <td>s</td>\n",
              "      <td>w</td>\n",
              "      <td>w</td>\n",
              "      <td>p</td>\n",
              "      <td>w</td>\n",
              "      <td>o</td>\n",
              "      <td>p</td>\n",
              "      <td>n</td>\n",
              "      <td>n</td>\n",
              "      <td>g</td>\n",
              "    </tr>\n",
              "    <tr>\n",
              "      <th>2</th>\n",
              "      <td>e</td>\n",
              "      <td>b</td>\n",
              "      <td>s</td>\n",
              "      <td>w</td>\n",
              "      <td>t</td>\n",
              "      <td>l</td>\n",
              "      <td>f</td>\n",
              "      <td>c</td>\n",
              "      <td>b</td>\n",
              "      <td>n</td>\n",
              "      <td>...</td>\n",
              "      <td>s</td>\n",
              "      <td>w</td>\n",
              "      <td>w</td>\n",
              "      <td>p</td>\n",
              "      <td>w</td>\n",
              "      <td>o</td>\n",
              "      <td>p</td>\n",
              "      <td>n</td>\n",
              "      <td>n</td>\n",
              "      <td>m</td>\n",
              "    </tr>\n",
              "    <tr>\n",
              "      <th>3</th>\n",
              "      <td>p</td>\n",
              "      <td>x</td>\n",
              "      <td>y</td>\n",
              "      <td>w</td>\n",
              "      <td>t</td>\n",
              "      <td>p</td>\n",
              "      <td>f</td>\n",
              "      <td>c</td>\n",
              "      <td>n</td>\n",
              "      <td>n</td>\n",
              "      <td>...</td>\n",
              "      <td>s</td>\n",
              "      <td>w</td>\n",
              "      <td>w</td>\n",
              "      <td>p</td>\n",
              "      <td>w</td>\n",
              "      <td>o</td>\n",
              "      <td>p</td>\n",
              "      <td>k</td>\n",
              "      <td>s</td>\n",
              "      <td>u</td>\n",
              "    </tr>\n",
              "    <tr>\n",
              "      <th>4</th>\n",
              "      <td>e</td>\n",
              "      <td>x</td>\n",
              "      <td>s</td>\n",
              "      <td>g</td>\n",
              "      <td>f</td>\n",
              "      <td>n</td>\n",
              "      <td>f</td>\n",
              "      <td>w</td>\n",
              "      <td>b</td>\n",
              "      <td>k</td>\n",
              "      <td>...</td>\n",
              "      <td>s</td>\n",
              "      <td>w</td>\n",
              "      <td>w</td>\n",
              "      <td>p</td>\n",
              "      <td>w</td>\n",
              "      <td>o</td>\n",
              "      <td>e</td>\n",
              "      <td>n</td>\n",
              "      <td>a</td>\n",
              "      <td>g</td>\n",
              "    </tr>\n",
              "  </tbody>\n",
              "</table>\n",
              "<p>5 rows × 23 columns</p>\n",
              "</div>\n",
              "      <button class=\"colab-df-convert\" onclick=\"convertToInteractive('df-991d161b-6207-41f8-a71e-e07f6f9f7cec')\"\n",
              "              title=\"Convert this dataframe to an interactive table.\"\n",
              "              style=\"display:none;\">\n",
              "        \n",
              "  <svg xmlns=\"http://www.w3.org/2000/svg\" height=\"24px\"viewBox=\"0 0 24 24\"\n",
              "       width=\"24px\">\n",
              "    <path d=\"M0 0h24v24H0V0z\" fill=\"none\"/>\n",
              "    <path d=\"M18.56 5.44l.94 2.06.94-2.06 2.06-.94-2.06-.94-.94-2.06-.94 2.06-2.06.94zm-11 1L8.5 8.5l.94-2.06 2.06-.94-2.06-.94L8.5 2.5l-.94 2.06-2.06.94zm10 10l.94 2.06.94-2.06 2.06-.94-2.06-.94-.94-2.06-.94 2.06-2.06.94z\"/><path d=\"M17.41 7.96l-1.37-1.37c-.4-.4-.92-.59-1.43-.59-.52 0-1.04.2-1.43.59L10.3 9.45l-7.72 7.72c-.78.78-.78 2.05 0 2.83L4 21.41c.39.39.9.59 1.41.59.51 0 1.02-.2 1.41-.59l7.78-7.78 2.81-2.81c.8-.78.8-2.07 0-2.86zM5.41 20L4 18.59l7.72-7.72 1.47 1.35L5.41 20z\"/>\n",
              "  </svg>\n",
              "      </button>\n",
              "      \n",
              "  <style>\n",
              "    .colab-df-container {\n",
              "      display:flex;\n",
              "      flex-wrap:wrap;\n",
              "      gap: 12px;\n",
              "    }\n",
              "\n",
              "    .colab-df-convert {\n",
              "      background-color: #E8F0FE;\n",
              "      border: none;\n",
              "      border-radius: 50%;\n",
              "      cursor: pointer;\n",
              "      display: none;\n",
              "      fill: #1967D2;\n",
              "      height: 32px;\n",
              "      padding: 0 0 0 0;\n",
              "      width: 32px;\n",
              "    }\n",
              "\n",
              "    .colab-df-convert:hover {\n",
              "      background-color: #E2EBFA;\n",
              "      box-shadow: 0px 1px 2px rgba(60, 64, 67, 0.3), 0px 1px 3px 1px rgba(60, 64, 67, 0.15);\n",
              "      fill: #174EA6;\n",
              "    }\n",
              "\n",
              "    [theme=dark] .colab-df-convert {\n",
              "      background-color: #3B4455;\n",
              "      fill: #D2E3FC;\n",
              "    }\n",
              "\n",
              "    [theme=dark] .colab-df-convert:hover {\n",
              "      background-color: #434B5C;\n",
              "      box-shadow: 0px 1px 3px 1px rgba(0, 0, 0, 0.15);\n",
              "      filter: drop-shadow(0px 1px 2px rgba(0, 0, 0, 0.3));\n",
              "      fill: #FFFFFF;\n",
              "    }\n",
              "  </style>\n",
              "\n",
              "      <script>\n",
              "        const buttonEl =\n",
              "          document.querySelector('#df-991d161b-6207-41f8-a71e-e07f6f9f7cec button.colab-df-convert');\n",
              "        buttonEl.style.display =\n",
              "          google.colab.kernel.accessAllowed ? 'block' : 'none';\n",
              "\n",
              "        async function convertToInteractive(key) {\n",
              "          const element = document.querySelector('#df-991d161b-6207-41f8-a71e-e07f6f9f7cec');\n",
              "          const dataTable =\n",
              "            await google.colab.kernel.invokeFunction('convertToInteractive',\n",
              "                                                     [key], {});\n",
              "          if (!dataTable) return;\n",
              "\n",
              "          const docLinkHtml = 'Like what you see? Visit the ' +\n",
              "            '<a target=\"_blank\" href=https://colab.research.google.com/notebooks/data_table.ipynb>data table notebook</a>'\n",
              "            + ' to learn more about interactive tables.';\n",
              "          element.innerHTML = '';\n",
              "          dataTable['output_type'] = 'display_data';\n",
              "          await google.colab.output.renderOutput(dataTable, element);\n",
              "          const docLink = document.createElement('div');\n",
              "          docLink.innerHTML = docLinkHtml;\n",
              "          element.appendChild(docLink);\n",
              "        }\n",
              "      </script>\n",
              "    </div>\n",
              "  </div>\n",
              "  "
            ]
          },
          "metadata": {},
          "execution_count": 1
        }
      ]
    },
    {
      "cell_type": "code",
      "metadata": {
        "id": "NdT1rcRLEIYM",
        "colab": {
          "base_uri": "https://localhost:8080/"
        },
        "outputId": "4db8a019-ffbb-4001-8eb6-ea2c75e87f3c"
      },
      "source": [
        "from sklearn.model_selection import train_test_split\n",
        "\n",
        "y = df['class']\n",
        "x = df.drop(['class'], axis=1)\n",
        "x = pd.get_dummies(x)\n",
        "y = pd.get_dummies(y)\n",
        "print(x.info())\n",
        "print(y.info())"
      ],
      "execution_count": null,
      "outputs": [
        {
          "output_type": "stream",
          "name": "stdout",
          "text": [
            "<class 'pandas.core.frame.DataFrame'>\n",
            "RangeIndex: 8124 entries, 0 to 8123\n",
            "Columns: 117 entries, cap-shape_b to habitat_w\n",
            "dtypes: uint8(117)\n",
            "memory usage: 928.4 KB\n",
            "None\n",
            "<class 'pandas.core.frame.DataFrame'>\n",
            "RangeIndex: 8124 entries, 0 to 8123\n",
            "Data columns (total 2 columns):\n",
            " #   Column  Non-Null Count  Dtype\n",
            "---  ------  --------------  -----\n",
            " 0   e       8124 non-null   uint8\n",
            " 1   p       8124 non-null   uint8\n",
            "dtypes: uint8(2)\n",
            "memory usage: 16.0 KB\n",
            "None\n"
          ]
        }
      ]
    },
    {
      "cell_type": "code",
      "metadata": {
        "id": "VZZaU0MGH8kS",
        "colab": {
          "base_uri": "https://localhost:8080/",
          "height": 505
        },
        "outputId": "3ab3e96e-7512-499f-dd03-0d55888f8326"
      },
      "source": [
        "x"
      ],
      "execution_count": null,
      "outputs": [
        {
          "output_type": "execute_result",
          "data": {
            "text/plain": [
              "      cap-shape_b  cap-shape_c  cap-shape_f  cap-shape_k  cap-shape_s  \\\n",
              "0               0            0            0            0            0   \n",
              "1               0            0            0            0            0   \n",
              "2               1            0            0            0            0   \n",
              "3               0            0            0            0            0   \n",
              "4               0            0            0            0            0   \n",
              "...           ...          ...          ...          ...          ...   \n",
              "8119            0            0            0            1            0   \n",
              "8120            0            0            0            0            0   \n",
              "8121            0            0            1            0            0   \n",
              "8122            0            0            0            1            0   \n",
              "8123            0            0            0            0            0   \n",
              "\n",
              "      cap-shape_x  cap-surface_f  cap-surface_g  cap-surface_s  cap-surface_y  \\\n",
              "0               1              0              0              1              0   \n",
              "1               1              0              0              1              0   \n",
              "2               0              0              0              1              0   \n",
              "3               1              0              0              0              1   \n",
              "4               1              0              0              1              0   \n",
              "...           ...            ...            ...            ...            ...   \n",
              "8119            0              0              0              1              0   \n",
              "8120            1              0              0              1              0   \n",
              "8121            0              0              0              1              0   \n",
              "8122            0              0              0              0              1   \n",
              "8123            1              0              0              1              0   \n",
              "\n",
              "      ...  population_s  population_v  population_y  habitat_d  habitat_g  \\\n",
              "0     ...             1             0             0          0          0   \n",
              "1     ...             0             0             0          0          1   \n",
              "2     ...             0             0             0          0          0   \n",
              "3     ...             1             0             0          0          0   \n",
              "4     ...             0             0             0          0          1   \n",
              "...   ...           ...           ...           ...        ...        ...   \n",
              "8119  ...             0             0             0          0          0   \n",
              "8120  ...             0             1             0          0          0   \n",
              "8121  ...             0             0             0          0          0   \n",
              "8122  ...             0             1             0          0          0   \n",
              "8123  ...             0             0             0          0          0   \n",
              "\n",
              "      habitat_l  habitat_m  habitat_p  habitat_u  habitat_w  \n",
              "0             0          0          0          1          0  \n",
              "1             0          0          0          0          0  \n",
              "2             0          1          0          0          0  \n",
              "3             0          0          0          1          0  \n",
              "4             0          0          0          0          0  \n",
              "...         ...        ...        ...        ...        ...  \n",
              "8119          1          0          0          0          0  \n",
              "8120          1          0          0          0          0  \n",
              "8121          1          0          0          0          0  \n",
              "8122          1          0          0          0          0  \n",
              "8123          1          0          0          0          0  \n",
              "\n",
              "[8124 rows x 117 columns]"
            ],
            "text/html": [
              "\n",
              "  <div id=\"df-382c5e9a-0229-44b6-93c0-67a68598fab4\">\n",
              "    <div class=\"colab-df-container\">\n",
              "      <div>\n",
              "<style scoped>\n",
              "    .dataframe tbody tr th:only-of-type {\n",
              "        vertical-align: middle;\n",
              "    }\n",
              "\n",
              "    .dataframe tbody tr th {\n",
              "        vertical-align: top;\n",
              "    }\n",
              "\n",
              "    .dataframe thead th {\n",
              "        text-align: right;\n",
              "    }\n",
              "</style>\n",
              "<table border=\"1\" class=\"dataframe\">\n",
              "  <thead>\n",
              "    <tr style=\"text-align: right;\">\n",
              "      <th></th>\n",
              "      <th>cap-shape_b</th>\n",
              "      <th>cap-shape_c</th>\n",
              "      <th>cap-shape_f</th>\n",
              "      <th>cap-shape_k</th>\n",
              "      <th>cap-shape_s</th>\n",
              "      <th>cap-shape_x</th>\n",
              "      <th>cap-surface_f</th>\n",
              "      <th>cap-surface_g</th>\n",
              "      <th>cap-surface_s</th>\n",
              "      <th>cap-surface_y</th>\n",
              "      <th>...</th>\n",
              "      <th>population_s</th>\n",
              "      <th>population_v</th>\n",
              "      <th>population_y</th>\n",
              "      <th>habitat_d</th>\n",
              "      <th>habitat_g</th>\n",
              "      <th>habitat_l</th>\n",
              "      <th>habitat_m</th>\n",
              "      <th>habitat_p</th>\n",
              "      <th>habitat_u</th>\n",
              "      <th>habitat_w</th>\n",
              "    </tr>\n",
              "  </thead>\n",
              "  <tbody>\n",
              "    <tr>\n",
              "      <th>0</th>\n",
              "      <td>0</td>\n",
              "      <td>0</td>\n",
              "      <td>0</td>\n",
              "      <td>0</td>\n",
              "      <td>0</td>\n",
              "      <td>1</td>\n",
              "      <td>0</td>\n",
              "      <td>0</td>\n",
              "      <td>1</td>\n",
              "      <td>0</td>\n",
              "      <td>...</td>\n",
              "      <td>1</td>\n",
              "      <td>0</td>\n",
              "      <td>0</td>\n",
              "      <td>0</td>\n",
              "      <td>0</td>\n",
              "      <td>0</td>\n",
              "      <td>0</td>\n",
              "      <td>0</td>\n",
              "      <td>1</td>\n",
              "      <td>0</td>\n",
              "    </tr>\n",
              "    <tr>\n",
              "      <th>1</th>\n",
              "      <td>0</td>\n",
              "      <td>0</td>\n",
              "      <td>0</td>\n",
              "      <td>0</td>\n",
              "      <td>0</td>\n",
              "      <td>1</td>\n",
              "      <td>0</td>\n",
              "      <td>0</td>\n",
              "      <td>1</td>\n",
              "      <td>0</td>\n",
              "      <td>...</td>\n",
              "      <td>0</td>\n",
              "      <td>0</td>\n",
              "      <td>0</td>\n",
              "      <td>0</td>\n",
              "      <td>1</td>\n",
              "      <td>0</td>\n",
              "      <td>0</td>\n",
              "      <td>0</td>\n",
              "      <td>0</td>\n",
              "      <td>0</td>\n",
              "    </tr>\n",
              "    <tr>\n",
              "      <th>2</th>\n",
              "      <td>1</td>\n",
              "      <td>0</td>\n",
              "      <td>0</td>\n",
              "      <td>0</td>\n",
              "      <td>0</td>\n",
              "      <td>0</td>\n",
              "      <td>0</td>\n",
              "      <td>0</td>\n",
              "      <td>1</td>\n",
              "      <td>0</td>\n",
              "      <td>...</td>\n",
              "      <td>0</td>\n",
              "      <td>0</td>\n",
              "      <td>0</td>\n",
              "      <td>0</td>\n",
              "      <td>0</td>\n",
              "      <td>0</td>\n",
              "      <td>1</td>\n",
              "      <td>0</td>\n",
              "      <td>0</td>\n",
              "      <td>0</td>\n",
              "    </tr>\n",
              "    <tr>\n",
              "      <th>3</th>\n",
              "      <td>0</td>\n",
              "      <td>0</td>\n",
              "      <td>0</td>\n",
              "      <td>0</td>\n",
              "      <td>0</td>\n",
              "      <td>1</td>\n",
              "      <td>0</td>\n",
              "      <td>0</td>\n",
              "      <td>0</td>\n",
              "      <td>1</td>\n",
              "      <td>...</td>\n",
              "      <td>1</td>\n",
              "      <td>0</td>\n",
              "      <td>0</td>\n",
              "      <td>0</td>\n",
              "      <td>0</td>\n",
              "      <td>0</td>\n",
              "      <td>0</td>\n",
              "      <td>0</td>\n",
              "      <td>1</td>\n",
              "      <td>0</td>\n",
              "    </tr>\n",
              "    <tr>\n",
              "      <th>4</th>\n",
              "      <td>0</td>\n",
              "      <td>0</td>\n",
              "      <td>0</td>\n",
              "      <td>0</td>\n",
              "      <td>0</td>\n",
              "      <td>1</td>\n",
              "      <td>0</td>\n",
              "      <td>0</td>\n",
              "      <td>1</td>\n",
              "      <td>0</td>\n",
              "      <td>...</td>\n",
              "      <td>0</td>\n",
              "      <td>0</td>\n",
              "      <td>0</td>\n",
              "      <td>0</td>\n",
              "      <td>1</td>\n",
              "      <td>0</td>\n",
              "      <td>0</td>\n",
              "      <td>0</td>\n",
              "      <td>0</td>\n",
              "      <td>0</td>\n",
              "    </tr>\n",
              "    <tr>\n",
              "      <th>...</th>\n",
              "      <td>...</td>\n",
              "      <td>...</td>\n",
              "      <td>...</td>\n",
              "      <td>...</td>\n",
              "      <td>...</td>\n",
              "      <td>...</td>\n",
              "      <td>...</td>\n",
              "      <td>...</td>\n",
              "      <td>...</td>\n",
              "      <td>...</td>\n",
              "      <td>...</td>\n",
              "      <td>...</td>\n",
              "      <td>...</td>\n",
              "      <td>...</td>\n",
              "      <td>...</td>\n",
              "      <td>...</td>\n",
              "      <td>...</td>\n",
              "      <td>...</td>\n",
              "      <td>...</td>\n",
              "      <td>...</td>\n",
              "      <td>...</td>\n",
              "    </tr>\n",
              "    <tr>\n",
              "      <th>8119</th>\n",
              "      <td>0</td>\n",
              "      <td>0</td>\n",
              "      <td>0</td>\n",
              "      <td>1</td>\n",
              "      <td>0</td>\n",
              "      <td>0</td>\n",
              "      <td>0</td>\n",
              "      <td>0</td>\n",
              "      <td>1</td>\n",
              "      <td>0</td>\n",
              "      <td>...</td>\n",
              "      <td>0</td>\n",
              "      <td>0</td>\n",
              "      <td>0</td>\n",
              "      <td>0</td>\n",
              "      <td>0</td>\n",
              "      <td>1</td>\n",
              "      <td>0</td>\n",
              "      <td>0</td>\n",
              "      <td>0</td>\n",
              "      <td>0</td>\n",
              "    </tr>\n",
              "    <tr>\n",
              "      <th>8120</th>\n",
              "      <td>0</td>\n",
              "      <td>0</td>\n",
              "      <td>0</td>\n",
              "      <td>0</td>\n",
              "      <td>0</td>\n",
              "      <td>1</td>\n",
              "      <td>0</td>\n",
              "      <td>0</td>\n",
              "      <td>1</td>\n",
              "      <td>0</td>\n",
              "      <td>...</td>\n",
              "      <td>0</td>\n",
              "      <td>1</td>\n",
              "      <td>0</td>\n",
              "      <td>0</td>\n",
              "      <td>0</td>\n",
              "      <td>1</td>\n",
              "      <td>0</td>\n",
              "      <td>0</td>\n",
              "      <td>0</td>\n",
              "      <td>0</td>\n",
              "    </tr>\n",
              "    <tr>\n",
              "      <th>8121</th>\n",
              "      <td>0</td>\n",
              "      <td>0</td>\n",
              "      <td>1</td>\n",
              "      <td>0</td>\n",
              "      <td>0</td>\n",
              "      <td>0</td>\n",
              "      <td>0</td>\n",
              "      <td>0</td>\n",
              "      <td>1</td>\n",
              "      <td>0</td>\n",
              "      <td>...</td>\n",
              "      <td>0</td>\n",
              "      <td>0</td>\n",
              "      <td>0</td>\n",
              "      <td>0</td>\n",
              "      <td>0</td>\n",
              "      <td>1</td>\n",
              "      <td>0</td>\n",
              "      <td>0</td>\n",
              "      <td>0</td>\n",
              "      <td>0</td>\n",
              "    </tr>\n",
              "    <tr>\n",
              "      <th>8122</th>\n",
              "      <td>0</td>\n",
              "      <td>0</td>\n",
              "      <td>0</td>\n",
              "      <td>1</td>\n",
              "      <td>0</td>\n",
              "      <td>0</td>\n",
              "      <td>0</td>\n",
              "      <td>0</td>\n",
              "      <td>0</td>\n",
              "      <td>1</td>\n",
              "      <td>...</td>\n",
              "      <td>0</td>\n",
              "      <td>1</td>\n",
              "      <td>0</td>\n",
              "      <td>0</td>\n",
              "      <td>0</td>\n",
              "      <td>1</td>\n",
              "      <td>0</td>\n",
              "      <td>0</td>\n",
              "      <td>0</td>\n",
              "      <td>0</td>\n",
              "    </tr>\n",
              "    <tr>\n",
              "      <th>8123</th>\n",
              "      <td>0</td>\n",
              "      <td>0</td>\n",
              "      <td>0</td>\n",
              "      <td>0</td>\n",
              "      <td>0</td>\n",
              "      <td>1</td>\n",
              "      <td>0</td>\n",
              "      <td>0</td>\n",
              "      <td>1</td>\n",
              "      <td>0</td>\n",
              "      <td>...</td>\n",
              "      <td>0</td>\n",
              "      <td>0</td>\n",
              "      <td>0</td>\n",
              "      <td>0</td>\n",
              "      <td>0</td>\n",
              "      <td>1</td>\n",
              "      <td>0</td>\n",
              "      <td>0</td>\n",
              "      <td>0</td>\n",
              "      <td>0</td>\n",
              "    </tr>\n",
              "  </tbody>\n",
              "</table>\n",
              "<p>8124 rows × 117 columns</p>\n",
              "</div>\n",
              "      <button class=\"colab-df-convert\" onclick=\"convertToInteractive('df-382c5e9a-0229-44b6-93c0-67a68598fab4')\"\n",
              "              title=\"Convert this dataframe to an interactive table.\"\n",
              "              style=\"display:none;\">\n",
              "        \n",
              "  <svg xmlns=\"http://www.w3.org/2000/svg\" height=\"24px\"viewBox=\"0 0 24 24\"\n",
              "       width=\"24px\">\n",
              "    <path d=\"M0 0h24v24H0V0z\" fill=\"none\"/>\n",
              "    <path d=\"M18.56 5.44l.94 2.06.94-2.06 2.06-.94-2.06-.94-.94-2.06-.94 2.06-2.06.94zm-11 1L8.5 8.5l.94-2.06 2.06-.94-2.06-.94L8.5 2.5l-.94 2.06-2.06.94zm10 10l.94 2.06.94-2.06 2.06-.94-2.06-.94-.94-2.06-.94 2.06-2.06.94z\"/><path d=\"M17.41 7.96l-1.37-1.37c-.4-.4-.92-.59-1.43-.59-.52 0-1.04.2-1.43.59L10.3 9.45l-7.72 7.72c-.78.78-.78 2.05 0 2.83L4 21.41c.39.39.9.59 1.41.59.51 0 1.02-.2 1.41-.59l7.78-7.78 2.81-2.81c.8-.78.8-2.07 0-2.86zM5.41 20L4 18.59l7.72-7.72 1.47 1.35L5.41 20z\"/>\n",
              "  </svg>\n",
              "      </button>\n",
              "      \n",
              "  <style>\n",
              "    .colab-df-container {\n",
              "      display:flex;\n",
              "      flex-wrap:wrap;\n",
              "      gap: 12px;\n",
              "    }\n",
              "\n",
              "    .colab-df-convert {\n",
              "      background-color: #E8F0FE;\n",
              "      border: none;\n",
              "      border-radius: 50%;\n",
              "      cursor: pointer;\n",
              "      display: none;\n",
              "      fill: #1967D2;\n",
              "      height: 32px;\n",
              "      padding: 0 0 0 0;\n",
              "      width: 32px;\n",
              "    }\n",
              "\n",
              "    .colab-df-convert:hover {\n",
              "      background-color: #E2EBFA;\n",
              "      box-shadow: 0px 1px 2px rgba(60, 64, 67, 0.3), 0px 1px 3px 1px rgba(60, 64, 67, 0.15);\n",
              "      fill: #174EA6;\n",
              "    }\n",
              "\n",
              "    [theme=dark] .colab-df-convert {\n",
              "      background-color: #3B4455;\n",
              "      fill: #D2E3FC;\n",
              "    }\n",
              "\n",
              "    [theme=dark] .colab-df-convert:hover {\n",
              "      background-color: #434B5C;\n",
              "      box-shadow: 0px 1px 3px 1px rgba(0, 0, 0, 0.15);\n",
              "      filter: drop-shadow(0px 1px 2px rgba(0, 0, 0, 0.3));\n",
              "      fill: #FFFFFF;\n",
              "    }\n",
              "  </style>\n",
              "\n",
              "      <script>\n",
              "        const buttonEl =\n",
              "          document.querySelector('#df-382c5e9a-0229-44b6-93c0-67a68598fab4 button.colab-df-convert');\n",
              "        buttonEl.style.display =\n",
              "          google.colab.kernel.accessAllowed ? 'block' : 'none';\n",
              "\n",
              "        async function convertToInteractive(key) {\n",
              "          const element = document.querySelector('#df-382c5e9a-0229-44b6-93c0-67a68598fab4');\n",
              "          const dataTable =\n",
              "            await google.colab.kernel.invokeFunction('convertToInteractive',\n",
              "                                                     [key], {});\n",
              "          if (!dataTable) return;\n",
              "\n",
              "          const docLinkHtml = 'Like what you see? Visit the ' +\n",
              "            '<a target=\"_blank\" href=https://colab.research.google.com/notebooks/data_table.ipynb>data table notebook</a>'\n",
              "            + ' to learn more about interactive tables.';\n",
              "          element.innerHTML = '';\n",
              "          dataTable['output_type'] = 'display_data';\n",
              "          await google.colab.output.renderOutput(dataTable, element);\n",
              "          const docLink = document.createElement('div');\n",
              "          docLink.innerHTML = docLinkHtml;\n",
              "          element.appendChild(docLink);\n",
              "        }\n",
              "      </script>\n",
              "    </div>\n",
              "  </div>\n",
              "  "
            ]
          },
          "metadata": {},
          "execution_count": 3
        }
      ]
    },
    {
      "cell_type": "code",
      "metadata": {
        "id": "FLqe3a0JH_kd",
        "colab": {
          "base_uri": "https://localhost:8080/",
          "height": 423
        },
        "outputId": "ce096c37-0b45-46d1-d80f-d9cbecbd60d9"
      },
      "source": [
        "y"
      ],
      "execution_count": null,
      "outputs": [
        {
          "output_type": "execute_result",
          "data": {
            "text/plain": [
              "      e  p\n",
              "0     0  1\n",
              "1     1  0\n",
              "2     1  0\n",
              "3     0  1\n",
              "4     1  0\n",
              "...  .. ..\n",
              "8119  1  0\n",
              "8120  1  0\n",
              "8121  1  0\n",
              "8122  0  1\n",
              "8123  1  0\n",
              "\n",
              "[8124 rows x 2 columns]"
            ],
            "text/html": [
              "\n",
              "  <div id=\"df-944bfdd6-17f1-4640-8834-75b5373bdb79\">\n",
              "    <div class=\"colab-df-container\">\n",
              "      <div>\n",
              "<style scoped>\n",
              "    .dataframe tbody tr th:only-of-type {\n",
              "        vertical-align: middle;\n",
              "    }\n",
              "\n",
              "    .dataframe tbody tr th {\n",
              "        vertical-align: top;\n",
              "    }\n",
              "\n",
              "    .dataframe thead th {\n",
              "        text-align: right;\n",
              "    }\n",
              "</style>\n",
              "<table border=\"1\" class=\"dataframe\">\n",
              "  <thead>\n",
              "    <tr style=\"text-align: right;\">\n",
              "      <th></th>\n",
              "      <th>e</th>\n",
              "      <th>p</th>\n",
              "    </tr>\n",
              "  </thead>\n",
              "  <tbody>\n",
              "    <tr>\n",
              "      <th>0</th>\n",
              "      <td>0</td>\n",
              "      <td>1</td>\n",
              "    </tr>\n",
              "    <tr>\n",
              "      <th>1</th>\n",
              "      <td>1</td>\n",
              "      <td>0</td>\n",
              "    </tr>\n",
              "    <tr>\n",
              "      <th>2</th>\n",
              "      <td>1</td>\n",
              "      <td>0</td>\n",
              "    </tr>\n",
              "    <tr>\n",
              "      <th>3</th>\n",
              "      <td>0</td>\n",
              "      <td>1</td>\n",
              "    </tr>\n",
              "    <tr>\n",
              "      <th>4</th>\n",
              "      <td>1</td>\n",
              "      <td>0</td>\n",
              "    </tr>\n",
              "    <tr>\n",
              "      <th>...</th>\n",
              "      <td>...</td>\n",
              "      <td>...</td>\n",
              "    </tr>\n",
              "    <tr>\n",
              "      <th>8119</th>\n",
              "      <td>1</td>\n",
              "      <td>0</td>\n",
              "    </tr>\n",
              "    <tr>\n",
              "      <th>8120</th>\n",
              "      <td>1</td>\n",
              "      <td>0</td>\n",
              "    </tr>\n",
              "    <tr>\n",
              "      <th>8121</th>\n",
              "      <td>1</td>\n",
              "      <td>0</td>\n",
              "    </tr>\n",
              "    <tr>\n",
              "      <th>8122</th>\n",
              "      <td>0</td>\n",
              "      <td>1</td>\n",
              "    </tr>\n",
              "    <tr>\n",
              "      <th>8123</th>\n",
              "      <td>1</td>\n",
              "      <td>0</td>\n",
              "    </tr>\n",
              "  </tbody>\n",
              "</table>\n",
              "<p>8124 rows × 2 columns</p>\n",
              "</div>\n",
              "      <button class=\"colab-df-convert\" onclick=\"convertToInteractive('df-944bfdd6-17f1-4640-8834-75b5373bdb79')\"\n",
              "              title=\"Convert this dataframe to an interactive table.\"\n",
              "              style=\"display:none;\">\n",
              "        \n",
              "  <svg xmlns=\"http://www.w3.org/2000/svg\" height=\"24px\"viewBox=\"0 0 24 24\"\n",
              "       width=\"24px\">\n",
              "    <path d=\"M0 0h24v24H0V0z\" fill=\"none\"/>\n",
              "    <path d=\"M18.56 5.44l.94 2.06.94-2.06 2.06-.94-2.06-.94-.94-2.06-.94 2.06-2.06.94zm-11 1L8.5 8.5l.94-2.06 2.06-.94-2.06-.94L8.5 2.5l-.94 2.06-2.06.94zm10 10l.94 2.06.94-2.06 2.06-.94-2.06-.94-.94-2.06-.94 2.06-2.06.94z\"/><path d=\"M17.41 7.96l-1.37-1.37c-.4-.4-.92-.59-1.43-.59-.52 0-1.04.2-1.43.59L10.3 9.45l-7.72 7.72c-.78.78-.78 2.05 0 2.83L4 21.41c.39.39.9.59 1.41.59.51 0 1.02-.2 1.41-.59l7.78-7.78 2.81-2.81c.8-.78.8-2.07 0-2.86zM5.41 20L4 18.59l7.72-7.72 1.47 1.35L5.41 20z\"/>\n",
              "  </svg>\n",
              "      </button>\n",
              "      \n",
              "  <style>\n",
              "    .colab-df-container {\n",
              "      display:flex;\n",
              "      flex-wrap:wrap;\n",
              "      gap: 12px;\n",
              "    }\n",
              "\n",
              "    .colab-df-convert {\n",
              "      background-color: #E8F0FE;\n",
              "      border: none;\n",
              "      border-radius: 50%;\n",
              "      cursor: pointer;\n",
              "      display: none;\n",
              "      fill: #1967D2;\n",
              "      height: 32px;\n",
              "      padding: 0 0 0 0;\n",
              "      width: 32px;\n",
              "    }\n",
              "\n",
              "    .colab-df-convert:hover {\n",
              "      background-color: #E2EBFA;\n",
              "      box-shadow: 0px 1px 2px rgba(60, 64, 67, 0.3), 0px 1px 3px 1px rgba(60, 64, 67, 0.15);\n",
              "      fill: #174EA6;\n",
              "    }\n",
              "\n",
              "    [theme=dark] .colab-df-convert {\n",
              "      background-color: #3B4455;\n",
              "      fill: #D2E3FC;\n",
              "    }\n",
              "\n",
              "    [theme=dark] .colab-df-convert:hover {\n",
              "      background-color: #434B5C;\n",
              "      box-shadow: 0px 1px 3px 1px rgba(0, 0, 0, 0.15);\n",
              "      filter: drop-shadow(0px 1px 2px rgba(0, 0, 0, 0.3));\n",
              "      fill: #FFFFFF;\n",
              "    }\n",
              "  </style>\n",
              "\n",
              "      <script>\n",
              "        const buttonEl =\n",
              "          document.querySelector('#df-944bfdd6-17f1-4640-8834-75b5373bdb79 button.colab-df-convert');\n",
              "        buttonEl.style.display =\n",
              "          google.colab.kernel.accessAllowed ? 'block' : 'none';\n",
              "\n",
              "        async function convertToInteractive(key) {\n",
              "          const element = document.querySelector('#df-944bfdd6-17f1-4640-8834-75b5373bdb79');\n",
              "          const dataTable =\n",
              "            await google.colab.kernel.invokeFunction('convertToInteractive',\n",
              "                                                     [key], {});\n",
              "          if (!dataTable) return;\n",
              "\n",
              "          const docLinkHtml = 'Like what you see? Visit the ' +\n",
              "            '<a target=\"_blank\" href=https://colab.research.google.com/notebooks/data_table.ipynb>data table notebook</a>'\n",
              "            + ' to learn more about interactive tables.';\n",
              "          element.innerHTML = '';\n",
              "          dataTable['output_type'] = 'display_data';\n",
              "          await google.colab.output.renderOutput(dataTable, element);\n",
              "          const docLink = document.createElement('div');\n",
              "          docLink.innerHTML = docLinkHtml;\n",
              "          element.appendChild(docLink);\n",
              "        }\n",
              "      </script>\n",
              "    </div>\n",
              "  </div>\n",
              "  "
            ]
          },
          "metadata": {},
          "execution_count": 4
        }
      ]
    },
    {
      "cell_type": "code",
      "metadata": {
        "id": "WzCXF2C0E3fI",
        "colab": {
          "base_uri": "https://localhost:8080/"
        },
        "outputId": "ad766419-dea5-496e-ec7c-bbbca4f6d62e"
      },
      "source": [
        "from sklearn.model_selection import cross_val_score\n",
        "from sklearn import tree\n",
        "from sklearn.model_selection import GridSearchCV\n",
        "\n",
        "X_train, X_test, y_train, y_test = train_test_split(x, y, test_size=0.2, random_state=2)\n",
        "\n",
        "parameters = {'criterion':('gini', 'entropy'),\n",
        "              'min_samples_split':[2,3,4,5],\n",
        "              'max_depth':[9,10,11,12] # try with 3,4\n",
        "              }\n",
        "\n",
        "tr = tree.DecisionTreeClassifier()\n",
        "gsearch = GridSearchCV(tr, parameters)\n",
        "gsearch.fit(X_train, y_train)\n",
        "model = gsearch.best_estimator_\n",
        "print(model.criterion)\n",
        "print(model.min_samples_split)\n",
        "print(model.max_depth)"
      ],
      "execution_count": null,
      "outputs": [
        {
          "output_type": "stream",
          "name": "stdout",
          "text": [
            "gini\n",
            "2\n",
            "9\n"
          ]
        }
      ]
    },
    {
      "cell_type": "code",
      "metadata": {
        "id": "9IyDx5yrFWES",
        "colab": {
          "base_uri": "https://localhost:8080/"
        },
        "outputId": "a1dae404-41e2-4628-d659-80ca0897b419"
      },
      "source": [
        "y_pred=model.predict(X_test)\n",
        "score = model.score(X_test, y_test)\n",
        "print(score)\n",
        "y_pred"
      ],
      "execution_count": null,
      "outputs": [
        {
          "output_type": "stream",
          "name": "stdout",
          "text": [
            "1.0\n"
          ]
        },
        {
          "output_type": "execute_result",
          "data": {
            "text/plain": [
              "array([[1, 0],\n",
              "       [0, 1],\n",
              "       [1, 0],\n",
              "       ...,\n",
              "       [0, 1],\n",
              "       [0, 1],\n",
              "       [1, 0]], dtype=uint8)"
            ]
          },
          "metadata": {},
          "execution_count": 6
        }
      ]
    },
    {
      "cell_type": "code",
      "metadata": {
        "id": "9YmPI5KHGSzw",
        "colab": {
          "base_uri": "https://localhost:8080/",
          "height": 870
        },
        "outputId": "0aa972f3-40b8-4d6f-a622-d940b8a75cd9"
      },
      "source": [
        "# decision tree visulaization\n",
        "import matplotlib.pyplot as plt\n",
        "from sklearn import tree\n",
        "\n",
        "plt.figure(figsize=(15,15))\n",
        "tree.plot_tree(model, filled=True, node_ids=True)\n",
        "plt.show()"
      ],
      "execution_count": null,
      "outputs": [
        {
          "output_type": "display_data",
          "data": {
            "text/plain": [
              "<Figure size 1500x1500 with 1 Axes>"
            ],
            "image/png": "[encoded data removed]"
          },
          "metadata": {}
        }
      ]
    },
    {
      "cell_type": "markdown",
      "metadata": {
        "id": "fq57bw4AC3yk"
      },
      "source": [
        "\n",
        "### Ensemble methods"
      ]
    },
    {
      "cell_type": "markdown",
      "metadata": {
        "id": "GS93sRrvb1n4"
      },
      "source": [
        "**Max voting**\n",
        "* The max voting method is generally used for classification problems. In this technique, multiple models are used to make predictions for each data point. The predictions by each model are considered as a ‘vote’. The predictions which we get from the majority of the models are used as the final prediction.\n",
        "\n",
        "**Averaging**\n",
        "* Similar to the max voting technique, multiple predictions are made for each data point in averaging. In this method, we take an average of predictions from all the models and use it to make the final prediction. Averaging can be used for making predictions in regression problems or while calculating probabilities for classification problems.\n",
        "\n",
        "**Weighted average**\n",
        "* This is an extension of the averaging method. All models are assigned different weights defining the importance of each model for prediction.\n"
      ]
    },
    {
      "cell_type": "markdown",
      "metadata": {
        "id": "csq0MiLjcHaZ"
      },
      "source": [
        "\n",
        "\n",
        "---\n",
        "\n"
      ]
    },
    {
      "cell_type": "markdown",
      "metadata": {
        "id": "3cIIO6EdcIBN"
      },
      "source": [
        "**Bagging**\n",
        "* The idea behind bagging is combining the results of multiple models (for instance, all decision trees) to get a generalized result.\n",
        "* Bootstrapping is a sampling technique in which we create subsets of observations from the original dataset, with replacement.\n",
        "* Bagging (or Bootstrap Aggregating) technique uses these subsets (bags) to get a fair idea of the distribution (complete set).\n",
        "\n",
        "**Random forest**\n",
        "* Random Forest is another ensemble machine learning algorithm that follows the bagging technique. The base estimators in random forest are decision trees. Random forest randomly selects a set of features and rows which are used to decide the best split at each node of the decision tree.\n",
        "* Each individual tree in the random forest spits out a class prediction and the class with the most votes becomes our model’s prediction\n",
        "\n",
        "**Boosting**\n",
        "* If a data point is incorrectly predicted by the first model, and then the next (probably all models), will combining the predictions provide better results? Such situations are taken care of by boosting.\n",
        "* Boosting is a sequential process, where each subsequent model attempts to correct the errors of the previous model. The succeeding models are dependent on the previous model.\n"
      ]
    },
    {
      "cell_type": "code",
      "metadata": {
        "id": "Ruao_tE7CvY4",
        "colab": {
          "base_uri": "https://localhost:8080/"
        },
        "outputId": "f81ca585-3832-4b64-a8cc-3d1b14ae639c"
      },
      "source": [
        "# Bagging using multiple kinds of models\n",
        "import pandas\n",
        "from sklearn import model_selection\n",
        "from sklearn.ensemble import BaggingClassifier\n",
        "from sklearn.tree import DecisionTreeClassifier\n",
        "from sklearn.neighbors import KNeighborsClassifier\n",
        "from sklearn.naive_bayes import GaussianNB\n",
        "from sklearn.svm import SVC\n",
        "\n",
        "dataframe = pandas.read_csv(\"https://raw.githubusercontent.com/plotly/datasets/master/diabetes.csv\")\n",
        "print(dataframe.head(5))\n",
        "array = dataframe.values\n",
        "X = array[:,0:8]\n",
        "Y = array[:,8]\n",
        "seed = 7\n",
        "\n",
        "Dtc = SVC() # 76%\n",
        "#Dtc = GaussianNB() # 75%\n",
        "#Dtc = KNeighborsClassifier() # 73#\n",
        "#Dtc = DecisionTreeClassifier() # 76%\n",
        "\n",
        "model = BaggingClassifier(base_estimator=Dtc, n_estimators=100, random_state=seed)\n",
        "model.fit(X,Y)\n",
        "print(model.score(X,Y))\n",
        "\n",
        "results = model_selection.cross_val_score(model, X, Y, cv=20) # change cv and obeserve different outputs\n",
        "\n",
        "print(results)\n",
        "\n",
        "print(results.mean())\n",
        "print(results.min())\n",
        "print(results.max())\n"
      ],
      "execution_count": null,
      "outputs": [
        {
          "output_type": "stream",
          "name": "stdout",
          "text": [
            "   Pregnancies  Glucose  BloodPressure  SkinThickness  Insulin   BMI  \\\n",
            "0            6      148             72             35        0  33.6   \n",
            "1            1       85             66             29        0  26.6   \n",
            "2            8      183             64              0        0  23.3   \n",
            "3            1       89             66             23       94  28.1   \n",
            "4            0      137             40             35      168  43.1   \n",
            "\n",
            "   DiabetesPedigreeFunction  Age  Outcome  \n",
            "0                     0.627   50        1  \n",
            "1                     0.351   31        0  \n",
            "2                     0.672   32        1  \n",
            "3                     0.167   21        0  \n",
            "4                     2.288   33        1  \n"
          ]
        },
        {
          "output_type": "stream",
          "name": "stderr",
          "text": [
            "/usr/local/lib/python3.10/dist-packages/sklearn/ensemble/_base.py:166: FutureWarning: `base_estimator` was renamed to `estimator` in version 1.2 and will be removed in 1.4.\n",
            "  warnings.warn(\n"
          ]
        },
        {
          "output_type": "stream",
          "name": "stdout",
          "text": [
            "0.7708333333333334\n"
          ]
        },
        {
          "output_type": "stream",
          "name": "stderr",
          "text": [
            "/usr/local/lib/python3.10/dist-packages/sklearn/ensemble/_base.py:166: FutureWarning: `base_estimator` was renamed to `estimator` in version 1.2 and will be removed in 1.4.\n",
            "  warnings.warn(\n",
            "/usr/local/lib/python3.10/dist-packages/sklearn/ensemble/_base.py:166: FutureWarning: `base_estimator` was renamed to `estimator` in version 1.2 and will be removed in 1.4.\n",
            "  warnings.warn(\n",
            "/usr/local/lib/python3.10/dist-packages/sklearn/ensemble/_base.py:166: FutureWarning: `base_estimator` was renamed to `estimator` in version 1.2 and will be removed in 1.4.\n",
            "  warnings.warn(\n",
            "/usr/local/lib/python3.10/dist-packages/sklearn/ensemble/_base.py:166: FutureWarning: `base_estimator` was renamed to `estimator` in version 1.2 and will be removed in 1.4.\n",
            "  warnings.warn(\n",
            "/usr/local/lib/python3.10/dist-packages/sklearn/ensemble/_base.py:166: FutureWarning: `base_estimator` was renamed to `estimator` in version 1.2 and will be removed in 1.4.\n",
            "  warnings.warn(\n",
            "/usr/local/lib/python3.10/dist-packages/sklearn/ensemble/_base.py:166: FutureWarning: `base_estimator` was renamed to `estimator` in version 1.2 and will be removed in 1.4.\n",
            "  warnings.warn(\n",
            "/usr/local/lib/python3.10/dist-packages/sklearn/ensemble/_base.py:166: FutureWarning: `base_estimator` was renamed to `estimator` in version 1.2 and will be removed in 1.4.\n",
            "  warnings.warn(\n",
            "/usr/local/lib/python3.10/dist-packages/sklearn/ensemble/_base.py:166: FutureWarning: `base_estimator` was renamed to `estimator` in version 1.2 and will be removed in 1.4.\n",
            "  warnings.warn(\n",
            "/usr/local/lib/python3.10/dist-packages/sklearn/ensemble/_base.py:166: FutureWarning: `base_estimator` was renamed to `estimator` in version 1.2 and will be removed in 1.4.\n",
            "  warnings.warn(\n",
            "/usr/local/lib/python3.10/dist-packages/sklearn/ensemble/_base.py:166: FutureWarning: `base_estimator` was renamed to `estimator` in version 1.2 and will be removed in 1.4.\n",
            "  warnings.warn(\n",
            "/usr/local/lib/python3.10/dist-packages/sklearn/ensemble/_base.py:166: FutureWarning: `base_estimator` was renamed to `estimator` in version 1.2 and will be removed in 1.4.\n",
            "  warnings.warn(\n",
            "/usr/local/lib/python3.10/dist-packages/sklearn/ensemble/_base.py:166: FutureWarning: `base_estimator` was renamed to `estimator` in version 1.2 and will be removed in 1.4.\n",
            "  warnings.warn(\n",
            "/usr/local/lib/python3.10/dist-packages/sklearn/ensemble/_base.py:166: FutureWarning: `base_estimator` was renamed to `estimator` in version 1.2 and will be removed in 1.4.\n",
            "  warnings.warn(\n",
            "/usr/local/lib/python3.10/dist-packages/sklearn/ensemble/_base.py:166: FutureWarning: `base_estimator` was renamed to `estimator` in version 1.2 and will be removed in 1.4.\n",
            "  warnings.warn(\n",
            "/usr/local/lib/python3.10/dist-packages/sklearn/ensemble/_base.py:166: FutureWarning: `base_estimator` was renamed to `estimator` in version 1.2 and will be removed in 1.4.\n",
            "  warnings.warn(\n",
            "/usr/local/lib/python3.10/dist-packages/sklearn/ensemble/_base.py:166: FutureWarning: `base_estimator` was renamed to `estimator` in version 1.2 and will be removed in 1.4.\n",
            "  warnings.warn(\n",
            "/usr/local/lib/python3.10/dist-packages/sklearn/ensemble/_base.py:166: FutureWarning: `base_estimator` was renamed to `estimator` in version 1.2 and will be removed in 1.4.\n",
            "  warnings.warn(\n",
            "/usr/local/lib/python3.10/dist-packages/sklearn/ensemble/_base.py:166: FutureWarning: `base_estimator` was renamed to `estimator` in version 1.2 and will be removed in 1.4.\n",
            "  warnings.warn(\n",
            "/usr/local/lib/python3.10/dist-packages/sklearn/ensemble/_base.py:166: FutureWarning: `base_estimator` was renamed to `estimator` in version 1.2 and will be removed in 1.4.\n",
            "  warnings.warn(\n",
            "/usr/local/lib/python3.10/dist-packages/sklearn/ensemble/_base.py:166: FutureWarning: `base_estimator` was renamed to `estimator` in version 1.2 and will be removed in 1.4.\n",
            "  warnings.warn(\n"
          ]
        },
        {
          "output_type": "stream",
          "name": "stdout",
          "text": [
            "[0.69230769 0.76923077 0.74358974 0.74358974 0.74358974 0.66666667\n",
            " 0.79487179 0.66666667 0.71052632 0.81578947 0.81578947 0.81578947\n",
            " 0.68421053 0.81578947 0.76315789 0.86842105 0.78947368 0.73684211\n",
            " 0.78947368 0.78947368]\n",
            "0.7607624831309041\n",
            "0.6666666666666666\n",
            "0.868421052631579\n"
          ]
        }
      ]
    },
    {
      "cell_type": "code",
      "metadata": {
        "id": "_wjdB95_Ee24",
        "colab": {
          "base_uri": "https://localhost:8080/"
        },
        "outputId": "9a925e30-8b2a-4a0a-de56-2bf176039371"
      },
      "source": [
        "# Random forest\n",
        "import pandas\n",
        "from sklearn import model_selection\n",
        "from sklearn.ensemble import RandomForestClassifier\n",
        "\n",
        "dataframe = pandas.read_csv(\"https://raw.githubusercontent.com/plotly/datasets/master/diabetes.csv\")\n",
        "\n",
        "array = dataframe.values\n",
        "X = array[:,0:8]\n",
        "Y = array[:,8]\n",
        "\n",
        "model = RandomForestClassifier(n_estimators=100, max_features=3)\n",
        "results = model_selection.cross_val_score(model, X, Y, cv=5)\n",
        "print(results.mean())"
      ],
      "execution_count": null,
      "outputs": [
        {
          "output_type": "stream",
          "name": "stdout",
          "text": [
            "0.7513708513708515\n"
          ]
        }
      ]
    },
    {
      "cell_type": "code",
      "metadata": {
        "id": "GLMAsf9vE3yH",
        "colab": {
          "base_uri": "https://localhost:8080/"
        },
        "outputId": "4790fe9c-bfd8-42ad-d15d-9950fc8e5249"
      },
      "source": [
        "# Boosting\n",
        "# AdaBoost - short for Adaptive Boosting.\n",
        "# AdaBoost is adaptive in the sense that subsequent weak learners are\n",
        "# tweaked in favor of those instances misclassified by previous classifiers.\n",
        "# DecisionTreeClasifier is used as the default estimator\n",
        "\n",
        "import pandas\n",
        "from sklearn import model_selection\n",
        "from sklearn.ensemble import AdaBoostClassifier\n",
        "\n",
        "dataframe = pandas.read_csv(\"https://raw.githubusercontent.com/plotly/datasets/master/diabetes.csv\")\n",
        "\n",
        "array = dataframe.values\n",
        "X = array[:,0:8]\n",
        "Y = array[:,8]\n",
        "\n",
        "model = AdaBoostClassifier(n_estimators=100, random_state=123)\n",
        "results = model_selection.cross_val_score(model, X, Y, cv=5)\n",
        "print(results.mean())"
      ],
      "execution_count": null,
      "outputs": [
        {
          "output_type": "stream",
          "name": "stdout",
          "text": [
            "0.7617604617604619\n"
          ]
        }
      ]
    },
    {
      "cell_type": "code",
      "metadata": {
        "id": "Oe0bYVqAFHeA",
        "colab": {
          "base_uri": "https://localhost:8080/"
        },
        "outputId": "b2e5fa76-4f19-4e46-b275-c41a3c76b63a"
      },
      "source": [
        "# Voting Ensemble for Classification\n",
        "import pandas\n",
        "from sklearn import model_selection\n",
        "from sklearn.linear_model import LogisticRegression\n",
        "from sklearn.tree import DecisionTreeClassifier\n",
        "from sklearn.svm import SVC\n",
        "from sklearn.ensemble import VotingClassifier\n",
        "from sklearn.ensemble import RandomForestClassifier\n",
        "\n",
        "import warnings\n",
        "warnings.filterwarnings('ignore')\n",
        "\n",
        "dataframe = pandas.read_csv(\"https://raw.githubusercontent.com/plotly/datasets/master/diabetes.csv\")\n",
        "\n",
        "array = dataframe.values\n",
        "X = array[:,0:8]\n",
        "Y = array[:,8]\n",
        "seed = 7\n",
        "\n",
        "# create the sub models\n",
        "estimators = []\n",
        "model1 = LogisticRegression()\n",
        "estimators.append(('logistic', model1))\n",
        "model2 = DecisionTreeClassifier()\n",
        "#model2 = RandomForestClassifier()\n",
        "estimators.append(('cart', model2))\n",
        "model3 = SVC()\n",
        "estimators.append(('svm', model3))\n",
        "# create the ensemble model\n",
        "ensemble = VotingClassifier(estimators, weights=[3,2,3])\n",
        "results = model_selection.cross_val_score(ensemble, X, Y, cv=5)\n",
        "print(results.mean())"
      ],
      "execution_count": null,
      "outputs": [
        {
          "output_type": "stream",
          "name": "stdout",
          "text": [
            "0.7773958068075715\n"
          ]
        }
      ]
    },
    {
      "cell_type": "markdown",
      "metadata": {
        "id": "6R5uHkYe72mU"
      },
      "source": [
        "###Multi-Layer Perceptrons"
      ]
    },
    {
      "cell_type": "markdown",
      "metadata": {
        "id": "yeo2DC4mTL3h"
      },
      "source": [
        "\n",
        "* Nice visualization of MLPs\n",
        "https://www.youtube.com/watch?v=3JQ3hYko51Y\n",
        "\n",
        "* Another one https://www.youtube.com/watch?v=Aut32pR5PQA\n",
        "\n",
        "-----------"
      ]
    },
    {
      "cell_type": "markdown",
      "metadata": {
        "id": "hawPfBnJ8hxS"
      },
      "source": [
        "* The field of artificial neural networks is often just called Neural Networks or Multilayer Perceptrons.  \n",
        "\n",
        "* A **Perceptron** is a single neuron model.\n",
        "\n",
        "**Shallow vs Deep Networks** - Neural netwroks with more than one hidden layer are Deep networks.\n",
        "\n",
        "* Adding more layers allows for more easy representation of the interactions within the input data, as well as allows for more abstract features to be learned and used as input into the next hidden layer.\n",
        "\n",
        "* The predictive capability of neural networks comes from the hierarchical or multilayered structure of the networks. The data structure can learn  features at different scales and combine them into higher-order features.\n",
        "\n",
        "* **Neuron** - The building block for neural networks are artificial neurons. These are simple computational units that have weighted input signals and produce an output signal using an activation function.\n",
        "\n",
        "* **Neuron Weights** - They are similar to weights in Linear regression. A neuron may have two inputs in which case it requires three weights. One for each input and one for the bias.  Weights are often initialized to small random values, such as values in the range 0 to 0.3. Larger weights indicate increased complexity and fragility of the model.\n",
        "\n",
        "-----------"
      ]
    },
    {
      "cell_type": "markdown",
      "metadata": {
        "id": "e2rcS-bUYZjj"
      },
      "source": [
        "**Input or Visible layers**\n",
        "* The bottom layer that takes input from your dataset is called the visible layer, because it is the exposed part of the network. Often a neural network is drawn with a visible layer with one neuron per input value or column in your dataset.\n",
        "\n",
        "**Hidden Layers**\n",
        "* Layers after the input layer are called hidden layers because they are not directly exposed to the input.\n",
        "\n",
        "**Output Layer**\n",
        "* The final hidden layer is called the output layer and it is responsible for outputting a value or vector of values that correspond to the format required for the problem. The choice of activation function in the output layer is strongly constrained by the type of problem that you are modeling.\n",
        "\n"
      ]
    },
    {
      "cell_type": "markdown",
      "metadata": {
        "id": "pskot4liCtWs"
      },
      "source": [
        "\n",
        "\n",
        "---\n",
        "\n"
      ]
    },
    {
      "cell_type": "markdown",
      "metadata": {
        "id": "vZoagwjNDhEI"
      },
      "source": [
        "**Activation functions :**\n",
        "\n",
        "* **A neural network without an activation function is essentially just a linear regression model.**\n",
        "\n",
        "* An activation function is a function that is added into an artificial neural network in order to help the network learn complex patterns in the data. It takes in the output signal from the previous cell and converts it into some form that can be taken as input to the next cell.\n",
        "\n",
        "* An activation function is a simple mapping of summed weighted input to the output of the neuron.\n",
        "\n",
        "* Traditionally nonlinear activation functions are used. This allows the network to combine the inputs in more complex ways and in turn provide a richer capability in the functions they can model.\n",
        "\n",
        "* They also help in keeping the value of the output from the neuron restricted to a certain limit as per our requirement.\n",
        "\n",
        "* Activation functions are applied at every layer and need to be calculated many times in deep networks. Hence, they should be computationally inexpensive to calculate.\n"
      ]
    },
    {
      "cell_type": "markdown",
      "metadata": {
        "id": "PcT8IgqGJptC"
      },
      "source": [
        "\n",
        "\n",
        "---\n",
        "\n"
      ]
    },
    {
      "cell_type": "markdown",
      "metadata": {
        "id": "5isgngZIJQBC"
      },
      "source": [
        "* Logistic function also called the **sigmoid** function is used to output a value between 0 and 1. Useful for binary classification.\n",
        "\n",
        "* The **softmax** is a more generalised form of the sigmoid. It is used in multi-class classification problems. Similar to sigmoid, it produces values in the range of 0–1 therefore it is used as the final layer in classification models. Useful for multiclass-classification.\n",
        "\n",
        "* The hyperbolic tangent function also called **Tanh** outputs the same distribution over the range -1 to +1.  The tanh function is very similar to the sigmoid function. The only difference is that it is symmetric around the origin.  \n",
        "\n",
        "* It is usually used in hidden layers of a neural network as it’s values lies between -1 to 1 hence the mean for the hidden layer comes out be 0 or very close to it, hence helps in centering the data by bringing mean close to 0. This makes learning for the next layer much easier.\n",
        "\n",
        "* The rectifier activation function **ReLU** (Rectified Linear Unit) outputs 0 fro -ve values and the actual value for +ve values\n",
        "\n",
        "* The main advantage of using the ReLU function over other activation functions is that it does not activate all the neurons at the same time.  Since only a certain number of neurons are activated, the ReLU function is far more computationally efficient.\n",
        "\n",
        "* **Leaky ReLU** function is nothing but an improved version of the ReLU function. As we saw that for the ReLU function, the gradient is 0 for x<0, which would deactivate the neurons in that region.\n",
        "\n",
        "* Leaky ReLU is defined to address this problem. Instead of defining the Relu function as 0 for negative values of x, we define it as an extremely small linear component of x."
      ]
    },
    {
      "cell_type": "markdown",
      "metadata": {
        "id": "yJgdcCQGCwwr"
      },
      "source": [
        "\n",
        "\n",
        "---\n",
        "\n"
      ]
    },
    {
      "cell_type": "markdown",
      "metadata": {
        "id": "hXfkPJNZDTrQ"
      },
      "source": [
        "**When to use which Activation funtion?**\n",
        "\n",
        "* Sigmoid functions and their combinations generally work better in the case of classifiers\n",
        "\n",
        "* ReLU function is a general activation function and is used in most cases these days\n",
        "\n",
        "* If we encounter a case of dead neurons in our networks the leaky ReLU function is the best choice\n",
        "\n",
        "* Always keep in mind that ReLU function should only be used in the hidden layers\n",
        "\n",
        "* As a rule of thumb, you can begin with using ReLU function and then move over to other activation functions in case ReLU doesn’t provide with optimum results\n",
        "\n",
        "* No activation function is used for the output layer if it is a regression problem as we are interested in predicting numerical values directly without transform."
      ]
    },
    {
      "cell_type": "markdown",
      "metadata": {
        "id": "2t0Hl0A0eOCm"
      },
      "source": [
        "**Epochs**\n",
        "\n",
        "* An epoch is one learning cycle where the learner sees the whole training data set. If you have two batches, the learner needs to go through two iterations for one epoch\n",
        "\n",
        "* The number of epochs needs to be finetuned based on the validation and training error. As long as they keep dropping training should continue.\n",
        "\n",
        "* For instance, if the validation error starts increasing that might be a indication of overfitting. You should set the number of epochs as high as possible and terminate training based on the error rates."
      ]
    },
    {
      "cell_type": "markdown",
      "metadata": {
        "id": "bzjqB6TbrfTk"
      },
      "source": [
        "**Backpropagation**\n",
        "\n",
        "* Backpropagation is the central mechanism by which neural networks learn. It is probably the most fundamental building block in a neural network.\n",
        "\n",
        "* The algorithm is used to effectively train a neural network through a method called chain rule. In simple terms, after each forward pass through a network, backpropagation performs a backward pass while adjusting the model’s parameters (weights and biases).\n",
        "\n",
        "* The final step in a forward pass is to evaluate the predicted output against an expected output. It happens through a **cost / loss function**. This can be as simple as MSE (mean squared error) or more complex like cross-entropy.\n",
        "\n",
        "* In other words, backpropagation aims to minimize the cost function by adjusting network’s weights and biases. The level of adjustment is determined by the gradients of the cost function with respect to those parameters.\n",
        "\n",
        "* It uses the Gradient descent algorithm."
      ]
    },
    {
      "cell_type": "markdown",
      "metadata": {
        "id": "SGzPMoMcreGJ"
      },
      "source": [
        "\n",
        "---\n"
      ]
    },
    {
      "cell_type": "markdown",
      "metadata": {
        "id": "WdSPRTjB4Wq0"
      },
      "source": [
        "**Cost / Loss Functions**\n",
        "\n",
        "* Loss functions are helpful to train a neural network. Given an input and a target, they calculate the loss, i.e difference between output and target variable.\n",
        "\n",
        "* A loss function is for a single training example. It is also sometimes called an error function. A cost function, on the other hand, is the average loss over the entire training dataset. The optimization strategies aim at minimizing the cost function.\n",
        "\n",
        "* **Optimizers** are algorithms or methods used to change the attributes of your neural network such as weights and learning rate in order to reduce the losses - Explained in-depth later\n",
        "\n",
        "**Different Loss functions**\n",
        "\n",
        "* For Regression - **MSE** (Mean Square Error)\n",
        "\n",
        "* Mean squared error is calculated as the average of the squared differences between the predicted and actual values. The result is always positive. The squaring means that larger mistakes result in more error than smaller mistakes, meaning that the model is punished for making larger mistakes.\n",
        "\n",
        "* For Classification - **Cross-entropy** will calculate a score that summarizes the average difference between the actual and predicted probability distributions\n",
        "\n",
        "    * Binary Cross-Entropy\n",
        "    * Sparse Categorical Cross-Entropy\n",
        "\n",
        "* Know more at https://www.analyticsvidhya.com/blog/2019/08/detailed-guide-7-loss-functions-machine-learning-python-code/\n"
      ]
    },
    {
      "cell_type": "markdown",
      "metadata": {
        "id": "RcJfjO8qTNtP"
      },
      "source": [
        "**Binary Classification with MLP**"
      ]
    },
    {
      "cell_type": "code",
      "metadata": {
        "id": "2_prS8AdZmtG",
        "outputId": "b8fb7eea-073f-4554-eeb0-c04d3a2cda11",
        "colab": {
          "base_uri": "https://localhost:8080/"
        }
      },
      "source": [
        "# https://www.kaggle.com/uciml/pima-indians-diabetes-database\n",
        "\n",
        "import pandas as pd\n",
        "import numpy\n",
        "from tensorflow.keras.models import Sequential\n",
        "from tensorflow.keras.layers import Dense\n",
        "from sklearn.model_selection import train_test_split\n",
        "from sklearn.preprocessing import StandardScaler\n",
        "\n",
        "dataset = pd.read_csv('diabetes.csv')\n",
        "\n",
        "y = dataset['Outcome']\n",
        "X = dataset.drop(['Outcome'], axis = 1)\n",
        "\n",
        "X_train,X_test,y_train,y_test=train_test_split(X,y,test_size=0.25)\n",
        "\n",
        "scaler = StandardScaler()\n",
        "scaler.fit(X_train)\n",
        "\n",
        "X_train_scaled = scaler.transform(X_train)\n",
        "X_test_scaled = scaler.transform(X_test)\n",
        "\n",
        "\n",
        "model = Sequential()\n",
        "# The first layer has 8 nodes and uses the relu activation function.\n",
        "# The line of code that adds the first Dense layer is doing 2 things,\n",
        "# defining the input or visible layer and the first hidden layer\n",
        "\n",
        "#The implicit input layer is the reason why you have to include an\n",
        "#input_dim argument only in the first (explicit) layer of the model\n",
        "#in the Sequential API - in subsequent layers, the input shape\n",
        "#is inferred from the output of the previous ones\n",
        "\n",
        "# first layer\n",
        "model.add(Dense(8, input_dim=8, activation='relu'))\n",
        "model.add(Dense(16, activation='relu'))\n",
        "model.add(Dense(32, activation='relu'))\n",
        "#model.add(Dense(64, activation='relu'))\n",
        "# output layer\n",
        "model.add(Dense(1, activation='sigmoid'))\n",
        "\n",
        "model.compile(loss='binary_crossentropy', optimizer='adam', metrics=['accuracy'])\n",
        "model.summary()\n",
        "\n",
        "# 9 (8+1)*8\n",
        "# 9 (8+1)*16\n",
        "# 17 (16+1)*32\n",
        "# 33 (32+1)*1"
      ],
      "execution_count": null,
      "outputs": [
        {
          "output_type": "stream",
          "name": "stdout",
          "text": [
            "Model: \"sequential_1\"\n",
            "_________________________________________________________________\n",
            " Layer (type)                Output Shape              Param #   \n",
            "=================================================================\n",
            " dense_3 (Dense)             (None, 8)                 72        \n",
            "                                                                 \n",
            " dense_4 (Dense)             (None, 16)                144       \n",
            "                                                                 \n",
            " dense_5 (Dense)             (None, 32)                544       \n",
            "                                                                 \n",
            " dense_6 (Dense)             (None, 1)                 33        \n",
            "                                                                 \n",
            "=================================================================\n",
            "Total params: 793\n",
            "Trainable params: 793\n",
            "Non-trainable params: 0\n",
            "_________________________________________________________________\n"
          ]
        }
      ]
    },
    {
      "cell_type": "code",
      "metadata": {
        "id": "kRBPZGMGuh2R",
        "outputId": "6c66e941-d8d1-4a73-b1de-c380962b731e",
        "colab": {
          "base_uri": "https://localhost:8080/"
        }
      },
      "source": [
        "numpy.random.seed(7)\n",
        "# verbose=0 will show you nothing (silent)\n",
        "# verbose=1 will show you an animated progress bar\n",
        "# verbose=2 will just mention the number of epochs\n",
        "\n",
        "# batch size determines how many rows should be taken at a time.\n",
        "# default is 32 etc. based on loss function\n",
        "hist=model.fit(X_train_scaled, y_train, epochs=100, verbose=1)\n",
        "# increase no of epochs and see\n",
        "\n",
        "# history attribute is a dictionary recording training loss values\n",
        "# and metrics values at successive epochs, as well as validation\n",
        "# loss values and validation metrics values (if applicable).\n",
        "print(hist.history)\n",
        "\n",
        "score = model.evaluate(X_test_scaled, y_test)\n",
        "print('Test loss:', score[0])\n",
        "print('Test accuracy:', score[1])\n",
        "\n",
        "# save model with weights if required\n",
        "model.save(\"model.h5\")\n",
        "print(\"Saved model to disk\")"
      ],
      "execution_count": null,
      "outputs": [
        {
          "output_type": "stream",
          "name": "stdout",
          "text": [
            "Epoch 1/100\n",
            "18/18 [==============================] - 0s 2ms/step - loss: 0.3989 - accuracy: 0.8090\n",
            "Epoch 2/100\n",
            "18/18 [==============================] - 0s 2ms/step - loss: 0.3992 - accuracy: 0.8142\n",
            "Epoch 3/100\n",
            "18/18 [==============================] - 0s 3ms/step - loss: 0.3978 - accuracy: 0.8142\n",
            "Epoch 4/100\n",
            "18/18 [==============================] - 0s 5ms/step - loss: 0.3970 - accuracy: 0.8073\n",
            "Epoch 5/100\n",
            "18/18 [==============================] - 0s 6ms/step - loss: 0.3968 - accuracy: 0.8108\n",
            "Epoch 6/100\n",
            "18/18 [==============================] - 0s 4ms/step - loss: 0.3962 - accuracy: 0.8108\n",
            "Epoch 7/100\n",
            "18/18 [==============================] - 0s 4ms/step - loss: 0.3952 - accuracy: 0.8056\n",
            "Epoch 8/100\n",
            "18/18 [==============================] - 0s 3ms/step - loss: 0.3941 - accuracy: 0.8108\n",
            "Epoch 9/100\n",
            "18/18 [==============================] - 0s 3ms/step - loss: 0.3935 - accuracy: 0.8090\n",
            "Epoch 10/100\n",
            "18/18 [==============================] - 0s 3ms/step - loss: 0.3940 - accuracy: 0.8038\n",
            "Epoch 11/100\n",
            "18/18 [==============================] - 0s 3ms/step - loss: 0.3932 - accuracy: 0.8056\n",
            "Epoch 12/100\n",
            "18/18 [==============================] - 0s 3ms/step - loss: 0.3914 - accuracy: 0.8090\n",
            "Epoch 13/100\n",
            "18/18 [==============================] - 0s 3ms/step - loss: 0.3901 - accuracy: 0.8038\n",
            "Epoch 14/100\n",
            "18/18 [==============================] - 0s 3ms/step - loss: 0.3923 - accuracy: 0.8056\n",
            "Epoch 15/100\n",
            "18/18 [==============================] - 0s 3ms/step - loss: 0.3892 - accuracy: 0.8108\n",
            "Epoch 16/100\n",
            "18/18 [==============================] - 0s 3ms/step - loss: 0.3892 - accuracy: 0.8056\n",
            "Epoch 17/100\n",
            "18/18 [==============================] - 0s 3ms/step - loss: 0.3881 - accuracy: 0.8125\n",
            "Epoch 18/100\n",
            "18/18 [==============================] - 0s 3ms/step - loss: 0.3863 - accuracy: 0.8090\n",
            "Epoch 19/100\n",
            "18/18 [==============================] - 0s 4ms/step - loss: 0.3860 - accuracy: 0.8108\n",
            "Epoch 20/100\n",
            "18/18 [==============================] - 0s 4ms/step - loss: 0.3843 - accuracy: 0.8108\n",
            "Epoch 21/100\n",
            "18/18 [==============================] - 0s 3ms/step - loss: 0.3837 - accuracy: 0.8142\n",
            "Epoch 22/100\n",
            "18/18 [==============================] - 0s 3ms/step - loss: 0.3848 - accuracy: 0.8142\n",
            "Epoch 23/100\n",
            "18/18 [==============================] - 0s 3ms/step - loss: 0.3819 - accuracy: 0.8194\n",
            "Epoch 24/100\n",
            "18/18 [==============================] - 0s 3ms/step - loss: 0.3826 - accuracy: 0.8142\n",
            "Epoch 25/100\n",
            "18/18 [==============================] - 0s 3ms/step - loss: 0.3818 - accuracy: 0.8194\n",
            "Epoch 26/100\n",
            "18/18 [==============================] - 0s 3ms/step - loss: 0.3812 - accuracy: 0.8142\n",
            "Epoch 27/100\n",
            "18/18 [==============================] - 0s 3ms/step - loss: 0.3796 - accuracy: 0.8142\n",
            "Epoch 28/100\n",
            "18/18 [==============================] - 0s 3ms/step - loss: 0.3787 - accuracy: 0.8247\n",
            "Epoch 29/100\n",
            "18/18 [==============================] - 0s 3ms/step - loss: 0.3795 - accuracy: 0.8194\n",
            "Epoch 30/100\n",
            "18/18 [==============================] - 0s 3ms/step - loss: 0.3782 - accuracy: 0.8177\n",
            "Epoch 31/100\n",
            "18/18 [==============================] - 0s 3ms/step - loss: 0.3784 - accuracy: 0.8160\n",
            "Epoch 32/100\n",
            "18/18 [==============================] - 0s 3ms/step - loss: 0.3776 - accuracy: 0.8264\n",
            "Epoch 33/100\n",
            "18/18 [==============================] - 0s 3ms/step - loss: 0.3777 - accuracy: 0.8194\n",
            "Epoch 34/100\n",
            "18/18 [==============================] - 0s 3ms/step - loss: 0.3752 - accuracy: 0.8194\n",
            "Epoch 35/100\n",
            "18/18 [==============================] - 0s 4ms/step - loss: 0.3747 - accuracy: 0.8160\n",
            "Epoch 36/100\n",
            "18/18 [==============================] - 0s 4ms/step - loss: 0.3762 - accuracy: 0.8177\n",
            "Epoch 37/100\n",
            "18/18 [==============================] - 0s 3ms/step - loss: 0.3735 - accuracy: 0.8177\n",
            "Epoch 38/100\n",
            "18/18 [==============================] - 0s 3ms/step - loss: 0.3739 - accuracy: 0.8177\n",
            "Epoch 39/100\n",
            "18/18 [==============================] - 0s 3ms/step - loss: 0.3725 - accuracy: 0.8160\n",
            "Epoch 40/100\n",
            "18/18 [==============================] - 0s 3ms/step - loss: 0.3706 - accuracy: 0.8142\n",
            "Epoch 41/100\n",
            "18/18 [==============================] - 0s 3ms/step - loss: 0.3693 - accuracy: 0.8212\n",
            "Epoch 42/100\n",
            "18/18 [==============================] - 0s 3ms/step - loss: 0.3698 - accuracy: 0.8125\n",
            "Epoch 43/100\n",
            "18/18 [==============================] - 0s 3ms/step - loss: 0.3701 - accuracy: 0.8177\n",
            "Epoch 44/100\n",
            "18/18 [==============================] - 0s 3ms/step - loss: 0.3676 - accuracy: 0.8160\n",
            "Epoch 45/100\n",
            "18/18 [==============================] - 0s 3ms/step - loss: 0.3680 - accuracy: 0.8212\n",
            "Epoch 46/100\n",
            "18/18 [==============================] - 0s 3ms/step - loss: 0.3674 - accuracy: 0.8212\n",
            "Epoch 47/100\n",
            "18/18 [==============================] - 0s 3ms/step - loss: 0.3665 - accuracy: 0.8212\n",
            "Epoch 48/100\n",
            "18/18 [==============================] - 0s 3ms/step - loss: 0.3667 - accuracy: 0.8247\n",
            "Epoch 49/100\n",
            "18/18 [==============================] - 0s 4ms/step - loss: 0.3674 - accuracy: 0.8194\n",
            "Epoch 50/100\n",
            "18/18 [==============================] - 0s 3ms/step - loss: 0.3646 - accuracy: 0.8229\n",
            "Epoch 51/100\n",
            "18/18 [==============================] - 0s 3ms/step - loss: 0.3637 - accuracy: 0.8333\n",
            "Epoch 52/100\n",
            "18/18 [==============================] - 0s 3ms/step - loss: 0.3628 - accuracy: 0.8194\n",
            "Epoch 53/100\n",
            "18/18 [==============================] - 0s 3ms/step - loss: 0.3635 - accuracy: 0.8281\n",
            "Epoch 54/100\n",
            "18/18 [==============================] - 0s 3ms/step - loss: 0.3622 - accuracy: 0.8264\n",
            "Epoch 55/100\n",
            "18/18 [==============================] - 0s 3ms/step - loss: 0.3599 - accuracy: 0.8247\n",
            "Epoch 56/100\n",
            "18/18 [==============================] - 0s 3ms/step - loss: 0.3608 - accuracy: 0.8281\n",
            "Epoch 57/100\n",
            "18/18 [==============================] - 0s 3ms/step - loss: 0.3590 - accuracy: 0.8264\n",
            "Epoch 58/100\n",
            "18/18 [==============================] - 0s 3ms/step - loss: 0.3581 - accuracy: 0.8229\n",
            "Epoch 59/100\n",
            "18/18 [==============================] - 0s 4ms/step - loss: 0.3594 - accuracy: 0.8281\n",
            "Epoch 60/100\n",
            "18/18 [==============================] - 0s 4ms/step - loss: 0.3577 - accuracy: 0.8264\n",
            "Epoch 61/100\n",
            "18/18 [==============================] - 0s 3ms/step - loss: 0.3562 - accuracy: 0.8316\n",
            "Epoch 62/100\n",
            "18/18 [==============================] - 0s 2ms/step - loss: 0.3568 - accuracy: 0.8229\n",
            "Epoch 63/100\n",
            "18/18 [==============================] - 0s 2ms/step - loss: 0.3546 - accuracy: 0.8264\n",
            "Epoch 64/100\n",
            "18/18 [==============================] - 0s 2ms/step - loss: 0.3555 - accuracy: 0.8247\n",
            "Epoch 65/100\n",
            "18/18 [==============================] - 0s 2ms/step - loss: 0.3538 - accuracy: 0.8281\n",
            "Epoch 66/100\n",
            "18/18 [==============================] - 0s 2ms/step - loss: 0.3540 - accuracy: 0.8316\n",
            "Epoch 67/100\n",
            "18/18 [==============================] - 0s 2ms/step - loss: 0.3516 - accuracy: 0.8281\n",
            "Epoch 68/100\n",
            "18/18 [==============================] - 0s 3ms/step - loss: 0.3508 - accuracy: 0.8299\n",
            "Epoch 69/100\n",
            "18/18 [==============================] - 0s 2ms/step - loss: 0.3523 - accuracy: 0.8264\n",
            "Epoch 70/100\n",
            "18/18 [==============================] - 0s 2ms/step - loss: 0.3493 - accuracy: 0.8316\n",
            "Epoch 71/100\n",
            "18/18 [==============================] - 0s 2ms/step - loss: 0.3477 - accuracy: 0.8351\n",
            "Epoch 72/100\n",
            "18/18 [==============================] - 0s 3ms/step - loss: 0.3500 - accuracy: 0.8299\n",
            "Epoch 73/100\n",
            "18/18 [==============================] - 0s 2ms/step - loss: 0.3522 - accuracy: 0.8281\n",
            "Epoch 74/100\n",
            "18/18 [==============================] - 0s 2ms/step - loss: 0.3450 - accuracy: 0.8333\n",
            "Epoch 75/100\n",
            "18/18 [==============================] - 0s 2ms/step - loss: 0.3455 - accuracy: 0.8368\n",
            "Epoch 76/100\n",
            "18/18 [==============================] - 0s 2ms/step - loss: 0.3452 - accuracy: 0.8316\n",
            "Epoch 77/100\n",
            "18/18 [==============================] - 0s 2ms/step - loss: 0.3446 - accuracy: 0.8368\n",
            "Epoch 78/100\n",
            "18/18 [==============================] - 0s 2ms/step - loss: 0.3432 - accuracy: 0.8385\n",
            "Epoch 79/100\n",
            "18/18 [==============================] - 0s 2ms/step - loss: 0.3420 - accuracy: 0.8333\n",
            "Epoch 80/100\n",
            "18/18 [==============================] - 0s 2ms/step - loss: 0.3412 - accuracy: 0.8333\n",
            "Epoch 81/100\n",
            "18/18 [==============================] - 0s 2ms/step - loss: 0.3402 - accuracy: 0.8385\n",
            "Epoch 82/100\n",
            "18/18 [==============================] - 0s 2ms/step - loss: 0.3385 - accuracy: 0.8438\n",
            "Epoch 83/100\n",
            "18/18 [==============================] - 0s 2ms/step - loss: 0.3388 - accuracy: 0.8438\n",
            "Epoch 84/100\n",
            "18/18 [==============================] - 0s 2ms/step - loss: 0.3398 - accuracy: 0.8403\n",
            "Epoch 85/100\n",
            "18/18 [==============================] - 0s 2ms/step - loss: 0.3392 - accuracy: 0.8385\n",
            "Epoch 86/100\n",
            "18/18 [==============================] - 0s 2ms/step - loss: 0.3361 - accuracy: 0.8472\n",
            "Epoch 87/100\n",
            "18/18 [==============================] - 0s 2ms/step - loss: 0.3353 - accuracy: 0.8403\n",
            "Epoch 88/100\n",
            "18/18 [==============================] - 0s 2ms/step - loss: 0.3356 - accuracy: 0.8438\n",
            "Epoch 89/100\n",
            "18/18 [==============================] - 0s 2ms/step - loss: 0.3374 - accuracy: 0.8455\n",
            "Epoch 90/100\n",
            "18/18 [==============================] - 0s 2ms/step - loss: 0.3332 - accuracy: 0.8403\n",
            "Epoch 91/100\n",
            "18/18 [==============================] - 0s 2ms/step - loss: 0.3342 - accuracy: 0.8438\n",
            "Epoch 92/100\n",
            "18/18 [==============================] - 0s 2ms/step - loss: 0.3330 - accuracy: 0.8438\n",
            "Epoch 93/100\n",
            "18/18 [==============================] - 0s 3ms/step - loss: 0.3316 - accuracy: 0.8438\n",
            "Epoch 94/100\n",
            "18/18 [==============================] - 0s 2ms/step - loss: 0.3317 - accuracy: 0.8472\n",
            "Epoch 95/100\n",
            "18/18 [==============================] - 0s 2ms/step - loss: 0.3319 - accuracy: 0.8438\n",
            "Epoch 96/100\n",
            "18/18 [==============================] - 0s 2ms/step - loss: 0.3306 - accuracy: 0.8455\n",
            "Epoch 97/100\n",
            "18/18 [==============================] - 0s 2ms/step - loss: 0.3288 - accuracy: 0.8385\n",
            "Epoch 98/100\n",
            "18/18 [==============================] - 0s 3ms/step - loss: 0.3285 - accuracy: 0.8490\n",
            "Epoch 99/100\n",
            "18/18 [==============================] - 0s 2ms/step - loss: 0.3279 - accuracy: 0.8420\n",
            "Epoch 100/100\n",
            "18/18 [==============================] - 0s 2ms/step - loss: 0.3282 - accuracy: 0.8472\n",
            "{'loss': [0.39888879656791687, 0.3992258310317993, 0.3977571427822113, 0.3970007300376892, 0.3968285620212555, 0.39624083042144775, 0.39521554112434387, 0.394083172082901, 0.39352530241012573, 0.39403608441352844, 0.39323607087135315, 0.3913877308368683, 0.3901115357875824, 0.39231130480766296, 0.3891794681549072, 0.38919711112976074, 0.38807833194732666, 0.3862534165382385, 0.3859908878803253, 0.3842833340167999, 0.38368308544158936, 0.38477250933647156, 0.38194167613983154, 0.3826126754283905, 0.38178786635398865, 0.3812400698661804, 0.3795784115791321, 0.378702849149704, 0.3795308768749237, 0.37818506360054016, 0.37835004925727844, 0.3776238262653351, 0.3777320981025696, 0.37520042061805725, 0.3747197389602661, 0.37616288661956787, 0.3735278844833374, 0.373900443315506, 0.37249675393104553, 0.37055233120918274, 0.36925002932548523, 0.3697669506072998, 0.3701353371143341, 0.36757892370224, 0.3679763078689575, 0.36741095781326294, 0.36647552251815796, 0.3667290508747101, 0.36736971139907837, 0.3645972013473511, 0.3637101650238037, 0.36280113458633423, 0.36352911591529846, 0.36219707131385803, 0.35989677906036377, 0.3607754111289978, 0.3589823544025421, 0.35806429386138916, 0.35936906933784485, 0.3577382266521454, 0.35617682337760925, 0.3567848801612854, 0.35457468032836914, 0.35554802417755127, 0.353752076625824, 0.3540216088294983, 0.3516048491001129, 0.3507564067840576, 0.3522685468196869, 0.3492538630962372, 0.347725510597229, 0.34995973110198975, 0.3521726131439209, 0.34499040246009827, 0.3454796373844147, 0.34524786472320557, 0.3445526659488678, 0.343237042427063, 0.3419824540615082, 0.34115132689476013, 0.34017056226730347, 0.33847036957740784, 0.33879032731056213, 0.3398086428642273, 0.33917272090911865, 0.3360568583011627, 0.3353045880794525, 0.335628867149353, 0.33736371994018555, 0.33324286341667175, 0.33418506383895874, 0.3329921364784241, 0.33163759112358093, 0.331706166267395, 0.33187857270240784, 0.33056098222732544, 0.32884490489959717, 0.3285054564476013, 0.32791393995285034, 0.32815834879875183], 'accuracy': [0.8090277910232544, 0.8142361044883728, 0.8142361044883728, 0.8072916865348816, 0.8107638955116272, 0.8107638955116272, 0.8055555820465088, 0.8107638955116272, 0.8090277910232544, 0.8038194179534912, 0.8055555820465088, 0.8090277910232544, 0.8038194179534912, 0.8055555820465088, 0.8107638955116272, 0.8055555820465088, 0.8125, 0.8090277910232544, 0.8107638955116272, 0.8107638955116272, 0.8142361044883728, 0.8142361044883728, 0.8194444179534912, 0.8142361044883728, 0.8194444179534912, 0.8142361044883728, 0.8142361044883728, 0.8246527910232544, 0.8194444179534912, 0.8177083134651184, 0.8159722089767456, 0.8263888955116272, 0.8194444179534912, 0.8194444179534912, 0.8159722089767456, 0.8177083134651184, 0.8177083134651184, 0.8177083134651184, 0.8159722089767456, 0.8142361044883728, 0.8211805820465088, 0.8125, 0.8177083134651184, 0.8159722089767456, 0.8211805820465088, 0.8211805820465088, 0.8211805820465088, 0.8246527910232544, 0.8194444179534912, 0.8229166865348816, 0.8333333134651184, 0.8194444179534912, 0.828125, 0.8263888955116272, 0.8246527910232544, 0.828125, 0.8263888955116272, 0.8229166865348816, 0.828125, 0.8263888955116272, 0.8315972089767456, 0.8229166865348816, 0.8263888955116272, 0.8246527910232544, 0.828125, 0.8315972089767456, 0.828125, 0.8298611044883728, 0.8263888955116272, 0.8315972089767456, 0.8350694179534912, 0.8298611044883728, 0.828125, 0.8333333134651184, 0.8368055820465088, 0.8315972089767456, 0.8368055820465088, 0.8385416865348816, 0.8333333134651184, 0.8333333134651184, 0.8385416865348816, 0.84375, 0.84375, 0.8402777910232544, 0.8385416865348816, 0.8472222089767456, 0.8402777910232544, 0.84375, 0.8454861044883728, 0.8402777910232544, 0.84375, 0.84375, 0.84375, 0.8472222089767456, 0.84375, 0.8454861044883728, 0.8385416865348816, 0.8489583134651184, 0.8420138955116272, 0.8472222089767456]}\n",
            "6/6 [==============================] - 0s 3ms/step - loss: 0.6316 - accuracy: 0.7917\n",
            "Test loss: 0.6315990090370178\n",
            "Test accuracy: 0.7916666865348816\n",
            "Saved model to disk\n"
          ]
        }
      ]
    },
    {
      "cell_type": "markdown",
      "metadata": {
        "id": "GOZLJiwg-Ve-"
      },
      "source": [
        "**Saving a model along with wieghts can save lot of time especally if it very complex**\n",
        "\n",
        "* Keras supports saving a single HDF5 file containing the model's architecture, weights values, and compile() information."
      ]
    },
    {
      "cell_type": "code",
      "metadata": {
        "id": "1fzR4g6X9wuE",
        "outputId": "89c38227-969f-4051-fbbe-70aa045680a3",
        "colab": {
          "base_uri": "https://localhost:8080/"
        }
      },
      "source": [
        "from keras.models import load_model\n",
        "# load model\n",
        "new_model = load_model('model.h5')\n",
        "\n",
        "score = new_model.evaluate(X_test_scaled, y_test, batch_size=40)\n",
        "print('Test loss:', score[0])\n",
        "print('Test accuracy:', score[1])"
      ],
      "execution_count": null,
      "outputs": [
        {
          "output_type": "stream",
          "name": "stdout",
          "text": [
            "5/5 [==============================] - 0s 3ms/step - loss: 0.6316 - accuracy: 0.7917\n",
            "Test loss: 0.6315990090370178\n",
            "Test accuracy: 0.7916666865348816\n"
          ]
        }
      ]
    },
    {
      "cell_type": "code",
      "source": [
        "df_new=pd.read_csv('diabetes_new.csv')\n",
        "pred=new_model.predict(df_new)\n",
        "pred"
      ],
      "metadata": {
        "colab": {
          "base_uri": "https://localhost:8080/"
        },
        "id": "1qwTmSNxq_Br",
        "outputId": "fcbfaf1d-1ea0-4107-ead9-336d44e48f5a"
      },
      "execution_count": null,
      "outputs": [
        {
          "output_type": "stream",
          "name": "stdout",
          "text": [
            "1/1 [==============================] - 0s 23ms/step\n"
          ]
        },
        {
          "output_type": "execute_result",
          "data": {
            "text/plain": [
              "array([[0.],\n",
              "       [1.]], dtype=float32)"
            ]
          },
          "metadata": {},
          "execution_count": 30
        }
      ]
    },
    {
      "cell_type": "markdown",
      "metadata": {
        "id": "uFxNj0NB-OLM"
      },
      "source": [
        "\n",
        "\n",
        "---\n",
        "\n"
      ]
    },
    {
      "cell_type": "markdown",
      "metadata": {
        "id": "u61C1ANs-QaC"
      },
      "source": [
        "**Regression with MLP**"
      ]
    },
    {
      "cell_type": "code",
      "metadata": {
        "id": "1fklLr9f-UGf",
        "outputId": "4538d0d8-83ba-4ca4-de45-0f33a5e9af72",
        "colab": {
          "base_uri": "https://localhost:8080/"
        }
      },
      "source": [
        "from tensorflow.keras.datasets import boston_housing\n",
        "from sklearn.preprocessing import StandardScaler\n",
        "\n",
        "(X_train, y_train), (X_test, y_test) = boston_housing.load_data()\n",
        "\n",
        "scaler = StandardScaler()\n",
        "scaler.fit(X_train)\n",
        "\n",
        "X_train_scaled = scaler.transform(X_train)\n",
        "X_test_scaled = scaler.transform(X_test)\n",
        "\n",
        "print(X_train_scaled[0])"
      ],
      "execution_count": null,
      "outputs": [
        {
          "output_type": "stream",
          "name": "stdout",
          "text": [
            "Downloading data from https://storage.googleapis.com/tensorflow/tf-keras-datasets/boston_housing.npz\n",
            "57026/57026 [==============================] - 0s 0us/step\n",
            "[-0.27224633 -0.48361547 -0.43576161 -0.25683275 -0.1652266  -0.1764426\n",
            "  0.81306188  0.1166983  -0.62624905 -0.59517003  1.14850044  0.44807713\n",
            "  0.8252202 ]\n"
          ]
        }
      ]
    },
    {
      "cell_type": "code",
      "metadata": {
        "id": "59PeUmPO-yVp",
        "outputId": "8b1ae016-c56e-4d5d-dc4d-8dbb1a9b344e",
        "colab": {
          "base_uri": "https://localhost:8080/"
        }
      },
      "source": [
        "from tensorflow.keras import models, layers\n",
        "\n",
        "model = models.Sequential()\n",
        "\n",
        "print(X_train.shape)\n",
        "\n",
        "model.add(layers.Dense(8, activation='relu', input_shape=[X_train.shape[1]]))\n",
        "model.add(layers.Dense(16, activation='relu'))\n",
        "\n",
        "# output layer\n",
        "model.add(layers.Dense(1))\n",
        "\n",
        "model.compile(optimizer='adam', loss='mse', metrics=['mae'])\n",
        "\n",
        "history = model.fit(X_train_scaled, y_train, validation_split=0.2, epochs=100)"
      ],
      "execution_count": null,
      "outputs": [
        {
          "output_type": "stream",
          "name": "stdout",
          "text": [
            "(404, 13)\n",
            "Epoch 1/100\n",
            "11/11 [==============================] - 1s 20ms/step - loss: 553.7166 - mae: 21.5912 - val_loss: 625.0964 - val_mae: 23.1912\n",
            "Epoch 2/100\n",
            "11/11 [==============================] - 0s 6ms/step - loss: 544.8049 - mae: 21.3790 - val_loss: 616.1680 - val_mae: 22.9858\n",
            "Epoch 3/100\n",
            "11/11 [==============================] - 0s 7ms/step - loss: 535.2081 - mae: 21.1456 - val_loss: 606.6434 - val_mae: 22.7629\n",
            "Epoch 4/100\n",
            "11/11 [==============================] - 0s 7ms/step - loss: 524.8602 - mae: 20.8904 - val_loss: 596.6042 - val_mae: 22.5244\n",
            "Epoch 5/100\n",
            "11/11 [==============================] - 0s 5ms/step - loss: 514.0745 - mae: 20.6144 - val_loss: 585.5591 - val_mae: 22.2575\n",
            "Epoch 6/100\n",
            "11/11 [==============================] - 0s 5ms/step - loss: 502.0268 - mae: 20.3061 - val_loss: 573.4595 - val_mae: 21.9630\n",
            "Epoch 7/100\n",
            "11/11 [==============================] - 0s 5ms/step - loss: 488.5423 - mae: 19.9562 - val_loss: 559.6848 - val_mae: 21.6281\n",
            "Epoch 8/100\n",
            "11/11 [==============================] - 0s 5ms/step - loss: 473.3181 - mae: 19.5639 - val_loss: 544.1008 - val_mae: 21.2416\n",
            "Epoch 9/100\n",
            "11/11 [==============================] - 0s 5ms/step - loss: 456.2248 - mae: 19.1049 - val_loss: 526.5065 - val_mae: 20.7947\n",
            "Epoch 10/100\n",
            "11/11 [==============================] - 0s 7ms/step - loss: 436.3677 - mae: 18.5676 - val_loss: 506.7328 - val_mae: 20.2745\n",
            "Epoch 11/100\n",
            "11/11 [==============================] - 0s 5ms/step - loss: 414.6336 - mae: 17.9591 - val_loss: 483.7677 - val_mae: 19.6839\n",
            "Epoch 12/100\n",
            "11/11 [==============================] - 0s 6ms/step - loss: 389.7440 - mae: 17.2649 - val_loss: 458.2994 - val_mae: 19.0282\n",
            "Epoch 13/100\n",
            "11/11 [==============================] - 0s 7ms/step - loss: 362.7513 - mae: 16.5031 - val_loss: 430.4377 - val_mae: 18.2839\n",
            "Epoch 14/100\n",
            "11/11 [==============================] - 0s 5ms/step - loss: 334.6848 - mae: 15.6758 - val_loss: 399.5896 - val_mae: 17.4300\n",
            "Epoch 15/100\n",
            "11/11 [==============================] - 0s 5ms/step - loss: 303.5117 - mae: 14.7382 - val_loss: 367.7977 - val_mae: 16.4877\n",
            "Epoch 16/100\n",
            "11/11 [==============================] - 0s 5ms/step - loss: 272.7649 - mae: 13.7487 - val_loss: 335.2396 - val_mae: 15.4647\n",
            "Epoch 17/100\n",
            "11/11 [==============================] - 0s 7ms/step - loss: 243.0874 - mae: 12.7138 - val_loss: 301.8979 - val_mae: 14.3684\n",
            "Epoch 18/100\n",
            "11/11 [==============================] - 0s 7ms/step - loss: 213.9225 - mae: 11.6468 - val_loss: 270.8285 - val_mae: 13.2696\n",
            "Epoch 19/100\n",
            "11/11 [==============================] - 0s 7ms/step - loss: 187.1375 - mae: 10.6057 - val_loss: 241.5012 - val_mae: 12.1520\n",
            "Epoch 20/100\n",
            "11/11 [==============================] - 0s 7ms/step - loss: 162.5471 - mae: 9.5947 - val_loss: 213.7817 - val_mae: 11.0668\n",
            "Epoch 21/100\n",
            "11/11 [==============================] - 0s 7ms/step - loss: 142.2847 - mae: 8.7074 - val_loss: 189.3363 - val_mae: 10.1749\n",
            "Epoch 22/100\n",
            "11/11 [==============================] - 0s 5ms/step - loss: 125.5430 - mae: 8.0128 - val_loss: 170.8132 - val_mae: 9.5232\n",
            "Epoch 23/100\n",
            "11/11 [==============================] - 0s 7ms/step - loss: 113.5202 - mae: 7.5413 - val_loss: 155.9010 - val_mae: 9.0333\n",
            "Epoch 24/100\n",
            "11/11 [==============================] - 0s 7ms/step - loss: 103.9585 - mae: 7.1938 - val_loss: 144.2758 - val_mae: 8.6358\n",
            "Epoch 25/100\n",
            "11/11 [==============================] - 0s 6ms/step - loss: 97.3143 - mae: 6.9606 - val_loss: 133.8116 - val_mae: 8.2593\n",
            "Epoch 26/100\n",
            "11/11 [==============================] - 0s 5ms/step - loss: 90.9368 - mae: 6.7493 - val_loss: 125.0935 - val_mae: 7.9459\n",
            "Epoch 27/100\n",
            "11/11 [==============================] - 0s 8ms/step - loss: 85.6148 - mae: 6.5570 - val_loss: 116.3760 - val_mae: 7.6426\n",
            "Epoch 28/100\n",
            "11/11 [==============================] - 0s 5ms/step - loss: 80.2420 - mae: 6.3824 - val_loss: 109.0639 - val_mae: 7.3763\n",
            "Epoch 29/100\n",
            "11/11 [==============================] - 0s 5ms/step - loss: 75.6345 - mae: 6.2183 - val_loss: 102.0172 - val_mae: 7.1251\n",
            "Epoch 30/100\n",
            "11/11 [==============================] - 0s 7ms/step - loss: 71.2237 - mae: 6.0384 - val_loss: 95.9324 - val_mae: 6.9289\n",
            "Epoch 31/100\n",
            "11/11 [==============================] - 0s 8ms/step - loss: 67.0412 - mae: 5.8343 - val_loss: 90.3768 - val_mae: 6.7395\n",
            "Epoch 32/100\n",
            "11/11 [==============================] - 0s 6ms/step - loss: 62.9566 - mae: 5.6421 - val_loss: 85.0908 - val_mae: 6.5530\n",
            "Epoch 33/100\n",
            "11/11 [==============================] - 0s 7ms/step - loss: 59.3187 - mae: 5.4784 - val_loss: 79.7645 - val_mae: 6.3453\n",
            "Epoch 34/100\n",
            "11/11 [==============================] - 0s 7ms/step - loss: 55.8960 - mae: 5.3237 - val_loss: 74.7127 - val_mae: 6.1574\n",
            "Epoch 35/100\n",
            "11/11 [==============================] - 0s 5ms/step - loss: 52.9264 - mae: 5.1752 - val_loss: 69.9652 - val_mae: 5.9658\n",
            "Epoch 36/100\n",
            "11/11 [==============================] - 0s 5ms/step - loss: 49.5162 - mae: 5.0136 - val_loss: 64.6977 - val_mae: 5.7549\n",
            "Epoch 37/100\n",
            "11/11 [==============================] - 0s 7ms/step - loss: 46.4490 - mae: 4.8805 - val_loss: 60.6744 - val_mae: 5.5857\n",
            "Epoch 38/100\n",
            "11/11 [==============================] - 0s 7ms/step - loss: 43.9164 - mae: 4.7440 - val_loss: 56.9049 - val_mae: 5.4135\n",
            "Epoch 39/100\n",
            "11/11 [==============================] - 0s 6ms/step - loss: 41.3556 - mae: 4.6218 - val_loss: 53.2453 - val_mae: 5.2591\n",
            "Epoch 40/100\n",
            "11/11 [==============================] - 0s 5ms/step - loss: 39.2232 - mae: 4.5109 - val_loss: 50.2124 - val_mae: 5.1051\n",
            "Epoch 41/100\n",
            "11/11 [==============================] - 0s 7ms/step - loss: 37.0603 - mae: 4.3869 - val_loss: 47.3016 - val_mae: 4.9464\n",
            "Epoch 42/100\n",
            "11/11 [==============================] - 0s 6ms/step - loss: 35.1975 - mae: 4.2661 - val_loss: 44.7640 - val_mae: 4.8056\n",
            "Epoch 43/100\n",
            "11/11 [==============================] - 0s 5ms/step - loss: 33.5024 - mae: 4.1415 - val_loss: 42.6627 - val_mae: 4.6792\n",
            "Epoch 44/100\n",
            "11/11 [==============================] - 0s 5ms/step - loss: 32.0396 - mae: 4.0400 - val_loss: 40.6372 - val_mae: 4.5630\n",
            "Epoch 45/100\n",
            "11/11 [==============================] - 0s 5ms/step - loss: 30.6823 - mae: 3.9566 - val_loss: 38.3457 - val_mae: 4.4307\n",
            "Epoch 46/100\n",
            "11/11 [==============================] - 0s 7ms/step - loss: 29.4179 - mae: 3.8878 - val_loss: 36.4551 - val_mae: 4.3144\n",
            "Epoch 47/100\n",
            "11/11 [==============================] - 0s 7ms/step - loss: 28.2048 - mae: 3.8011 - val_loss: 34.8505 - val_mae: 4.1936\n",
            "Epoch 48/100\n",
            "11/11 [==============================] - 0s 7ms/step - loss: 27.1757 - mae: 3.7201 - val_loss: 33.1449 - val_mae: 4.0914\n",
            "Epoch 49/100\n",
            "11/11 [==============================] - 0s 5ms/step - loss: 26.1394 - mae: 3.6366 - val_loss: 31.9140 - val_mae: 3.9914\n",
            "Epoch 50/100\n",
            "11/11 [==============================] - 0s 7ms/step - loss: 25.3220 - mae: 3.5522 - val_loss: 31.0051 - val_mae: 3.9253\n",
            "Epoch 51/100\n",
            "11/11 [==============================] - 0s 8ms/step - loss: 24.4855 - mae: 3.4761 - val_loss: 30.0037 - val_mae: 3.8521\n",
            "Epoch 52/100\n",
            "11/11 [==============================] - 0s 5ms/step - loss: 23.7764 - mae: 3.4176 - val_loss: 28.7863 - val_mae: 3.7875\n",
            "Epoch 53/100\n",
            "11/11 [==============================] - 0s 7ms/step - loss: 23.0773 - mae: 3.3691 - val_loss: 27.6944 - val_mae: 3.7364\n",
            "Epoch 54/100\n",
            "11/11 [==============================] - 0s 7ms/step - loss: 22.4250 - mae: 3.3330 - val_loss: 26.7312 - val_mae: 3.6869\n",
            "Epoch 55/100\n",
            "11/11 [==============================] - 0s 5ms/step - loss: 21.8616 - mae: 3.3086 - val_loss: 25.6295 - val_mae: 3.6411\n",
            "Epoch 56/100\n",
            "11/11 [==============================] - 0s 7ms/step - loss: 21.2783 - mae: 3.2739 - val_loss: 25.0480 - val_mae: 3.5906\n",
            "Epoch 57/100\n",
            "11/11 [==============================] - 0s 7ms/step - loss: 20.8130 - mae: 3.2452 - val_loss: 24.4452 - val_mae: 3.5533\n",
            "Epoch 58/100\n",
            "11/11 [==============================] - 0s 5ms/step - loss: 20.3767 - mae: 3.2143 - val_loss: 23.9960 - val_mae: 3.5056\n",
            "Epoch 59/100\n",
            "11/11 [==============================] - 0s 8ms/step - loss: 19.9982 - mae: 3.1834 - val_loss: 23.4169 - val_mae: 3.4678\n",
            "Epoch 60/100\n",
            "11/11 [==============================] - 0s 7ms/step - loss: 19.6305 - mae: 3.1588 - val_loss: 22.9447 - val_mae: 3.4328\n",
            "Epoch 61/100\n",
            "11/11 [==============================] - 0s 5ms/step - loss: 19.3047 - mae: 3.1302 - val_loss: 22.5725 - val_mae: 3.4028\n",
            "Epoch 62/100\n",
            "11/11 [==============================] - 0s 5ms/step - loss: 18.9727 - mae: 3.0910 - val_loss: 22.3602 - val_mae: 3.3838\n",
            "Epoch 63/100\n",
            "11/11 [==============================] - 0s 5ms/step - loss: 18.7521 - mae: 3.0643 - val_loss: 22.0941 - val_mae: 3.3720\n",
            "Epoch 64/100\n",
            "11/11 [==============================] - 0s 5ms/step - loss: 18.4632 - mae: 3.0464 - val_loss: 21.6226 - val_mae: 3.3507\n",
            "Epoch 65/100\n",
            "11/11 [==============================] - 0s 33ms/step - loss: 18.2312 - mae: 3.0360 - val_loss: 21.2733 - val_mae: 3.3321\n",
            "Epoch 66/100\n",
            "11/11 [==============================] - 0s 6ms/step - loss: 17.9797 - mae: 3.0178 - val_loss: 21.0002 - val_mae: 3.3141\n",
            "Epoch 67/100\n",
            "11/11 [==============================] - 0s 7ms/step - loss: 17.7566 - mae: 3.0021 - val_loss: 20.6223 - val_mae: 3.3070\n",
            "Epoch 68/100\n",
            "11/11 [==============================] - 0s 7ms/step - loss: 17.6018 - mae: 3.0029 - val_loss: 20.2687 - val_mae: 3.2873\n",
            "Epoch 69/100\n",
            "11/11 [==============================] - 0s 6ms/step - loss: 17.3593 - mae: 2.9849 - val_loss: 20.0760 - val_mae: 3.2674\n",
            "Epoch 70/100\n",
            "11/11 [==============================] - 0s 7ms/step - loss: 17.1832 - mae: 2.9675 - val_loss: 19.9797 - val_mae: 3.2524\n",
            "Epoch 71/100\n",
            "11/11 [==============================] - 0s 5ms/step - loss: 17.0083 - mae: 2.9569 - val_loss: 19.7374 - val_mae: 3.2369\n",
            "Epoch 72/100\n",
            "11/11 [==============================] - 0s 7ms/step - loss: 16.8680 - mae: 2.9519 - val_loss: 19.5425 - val_mae: 3.2302\n",
            "Epoch 73/100\n",
            "11/11 [==============================] - 0s 5ms/step - loss: 16.7423 - mae: 2.9402 - val_loss: 19.3733 - val_mae: 3.2234\n",
            "Epoch 74/100\n",
            "11/11 [==============================] - 0s 6ms/step - loss: 16.5912 - mae: 2.9139 - val_loss: 19.2577 - val_mae: 3.2088\n",
            "Epoch 75/100\n",
            "11/11 [==============================] - 0s 7ms/step - loss: 16.4235 - mae: 2.8993 - val_loss: 19.0802 - val_mae: 3.1922\n",
            "Epoch 76/100\n",
            "11/11 [==============================] - 0s 6ms/step - loss: 16.2891 - mae: 2.8980 - val_loss: 18.8708 - val_mae: 3.1806\n",
            "Epoch 77/100\n",
            "11/11 [==============================] - 0s 5ms/step - loss: 16.1111 - mae: 2.8902 - val_loss: 18.7052 - val_mae: 3.1676\n",
            "Epoch 78/100\n",
            "11/11 [==============================] - 0s 5ms/step - loss: 16.0060 - mae: 2.8840 - val_loss: 18.4571 - val_mae: 3.1559\n",
            "Epoch 79/100\n",
            "11/11 [==============================] - 0s 6ms/step - loss: 15.8182 - mae: 2.9157 - val_loss: 18.5385 - val_mae: 3.1614\n",
            "Epoch 80/100\n",
            "11/11 [==============================] - 0s 5ms/step - loss: 15.7667 - mae: 2.9384 - val_loss: 18.4531 - val_mae: 3.1564\n",
            "Epoch 81/100\n",
            "11/11 [==============================] - 0s 7ms/step - loss: 15.5854 - mae: 2.9138 - val_loss: 18.3375 - val_mae: 3.1582\n",
            "Epoch 82/100\n",
            "11/11 [==============================] - 0s 5ms/step - loss: 15.4394 - mae: 2.8878 - val_loss: 18.2962 - val_mae: 3.1532\n",
            "Epoch 83/100\n",
            "11/11 [==============================] - 0s 7ms/step - loss: 15.2427 - mae: 2.8587 - val_loss: 18.1778 - val_mae: 3.1432\n",
            "Epoch 84/100\n",
            "11/11 [==============================] - 0s 8ms/step - loss: 15.1327 - mae: 2.8415 - val_loss: 18.1696 - val_mae: 3.1395\n",
            "Epoch 85/100\n",
            "11/11 [==============================] - 0s 6ms/step - loss: 14.9829 - mae: 2.8209 - val_loss: 18.1498 - val_mae: 3.1467\n",
            "Epoch 86/100\n",
            "11/11 [==============================] - 0s 5ms/step - loss: 14.9339 - mae: 2.8122 - val_loss: 18.0741 - val_mae: 3.1442\n",
            "Epoch 87/100\n",
            "11/11 [==============================] - 0s 5ms/step - loss: 14.8248 - mae: 2.7981 - val_loss: 17.9154 - val_mae: 3.1281\n",
            "Epoch 88/100\n",
            "11/11 [==============================] - 0s 6ms/step - loss: 14.6557 - mae: 2.7900 - val_loss: 18.1042 - val_mae: 3.1112\n",
            "Epoch 89/100\n",
            "11/11 [==============================] - 0s 7ms/step - loss: 14.6507 - mae: 2.8158 - val_loss: 18.0090 - val_mae: 3.1028\n",
            "Epoch 90/100\n",
            "11/11 [==============================] - 0s 7ms/step - loss: 14.5281 - mae: 2.8019 - val_loss: 17.9064 - val_mae: 3.0891\n",
            "Epoch 91/100\n",
            "11/11 [==============================] - 0s 5ms/step - loss: 14.3614 - mae: 2.7835 - val_loss: 17.8203 - val_mae: 3.0920\n",
            "Epoch 92/100\n",
            "11/11 [==============================] - 0s 6ms/step - loss: 14.2396 - mae: 2.7575 - val_loss: 17.6558 - val_mae: 3.0816\n",
            "Epoch 93/100\n",
            "11/11 [==============================] - 0s 7ms/step - loss: 14.1370 - mae: 2.7422 - val_loss: 17.4708 - val_mae: 3.0663\n",
            "Epoch 94/100\n",
            "11/11 [==============================] - 0s 5ms/step - loss: 14.0471 - mae: 2.7363 - val_loss: 17.3441 - val_mae: 3.0589\n",
            "Epoch 95/100\n",
            "11/11 [==============================] - 0s 7ms/step - loss: 14.0150 - mae: 2.7359 - val_loss: 17.2452 - val_mae: 3.0469\n",
            "Epoch 96/100\n",
            "11/11 [==============================] - 0s 7ms/step - loss: 13.8864 - mae: 2.7165 - val_loss: 17.0313 - val_mae: 3.0338\n",
            "Epoch 97/100\n",
            "11/11 [==============================] - 0s 6ms/step - loss: 13.7762 - mae: 2.6878 - val_loss: 16.9107 - val_mae: 3.0228\n",
            "Epoch 98/100\n",
            "11/11 [==============================] - 0s 7ms/step - loss: 13.7456 - mae: 2.6831 - val_loss: 16.7784 - val_mae: 3.0125\n",
            "Epoch 99/100\n",
            "11/11 [==============================] - 0s 5ms/step - loss: 13.6566 - mae: 2.6774 - val_loss: 16.6515 - val_mae: 3.0007\n",
            "Epoch 100/100\n",
            "11/11 [==============================] - 0s 5ms/step - loss: 13.5732 - mae: 2.6738 - val_loss: 16.5565 - val_mae: 2.9887\n"
          ]
        }
      ]
    },
    {
      "cell_type": "code",
      "metadata": {
        "id": "wGYPKelw_YrG",
        "outputId": "c591e82f-d7a2-4e63-f293-c9000071799f",
        "colab": {
          "base_uri": "https://localhost:8080/"
        }
      },
      "source": [
        "# The output values represent the loss (Mean Squarred Error) and\n",
        "# the metrics (Mean Absolute Error)\n",
        "model.evaluate(X_test_scaled, y_test)"
      ],
      "execution_count": null,
      "outputs": [
        {
          "output_type": "stream",
          "name": "stdout",
          "text": [
            "4/4 [==============================] - 0s 3ms/step - loss: 28.8466 - mae: 3.9415\n"
          ]
        },
        {
          "output_type": "execute_result",
          "data": {
            "text/plain": [
              "[28.846601486206055, 3.94154691696167]"
            ]
          },
          "metadata": {},
          "execution_count": 33
        }
      ]
    },
    {
      "cell_type": "code",
      "metadata": {
        "id": "jMTQi9Cm_qTf",
        "outputId": "80d8867a-1dc0-4d69-879c-343362bd4eb5",
        "colab": {
          "base_uri": "https://localhost:8080/"
        }
      },
      "source": [
        "# we get a sample data (the first 2 inputs from the training data)\n",
        "to_predict = X_train_scaled[:2]\n",
        "\n",
        "predictions = model.predict(to_predict)\n",
        "print(predictions)\n",
        "print(y_train[:2])"
      ],
      "execution_count": null,
      "outputs": [
        {
          "output_type": "stream",
          "name": "stdout",
          "text": [
            "1/1 [==============================] - 0s 59ms/step\n",
            "[[15.134448]\n",
            " [40.933304]]\n",
            "[15.2 42.3]\n"
          ]
        }
      ]
    },
    {
      "cell_type": "markdown",
      "metadata": {
        "id": "MVnh7hlj-Sh-"
      },
      "source": [
        "**Optimizer functions**\n",
        "\n",
        "* Optimizers are algorithms or methods used to change the attributes of your neural network such as weights and learning rate in order to reduce the losses.\n",
        "\n",
        "* Gradient descent, Stochastic Gradient descent, Mini-Batch Gradient descent\n",
        "\n",
        "* Adaptive gradient descent algorithms such as Adagrad, RMSprop, Adam, provide an alternative to classical SGD. They have per-parameter learning rate methods.\n"
      ]
    },
    {
      "cell_type": "markdown",
      "metadata": {
        "id": "YBjMXwZN_UUH"
      },
      "source": [
        "###CNN s\n"
      ]
    },
    {
      "cell_type": "markdown",
      "metadata": {
        "id": "uZ8qONVDpBRA"
      },
      "source": [
        "* https://www.youtube.com/watch?v=f0t-OCG79-U\n",
        "\n",
        "* **Convolution** : Dictionary meaning - a thing that is complex and difficult to follow. a coil or twist\n",
        "\n",
        "* Convolutional Neural Networks are a powerful artificial neural network technique.\n",
        "\n",
        "* These networks preserve the spatial structure like edges etc. of the problem and were developed for object recognition tasks such as handwritten digit recognition.\n",
        "\n",
        "* Feature are learned and used across the whole image, allowing for the objects in the images to be shifted or translated in the scene and still detectable by the network.\n",
        "\n",
        "* It is this reason why the network is so useful for object recognition in photographs, picking out digits, faces, objects and so on with varying orientation.\n",
        "\n",
        "**There are three types of layers in a Convolutional Neural Network:**\n",
        "1. Convolutional Layers.\n",
        "2. Pooling Layers.\n",
        "3. Fully-Connected Layers."
      ]
    },
    {
      "cell_type": "markdown",
      "metadata": {
        "id": "707o1tX4sxsh"
      },
      "source": [
        "\n",
        "\n",
        "---\n",
        "\n"
      ]
    },
    {
      "cell_type": "markdown",
      "metadata": {
        "id": "toC4LIPdsyos"
      },
      "source": [
        "**Convolutional layers are comprised of filters and feature maps.**\n",
        "\n",
        "\n",
        "* A convolution layer is like a flashlight that is shining over the top left of the image. Let’s say that the light this flashlight shines covers a 5 x 5 area. And now, let’s imagine this flashlight sliding across all the areas of the input image. In machine learning terms, this flashlight is called a filter(or sometimes referred to as a neuron or a kernel) and the region that it is shining over is called the receptive field.  The filters are essentially the neurons of the layer. They have both weighted inputs and generate an output value like a neuron.\n",
        "\n",
        "* The weights are adjusted in such a way as to learn / detect the patterns in the image like edges, shapes etc.\n",
        "\n",
        "* The feature map is the output of one filter applied to the previous layer. A given filter is drawn across the entire previous layer, moved one pixel at a time. Each position results in an activation of the neuron and the output is collected in the feature map.\n",
        "\n",
        "* The distance that filter is moved across the input from the previous layer at each activation is referred to as the stride.\n",
        "\n",
        "* Max pooling is a pooling operation that selects the maximum element from the region of the feature map covered by the filter. Thus, the output after max-pooling layer would be a feature map containing the most prominent features of the previous feature map.  It is to reduce overfitting and to increase computational speed.\n",
        "\n",
        "* In between the convolutional layer and the fully connected layer, there is a 'Flatten' layer. Flattening transforms a two-dimensional matrix of features into a vector that can be fed into a fully connected neural network classifier.\n",
        "\n",
        "* Learn more at https://adeshpande3.github.io/A-Beginner%27s-Guide-To-Understanding-Convolutional-Neural-Networks/"
      ]
    },
    {
      "cell_type": "code",
      "metadata": {
        "id": "XdRXJ05kYFR7",
        "colab": {
          "base_uri": "https://localhost:8080/"
        },
        "outputId": "a2ea5539-4d21-482c-d013-fbaef124ce72"
      },
      "source": [
        "\n",
        "import numpy as np\n",
        "from tensorflow.keras.datasets import mnist\n",
        "from tensorflow.keras.models import Sequential\n",
        "from tensorflow.keras.layers import Conv2D, MaxPooling2D, Dense, Flatten\n",
        "from tensorflow.keras.utils import to_categorical\n",
        "\n",
        "(train_images, train_labels), (test_images, test_labels) = mnist.load_data()\n",
        "\n",
        "# Normalize the images.\n",
        "train_images = (train_images / 255)\n",
        "test_images = (test_images / 255)\n",
        "\n",
        "# Reshape the images. CNNs requires the third dimension.\n",
        "train_images = np.expand_dims(train_images, axis=3)\n",
        "test_images = np.expand_dims(test_images, axis=3)\n",
        "\n",
        "print(train_images.shape)\n",
        "print(test_images.shape)\n",
        "\n"
      ],
      "execution_count": null,
      "outputs": [
        {
          "output_type": "stream",
          "name": "stdout",
          "text": [
            "Downloading data from https://storage.googleapis.com/tensorflow/tf-keras-datasets/mnist.npz\n",
            "11490434/11490434 [==============================] - 0s 0us/step\n",
            "(60000, 28, 28, 1)\n",
            "(10000, 28, 28, 1)\n"
          ]
        }
      ]
    },
    {
      "cell_type": "code",
      "metadata": {
        "id": "9J07qKnYn2uo",
        "colab": {
          "base_uri": "https://localhost:8080/"
        },
        "outputId": "4e25ebd5-9d9f-43ae-ef49-c57ae9548dc5"
      },
      "source": [
        "num_filters = 8\n",
        "filter_size = 3\n",
        "pool_size = 2\n",
        "\n",
        "# Build the model.\n",
        "model = Sequential([\n",
        "  Conv2D(\n",
        "    num_filters,\n",
        "    filter_size,\n",
        "    input_shape=(28, 28, 1),\n",
        "    strides=1,\n",
        "    ),\n",
        "  MaxPooling2D(pool_size=pool_size),\n",
        "  Flatten(),\n",
        "  Dense(64, activation='relu'),\n",
        "  Dense(10, activation='softmax'),\n",
        "])\n",
        "\n",
        "# Compile the model.\n",
        "model.compile(\n",
        "  'adam',\n",
        "  loss='categorical_crossentropy',\n",
        "  metrics=['accuracy'],\n",
        ")\n",
        "\n",
        "# Train the model.\n",
        "model.fit(\n",
        "  train_images,\n",
        "  to_categorical(train_labels),\n",
        "  epochs=5,\n",
        "  validation_data=(test_images, to_categorical(test_labels)),\n",
        ")"
      ],
      "execution_count": null,
      "outputs": [
        {
          "output_type": "stream",
          "name": "stdout",
          "text": [
            "Epoch 1/5\n",
            "1875/1875 [==============================] - 23s 12ms/step - loss: 0.2507 - accuracy: 0.9281 - val_loss: 0.1309 - val_accuracy: 0.9624\n",
            "Epoch 2/5\n",
            "1875/1875 [==============================] - 21s 11ms/step - loss: 0.1007 - accuracy: 0.9696 - val_loss: 0.0926 - val_accuracy: 0.9716\n",
            "Epoch 3/5\n",
            "1875/1875 [==============================] - 22s 12ms/step - loss: 0.0674 - accuracy: 0.9799 - val_loss: 0.0645 - val_accuracy: 0.9799\n",
            "Epoch 4/5\n",
            "1875/1875 [==============================] - 22s 12ms/step - loss: 0.0493 - accuracy: 0.9849 - val_loss: 0.0638 - val_accuracy: 0.9801\n",
            "Epoch 5/5\n",
            "1875/1875 [==============================] - 23s 12ms/step - loss: 0.0382 - accuracy: 0.9880 - val_loss: 0.0584 - val_accuracy: 0.9818\n"
          ]
        },
        {
          "output_type": "execute_result",
          "data": {
            "text/plain": [
              "<keras.callbacks.History at 0x7f2edf6895d0>"
            ]
          },
          "metadata": {},
          "execution_count": 12
        }
      ]
    },
    {
      "cell_type": "code",
      "metadata": {
        "id": "hzrns8rqg8Th",
        "colab": {
          "base_uri": "https://localhost:8080/"
        },
        "outputId": "cdd3d710-670e-4d28-b994-3ba24ebeb958"
      },
      "source": [
        "# Predict on the first 5 test images.\n",
        "predictions = model.predict(test_images[:5])\n",
        "\n",
        "# Print our model's predictions.\n",
        "print(predictions)\n",
        "print(np.argmax(predictions, axis=1))\n",
        "\n",
        "# Check our predictions against the ground truths.\n",
        "print(test_labels[:5])"
      ],
      "execution_count": null,
      "outputs": [
        {
          "output_type": "stream",
          "name": "stdout",
          "text": [
            "1/1 [==============================] - 0s 198ms/step\n",
            "[[1.15229234e-07 3.75183760e-07 5.05958360e-06 3.39941871e-05\n",
            "  4.35738414e-08 7.72664688e-09 1.88264638e-12 9.99959826e-01\n",
            "  2.05789888e-07 4.12615549e-07]\n",
            " [1.18748185e-08 5.34070566e-08 9.99933481e-01 6.63942265e-05\n",
            "  8.18422004e-14 1.40898315e-09 1.01236147e-07 3.38005150e-13\n",
            "  9.57851842e-09 7.35363105e-14]\n",
            " [1.21742073e-06 9.99910593e-01 5.80792857e-06 5.10812868e-07\n",
            "  4.35022193e-05 2.45265960e-06 5.95488359e-07 2.30238129e-05\n",
            "  1.09251414e-05 1.34839365e-06]\n",
            " [9.99765813e-01 5.23953370e-09 2.22337389e-04 1.68161822e-08\n",
            "  9.53972101e-09 3.69761665e-07 6.00910653e-06 1.84457022e-07\n",
            "  1.95364152e-08 5.22060327e-06]\n",
            " [2.15801123e-07 3.45516992e-06 5.49431570e-06 1.56788900e-07\n",
            "  9.96993661e-01 1.65280130e-06 9.42611678e-06 2.51285353e-04\n",
            "  6.68756984e-05 2.66770506e-03]]\n",
            "[7 2 1 0 4]\n",
            "[7 2 1 0 4]\n"
          ]
        }
      ]
    },
    {
      "cell_type": "markdown",
      "source": [
        "**More examples**\n",
        "\n",
        "https://www.tensorflow.org/tutorials/images/cnn"
      ],
      "metadata": {
        "id": "_sXfhqIL1uV4"
      }
    },
    {
      "cell_type": "markdown",
      "source": [
        "### NLP"
      ],
      "metadata": {
        "id": "hgn25aMls6Zi"
      }
    },
    {
      "cell_type": "markdown",
      "metadata": {
        "id": "PEwQ7VaPjq1C"
      },
      "source": [
        "**Text vectorization**\n",
        "\n",
        "* Since the beginning of the brief history of Natural Language Processing (NLP), there has been the need to transform text into something a machine can understand. That is, transforming text into a meaningful vector (or array) of numbers. The de-facto standard way of doing this in the pre-deep learning era was to use a **bag of words** approach.\n",
        "\n",
        "* The idea behind this method is straightforward, though very powerful. First, we define a fixed length vector where each entry corresponds to a word in our pre-defined dictionary of words. The size of the vector equals the size of the dictionary. Then, for representing a text using this vector, we count how many times each word of our dictionary appears in the text and we put this number in the corresponding vector entry.\n",
        "\n",
        "* Bag of words indicates the count of each word in the document. This simple model is used, for example, in naive Bayes\n",
        "\n",
        "* Note that each row in a Document Term Matrix (DTM) corresponds to a word vector.\n",
        "\n",
        "* In text mining, it is important to create the **document-term matrix (DTM)** of the corpus we are interested in. A DTM is basically a matrix, with documents designated by rows and words by columns, that the elements are the counts or the weights (usually by tf-idf).\n",
        "\n",
        "* To improve this representation, you can use some more advanced techniques like removing stopwords, lemmatizing words, using n-grams or using tf-idf instead of counts.\n",
        "\n",
        "* The problem with this method is that it doesn’t capture the meaning of the text, or the context in which words appear, even when using n-grams.\n",
        "\n",
        "* Learn more athttps://www.mygreatlearning.com/blog/bag-of-words/"
      ]
    },
    {
      "cell_type": "markdown",
      "metadata": {
        "id": "EytepP6AkYg1"
      },
      "source": [
        "\n",
        "\n",
        "---\n",
        "\n"
      ]
    },
    {
      "cell_type": "markdown",
      "metadata": {
        "id": "0jW5UOk_tAJ4"
      },
      "source": [
        "\n",
        "**TF-IDF**\n",
        "\n",
        "* It is a statistical measure that evaluates how relevant a word is to a document in a collection of documents. This is done by multiplying two metrics: how many times a word appears in a document, and the inverse document frequency of the word across a set of documents.\n",
        "\n",
        "* TF-IDF are word frequency scores that try to highlight words that are more interesting, e.g. frequent in a document but not across documents. The TfidfVectorizer will tokenize documents, learn the vocabulary and inverse document frequency weightings, and allow you to encode new documents"
      ]
    },
    {
      "cell_type": "markdown",
      "metadata": {
        "id": "wm7UZAIFDTxH"
      },
      "source": [
        "**Sparse vs Dense matrices**\n",
        "\n",
        "* Matrices that contain mostly zero values are called sparse, distinct from matrices where most of the values are non-zero, called dense.\n",
        "\n",
        "\n",
        "* It is computationally expensive to represent and work with sparse matrices as though they are dense, and much improvement in performance can be achieved by converting them into dense arrays / matrices\n",
        "\n",
        "* Learn more at https://www.geeksforgeeks.org/sparse-matrix-representation/"
      ]
    },
    {
      "cell_type": "markdown",
      "metadata": {
        "id": "DT_Jisn2z2lv"
      },
      "source": [
        "**Spam classification using Naive Bayes**\n",
        "\n",
        "* It works well for linearly non-separable data as it relies on probability rather than on any hyper-plane etc."
      ]
    },
    {
      "cell_type": "code",
      "metadata": {
        "id": "CCMsFVJSPvr2",
        "colab": {
          "base_uri": "https://localhost:8080/",
          "height": 241
        },
        "outputId": "b7115426-9bd8-469b-e9ba-1fad04eab9e7"
      },
      "source": [
        "# Get the data from https://www.kaggle.com/uciml/sms-spam-collection-dataset\n",
        "# SMS spam classification\n",
        "import pandas as pd\n",
        "from nltk.corpus import stopwords\n",
        "import nltk\n",
        "nltk.download('stopwords')\n",
        "\n",
        "smsDF=pd.read_csv(\"spam.csv\", encoding='ISO-8859-1')\n",
        "smsDF.head()"
      ],
      "execution_count": null,
      "outputs": [
        {
          "output_type": "stream",
          "name": "stderr",
          "text": [
            "[nltk_data] Downloading package stopwords to /root/nltk_data...\n",
            "[nltk_data]   Unzipping corpora/stopwords.zip.\n"
          ]
        },
        {
          "output_type": "execute_result",
          "data": {
            "text/plain": [
              "     v1                                                 v2 Unnamed: 2  \\\n",
              "0   ham  Go until jurong point, crazy.. Available only ...        NaN   \n",
              "1   ham                      Ok lar... Joking wif u oni...        NaN   \n",
              "2  spam  Free entry in 2 a wkly comp to win FA Cup fina...        NaN   \n",
              "3   ham  U dun say so early hor... U c already then say...        NaN   \n",
              "4   ham  Nah I don't think he goes to usf, he lives aro...        NaN   \n",
              "\n",
              "  Unnamed: 3 Unnamed: 4  \n",
              "0        NaN        NaN  \n",
              "1        NaN        NaN  \n",
              "2        NaN        NaN  \n",
              "3        NaN        NaN  \n",
              "4        NaN        NaN  "
            ],
            "text/html": [
              "\n",
              "  <div id=\"df-ac833baf-2633-402b-972c-5f1026941776\">\n",
              "    <div class=\"colab-df-container\">\n",
              "      <div>\n",
              "<style scoped>\n",
              "    .dataframe tbody tr th:only-of-type {\n",
              "        vertical-align: middle;\n",
              "    }\n",
              "\n",
              "    .dataframe tbody tr th {\n",
              "        vertical-align: top;\n",
              "    }\n",
              "\n",
              "    .dataframe thead th {\n",
              "        text-align: right;\n",
              "    }\n",
              "</style>\n",
              "<table border=\"1\" class=\"dataframe\">\n",
              "  <thead>\n",
              "    <tr style=\"text-align: right;\">\n",
              "      <th></th>\n",
              "      <th>v1</th>\n",
              "      <th>v2</th>\n",
              "      <th>Unnamed: 2</th>\n",
              "      <th>Unnamed: 3</th>\n",
              "      <th>Unnamed: 4</th>\n",
              "    </tr>\n",
              "  </thead>\n",
              "  <tbody>\n",
              "    <tr>\n",
              "      <th>0</th>\n",
              "      <td>ham</td>\n",
              "      <td>Go until jurong point, crazy.. Available only ...</td>\n",
              "      <td>NaN</td>\n",
              "      <td>NaN</td>\n",
              "      <td>NaN</td>\n",
              "    </tr>\n",
              "    <tr>\n",
              "      <th>1</th>\n",
              "      <td>ham</td>\n",
              "      <td>Ok lar... Joking wif u oni...</td>\n",
              "      <td>NaN</td>\n",
              "      <td>NaN</td>\n",
              "      <td>NaN</td>\n",
              "    </tr>\n",
              "    <tr>\n",
              "      <th>2</th>\n",
              "      <td>spam</td>\n",
              "      <td>Free entry in 2 a wkly comp to win FA Cup fina...</td>\n",
              "      <td>NaN</td>\n",
              "      <td>NaN</td>\n",
              "      <td>NaN</td>\n",
              "    </tr>\n",
              "    <tr>\n",
              "      <th>3</th>\n",
              "      <td>ham</td>\n",
              "      <td>U dun say so early hor... U c already then say...</td>\n",
              "      <td>NaN</td>\n",
              "      <td>NaN</td>\n",
              "      <td>NaN</td>\n",
              "    </tr>\n",
              "    <tr>\n",
              "      <th>4</th>\n",
              "      <td>ham</td>\n",
              "      <td>Nah I don't think he goes to usf, he lives aro...</td>\n",
              "      <td>NaN</td>\n",
              "      <td>NaN</td>\n",
              "      <td>NaN</td>\n",
              "    </tr>\n",
              "  </tbody>\n",
              "</table>\n",
              "</div>\n",
              "      <button class=\"colab-df-convert\" onclick=\"convertToInteractive('df-ac833baf-2633-402b-972c-5f1026941776')\"\n",
              "              title=\"Convert this dataframe to an interactive table.\"\n",
              "              style=\"display:none;\">\n",
              "        \n",
              "  <svg xmlns=\"http://www.w3.org/2000/svg\" height=\"24px\"viewBox=\"0 0 24 24\"\n",
              "       width=\"24px\">\n",
              "    <path d=\"M0 0h24v24H0V0z\" fill=\"none\"/>\n",
              "    <path d=\"M18.56 5.44l.94 2.06.94-2.06 2.06-.94-2.06-.94-.94-2.06-.94 2.06-2.06.94zm-11 1L8.5 8.5l.94-2.06 2.06-.94-2.06-.94L8.5 2.5l-.94 2.06-2.06.94zm10 10l.94 2.06.94-2.06 2.06-.94-2.06-.94-.94-2.06-.94 2.06-2.06.94z\"/><path d=\"M17.41 7.96l-1.37-1.37c-.4-.4-.92-.59-1.43-.59-.52 0-1.04.2-1.43.59L10.3 9.45l-7.72 7.72c-.78.78-.78 2.05 0 2.83L4 21.41c.39.39.9.59 1.41.59.51 0 1.02-.2 1.41-.59l7.78-7.78 2.81-2.81c.8-.78.8-2.07 0-2.86zM5.41 20L4 18.59l7.72-7.72 1.47 1.35L5.41 20z\"/>\n",
              "  </svg>\n",
              "      </button>\n",
              "      \n",
              "  <style>\n",
              "    .colab-df-container {\n",
              "      display:flex;\n",
              "      flex-wrap:wrap;\n",
              "      gap: 12px;\n",
              "    }\n",
              "\n",
              "    .colab-df-convert {\n",
              "      background-color: #E8F0FE;\n",
              "      border: none;\n",
              "      border-radius: 50%;\n",
              "      cursor: pointer;\n",
              "      display: none;\n",
              "      fill: #1967D2;\n",
              "      height: 32px;\n",
              "      padding: 0 0 0 0;\n",
              "      width: 32px;\n",
              "    }\n",
              "\n",
              "    .colab-df-convert:hover {\n",
              "      background-color: #E2EBFA;\n",
              "      box-shadow: 0px 1px 2px rgba(60, 64, 67, 0.3), 0px 1px 3px 1px rgba(60, 64, 67, 0.15);\n",
              "      fill: #174EA6;\n",
              "    }\n",
              "\n",
              "    [theme=dark] .colab-df-convert {\n",
              "      background-color: #3B4455;\n",
              "      fill: #D2E3FC;\n",
              "    }\n",
              "\n",
              "    [theme=dark] .colab-df-convert:hover {\n",
              "      background-color: #434B5C;\n",
              "      box-shadow: 0px 1px 3px 1px rgba(0, 0, 0, 0.15);\n",
              "      filter: drop-shadow(0px 1px 2px rgba(0, 0, 0, 0.3));\n",
              "      fill: #FFFFFF;\n",
              "    }\n",
              "  </style>\n",
              "\n",
              "      <script>\n",
              "        const buttonEl =\n",
              "          document.querySelector('#df-ac833baf-2633-402b-972c-5f1026941776 button.colab-df-convert');\n",
              "        buttonEl.style.display =\n",
              "          google.colab.kernel.accessAllowed ? 'block' : 'none';\n",
              "\n",
              "        async function convertToInteractive(key) {\n",
              "          const element = document.querySelector('#df-ac833baf-2633-402b-972c-5f1026941776');\n",
              "          const dataTable =\n",
              "            await google.colab.kernel.invokeFunction('convertToInteractive',\n",
              "                                                     [key], {});\n",
              "          if (!dataTable) return;\n",
              "\n",
              "          const docLinkHtml = 'Like what you see? Visit the ' +\n",
              "            '<a target=\"_blank\" href=https://colab.research.google.com/notebooks/data_table.ipynb>data table notebook</a>'\n",
              "            + ' to learn more about interactive tables.';\n",
              "          element.innerHTML = '';\n",
              "          dataTable['output_type'] = 'display_data';\n",
              "          await google.colab.output.renderOutput(dataTable, element);\n",
              "          const docLink = document.createElement('div');\n",
              "          docLink.innerHTML = docLinkHtml;\n",
              "          element.appendChild(docLink);\n",
              "        }\n",
              "      </script>\n",
              "    </div>\n",
              "  </div>\n",
              "  "
            ]
          },
          "metadata": {},
          "execution_count": 1
        }
      ]
    },
    {
      "cell_type": "code",
      "metadata": {
        "id": "Cy03WGMUa6Uu",
        "colab": {
          "base_uri": "https://localhost:8080/",
          "height": 206
        },
        "outputId": "c1e65c87-ef0a-4d9d-df79-ce412c38fb57"
      },
      "source": [
        "smsDF=smsDF.drop(columns=['Unnamed: 2',\t'Unnamed: 3',\t'Unnamed: 4'])\n",
        "\n",
        "smsDF.head()"
      ],
      "execution_count": null,
      "outputs": [
        {
          "output_type": "execute_result",
          "data": {
            "text/plain": [
              "     v1                                                 v2\n",
              "0   ham  Go until jurong point, crazy.. Available only ...\n",
              "1   ham                      Ok lar... Joking wif u oni...\n",
              "2  spam  Free entry in 2 a wkly comp to win FA Cup fina...\n",
              "3   ham  U dun say so early hor... U c already then say...\n",
              "4   ham  Nah I don't think he goes to usf, he lives aro..."
            ],
            "text/html": [
              "\n",
              "  <div id=\"df-e374698a-8973-4d7b-82b3-3747bedb5c2a\">\n",
              "    <div class=\"colab-df-container\">\n",
              "      <div>\n",
              "<style scoped>\n",
              "    .dataframe tbody tr th:only-of-type {\n",
              "        vertical-align: middle;\n",
              "    }\n",
              "\n",
              "    .dataframe tbody tr th {\n",
              "        vertical-align: top;\n",
              "    }\n",
              "\n",
              "    .dataframe thead th {\n",
              "        text-align: right;\n",
              "    }\n",
              "</style>\n",
              "<table border=\"1\" class=\"dataframe\">\n",
              "  <thead>\n",
              "    <tr style=\"text-align: right;\">\n",
              "      <th></th>\n",
              "      <th>v1</th>\n",
              "      <th>v2</th>\n",
              "    </tr>\n",
              "  </thead>\n",
              "  <tbody>\n",
              "    <tr>\n",
              "      <th>0</th>\n",
              "      <td>ham</td>\n",
              "      <td>Go until jurong point, crazy.. Available only ...</td>\n",
              "    </tr>\n",
              "    <tr>\n",
              "      <th>1</th>\n",
              "      <td>ham</td>\n",
              "      <td>Ok lar... Joking wif u oni...</td>\n",
              "    </tr>\n",
              "    <tr>\n",
              "      <th>2</th>\n",
              "      <td>spam</td>\n",
              "      <td>Free entry in 2 a wkly comp to win FA Cup fina...</td>\n",
              "    </tr>\n",
              "    <tr>\n",
              "      <th>3</th>\n",
              "      <td>ham</td>\n",
              "      <td>U dun say so early hor... U c already then say...</td>\n",
              "    </tr>\n",
              "    <tr>\n",
              "      <th>4</th>\n",
              "      <td>ham</td>\n",
              "      <td>Nah I don't think he goes to usf, he lives aro...</td>\n",
              "    </tr>\n",
              "  </tbody>\n",
              "</table>\n",
              "</div>\n",
              "      <button class=\"colab-df-convert\" onclick=\"convertToInteractive('df-e374698a-8973-4d7b-82b3-3747bedb5c2a')\"\n",
              "              title=\"Convert this dataframe to an interactive table.\"\n",
              "              style=\"display:none;\">\n",
              "        \n",
              "  <svg xmlns=\"http://www.w3.org/2000/svg\" height=\"24px\"viewBox=\"0 0 24 24\"\n",
              "       width=\"24px\">\n",
              "    <path d=\"M0 0h24v24H0V0z\" fill=\"none\"/>\n",
              "    <path d=\"M18.56 5.44l.94 2.06.94-2.06 2.06-.94-2.06-.94-.94-2.06-.94 2.06-2.06.94zm-11 1L8.5 8.5l.94-2.06 2.06-.94-2.06-.94L8.5 2.5l-.94 2.06-2.06.94zm10 10l.94 2.06.94-2.06 2.06-.94-2.06-.94-.94-2.06-.94 2.06-2.06.94z\"/><path d=\"M17.41 7.96l-1.37-1.37c-.4-.4-.92-.59-1.43-.59-.52 0-1.04.2-1.43.59L10.3 9.45l-7.72 7.72c-.78.78-.78 2.05 0 2.83L4 21.41c.39.39.9.59 1.41.59.51 0 1.02-.2 1.41-.59l7.78-7.78 2.81-2.81c.8-.78.8-2.07 0-2.86zM5.41 20L4 18.59l7.72-7.72 1.47 1.35L5.41 20z\"/>\n",
              "  </svg>\n",
              "      </button>\n",
              "      \n",
              "  <style>\n",
              "    .colab-df-container {\n",
              "      display:flex;\n",
              "      flex-wrap:wrap;\n",
              "      gap: 12px;\n",
              "    }\n",
              "\n",
              "    .colab-df-convert {\n",
              "      background-color: #E8F0FE;\n",
              "      border: none;\n",
              "      border-radius: 50%;\n",
              "      cursor: pointer;\n",
              "      display: none;\n",
              "      fill: #1967D2;\n",
              "      height: 32px;\n",
              "      padding: 0 0 0 0;\n",
              "      width: 32px;\n",
              "    }\n",
              "\n",
              "    .colab-df-convert:hover {\n",
              "      background-color: #E2EBFA;\n",
              "      box-shadow: 0px 1px 2px rgba(60, 64, 67, 0.3), 0px 1px 3px 1px rgba(60, 64, 67, 0.15);\n",
              "      fill: #174EA6;\n",
              "    }\n",
              "\n",
              "    [theme=dark] .colab-df-convert {\n",
              "      background-color: #3B4455;\n",
              "      fill: #D2E3FC;\n",
              "    }\n",
              "\n",
              "    [theme=dark] .colab-df-convert:hover {\n",
              "      background-color: #434B5C;\n",
              "      box-shadow: 0px 1px 3px 1px rgba(0, 0, 0, 0.15);\n",
              "      filter: drop-shadow(0px 1px 2px rgba(0, 0, 0, 0.3));\n",
              "      fill: #FFFFFF;\n",
              "    }\n",
              "  </style>\n",
              "\n",
              "      <script>\n",
              "        const buttonEl =\n",
              "          document.querySelector('#df-e374698a-8973-4d7b-82b3-3747bedb5c2a button.colab-df-convert');\n",
              "        buttonEl.style.display =\n",
              "          google.colab.kernel.accessAllowed ? 'block' : 'none';\n",
              "\n",
              "        async function convertToInteractive(key) {\n",
              "          const element = document.querySelector('#df-e374698a-8973-4d7b-82b3-3747bedb5c2a');\n",
              "          const dataTable =\n",
              "            await google.colab.kernel.invokeFunction('convertToInteractive',\n",
              "                                                     [key], {});\n",
              "          if (!dataTable) return;\n",
              "\n",
              "          const docLinkHtml = 'Like what you see? Visit the ' +\n",
              "            '<a target=\"_blank\" href=https://colab.research.google.com/notebooks/data_table.ipynb>data table notebook</a>'\n",
              "            + ' to learn more about interactive tables.';\n",
              "          element.innerHTML = '';\n",
              "          dataTable['output_type'] = 'display_data';\n",
              "          await google.colab.output.renderOutput(dataTable, element);\n",
              "          const docLink = document.createElement('div');\n",
              "          docLink.innerHTML = docLinkHtml;\n",
              "          element.appendChild(docLink);\n",
              "        }\n",
              "      </script>\n",
              "    </div>\n",
              "  </div>\n",
              "  "
            ]
          },
          "metadata": {},
          "execution_count": 2
        }
      ]
    },
    {
      "cell_type": "code",
      "metadata": {
        "id": "Lh60-Qv7hn8t",
        "colab": {
          "base_uri": "https://localhost:8080/",
          "height": 310
        },
        "outputId": "c7a9645a-9e0d-49b1-dac5-c2222fd6968e"
      },
      "source": [
        "sw = stopwords.words('english')\n",
        "def stopwords(text):\n",
        "    text = [word.lower() for word in text.split() if word.lower() not in sw]\n",
        "    return \" \".join(text)\n",
        "\n",
        "print(smsDF.head())\n",
        "smsDF['v2'] = smsDF['v2'].apply(stopwords)\n",
        "smsDF.head()"
      ],
      "execution_count": null,
      "outputs": [
        {
          "output_type": "stream",
          "name": "stdout",
          "text": [
            "     v1                                                 v2\n",
            "0   ham  Go until jurong point, crazy.. Available only ...\n",
            "1   ham                      Ok lar... Joking wif u oni...\n",
            "2  spam  Free entry in 2 a wkly comp to win FA Cup fina...\n",
            "3   ham  U dun say so early hor... U c already then say...\n",
            "4   ham  Nah I don't think he goes to usf, he lives aro...\n"
          ]
        },
        {
          "output_type": "execute_result",
          "data": {
            "text/plain": [
              "     v1                                                 v2\n",
              "0   ham  go jurong point, crazy.. available bugis n gre...\n",
              "1   ham                      ok lar... joking wif u oni...\n",
              "2  spam  free entry 2 wkly comp win fa cup final tkts 2...\n",
              "3   ham          u dun say early hor... u c already say...\n",
              "4   ham            nah think goes usf, lives around though"
            ],
            "text/html": [
              "\n",
              "  <div id=\"df-cc66a3ae-730e-4885-81be-0af42c839342\">\n",
              "    <div class=\"colab-df-container\">\n",
              "      <div>\n",
              "<style scoped>\n",
              "    .dataframe tbody tr th:only-of-type {\n",
              "        vertical-align: middle;\n",
              "    }\n",
              "\n",
              "    .dataframe tbody tr th {\n",
              "        vertical-align: top;\n",
              "    }\n",
              "\n",
              "    .dataframe thead th {\n",
              "        text-align: right;\n",
              "    }\n",
              "</style>\n",
              "<table border=\"1\" class=\"dataframe\">\n",
              "  <thead>\n",
              "    <tr style=\"text-align: right;\">\n",
              "      <th></th>\n",
              "      <th>v1</th>\n",
              "      <th>v2</th>\n",
              "    </tr>\n",
              "  </thead>\n",
              "  <tbody>\n",
              "    <tr>\n",
              "      <th>0</th>\n",
              "      <td>ham</td>\n",
              "      <td>go jurong point, crazy.. available bugis n gre...</td>\n",
              "    </tr>\n",
              "    <tr>\n",
              "      <th>1</th>\n",
              "      <td>ham</td>\n",
              "      <td>ok lar... joking wif u oni...</td>\n",
              "    </tr>\n",
              "    <tr>\n",
              "      <th>2</th>\n",
              "      <td>spam</td>\n",
              "      <td>free entry 2 wkly comp win fa cup final tkts 2...</td>\n",
              "    </tr>\n",
              "    <tr>\n",
              "      <th>3</th>\n",
              "      <td>ham</td>\n",
              "      <td>u dun say early hor... u c already say...</td>\n",
              "    </tr>\n",
              "    <tr>\n",
              "      <th>4</th>\n",
              "      <td>ham</td>\n",
              "      <td>nah think goes usf, lives around though</td>\n",
              "    </tr>\n",
              "  </tbody>\n",
              "</table>\n",
              "</div>\n",
              "      <button class=\"colab-df-convert\" onclick=\"convertToInteractive('df-cc66a3ae-730e-4885-81be-0af42c839342')\"\n",
              "              title=\"Convert this dataframe to an interactive table.\"\n",
              "              style=\"display:none;\">\n",
              "        \n",
              "  <svg xmlns=\"http://www.w3.org/2000/svg\" height=\"24px\"viewBox=\"0 0 24 24\"\n",
              "       width=\"24px\">\n",
              "    <path d=\"M0 0h24v24H0V0z\" fill=\"none\"/>\n",
              "    <path d=\"M18.56 5.44l.94 2.06.94-2.06 2.06-.94-2.06-.94-.94-2.06-.94 2.06-2.06.94zm-11 1L8.5 8.5l.94-2.06 2.06-.94-2.06-.94L8.5 2.5l-.94 2.06-2.06.94zm10 10l.94 2.06.94-2.06 2.06-.94-2.06-.94-.94-2.06-.94 2.06-2.06.94z\"/><path d=\"M17.41 7.96l-1.37-1.37c-.4-.4-.92-.59-1.43-.59-.52 0-1.04.2-1.43.59L10.3 9.45l-7.72 7.72c-.78.78-.78 2.05 0 2.83L4 21.41c.39.39.9.59 1.41.59.51 0 1.02-.2 1.41-.59l7.78-7.78 2.81-2.81c.8-.78.8-2.07 0-2.86zM5.41 20L4 18.59l7.72-7.72 1.47 1.35L5.41 20z\"/>\n",
              "  </svg>\n",
              "      </button>\n",
              "      \n",
              "  <style>\n",
              "    .colab-df-container {\n",
              "      display:flex;\n",
              "      flex-wrap:wrap;\n",
              "      gap: 12px;\n",
              "    }\n",
              "\n",
              "    .colab-df-convert {\n",
              "      background-color: #E8F0FE;\n",
              "      border: none;\n",
              "      border-radius: 50%;\n",
              "      cursor: pointer;\n",
              "      display: none;\n",
              "      fill: #1967D2;\n",
              "      height: 32px;\n",
              "      padding: 0 0 0 0;\n",
              "      width: 32px;\n",
              "    }\n",
              "\n",
              "    .colab-df-convert:hover {\n",
              "      background-color: #E2EBFA;\n",
              "      box-shadow: 0px 1px 2px rgba(60, 64, 67, 0.3), 0px 1px 3px 1px rgba(60, 64, 67, 0.15);\n",
              "      fill: #174EA6;\n",
              "    }\n",
              "\n",
              "    [theme=dark] .colab-df-convert {\n",
              "      background-color: #3B4455;\n",
              "      fill: #D2E3FC;\n",
              "    }\n",
              "\n",
              "    [theme=dark] .colab-df-convert:hover {\n",
              "      background-color: #434B5C;\n",
              "      box-shadow: 0px 1px 3px 1px rgba(0, 0, 0, 0.15);\n",
              "      filter: drop-shadow(0px 1px 2px rgba(0, 0, 0, 0.3));\n",
              "      fill: #FFFFFF;\n",
              "    }\n",
              "  </style>\n",
              "\n",
              "      <script>\n",
              "        const buttonEl =\n",
              "          document.querySelector('#df-cc66a3ae-730e-4885-81be-0af42c839342 button.colab-df-convert');\n",
              "        buttonEl.style.display =\n",
              "          google.colab.kernel.accessAllowed ? 'block' : 'none';\n",
              "\n",
              "        async function convertToInteractive(key) {\n",
              "          const element = document.querySelector('#df-cc66a3ae-730e-4885-81be-0af42c839342');\n",
              "          const dataTable =\n",
              "            await google.colab.kernel.invokeFunction('convertToInteractive',\n",
              "                                                     [key], {});\n",
              "          if (!dataTable) return;\n",
              "\n",
              "          const docLinkHtml = 'Like what you see? Visit the ' +\n",
              "            '<a target=\"_blank\" href=https://colab.research.google.com/notebooks/data_table.ipynb>data table notebook</a>'\n",
              "            + ' to learn more about interactive tables.';\n",
              "          element.innerHTML = '';\n",
              "          dataTable['output_type'] = 'display_data';\n",
              "          await google.colab.output.renderOutput(dataTable, element);\n",
              "          const docLink = document.createElement('div');\n",
              "          docLink.innerHTML = docLinkHtml;\n",
              "          element.appendChild(docLink);\n",
              "        }\n",
              "      </script>\n",
              "    </div>\n",
              "  </div>\n",
              "  "
            ]
          },
          "metadata": {},
          "execution_count": 3
        }
      ]
    },
    {
      "cell_type": "code",
      "metadata": {
        "id": "r9uYDrppiQ_4",
        "colab": {
          "base_uri": "https://localhost:8080/"
        },
        "outputId": "52bf2ff5-6323-409e-900b-424baad93353"
      },
      "source": [
        "from nltk.stem.snowball import SnowballStemmer\n",
        "stemmer = SnowballStemmer(\"english\")\n",
        "\n",
        "def stemming(text):\n",
        "    text = [stemmer.stem(word) for word in text.split()]\n",
        "    return \" \".join(text)\n",
        "\n",
        "print(smsDF.head())\n",
        "smsDF['v2'] = smsDF['v2'].apply(stemming)\n",
        "print(smsDF.head())"
      ],
      "execution_count": null,
      "outputs": [
        {
          "output_type": "stream",
          "name": "stdout",
          "text": [
            "     v1                                                 v2\n",
            "0   ham  go jurong point, crazy.. available bugis n gre...\n",
            "1   ham                      ok lar... joking wif u oni...\n",
            "2  spam  free entry 2 wkly comp win fa cup final tkts 2...\n",
            "3   ham          u dun say early hor... u c already say...\n",
            "4   ham            nah think goes usf, lives around though\n",
            "     v1                                                 v2\n",
            "0   ham  go jurong point, crazy.. avail bugi n great wo...\n",
            "1   ham                        ok lar... joke wif u oni...\n",
            "2  spam  free entri 2 wkli comp win fa cup final tkts 2...\n",
            "3   ham          u dun say earli hor... u c alreadi say...\n",
            "4   ham              nah think goe usf, live around though\n"
          ]
        }
      ]
    },
    {
      "cell_type": "code",
      "metadata": {
        "id": "4vRrgAzjZ98X",
        "colab": {
          "base_uri": "https://localhost:8080/"
        },
        "outputId": "8ee9d684-92c7-4bde-93fe-abfcc1a4f34f"
      },
      "source": [
        "from sklearn.feature_extraction.text import TfidfVectorizer\n",
        "\n",
        "# create the object of tfid vectorizer\n",
        "tfid_vectorizer = TfidfVectorizer()\n",
        "\n",
        "# extract the tfid representation matrix of the text data\n",
        "tfid_matrix = tfid_vectorizer.fit_transform(smsDF['v2'])\n",
        "print(type(tfid_matrix))\n",
        "print(tfid_matrix[0])\n",
        "print(tfid_matrix.shape)\n"
      ],
      "execution_count": null,
      "outputs": [
        {
          "output_type": "stream",
          "name": "stdout",
          "text": [
            "<class 'scipy.sparse._csr.csr_matrix'>\n",
            "  (0, 7768)\t0.18921724597291265\n",
            "  (0, 1055)\t0.3425363092743615\n",
            "  (0, 3417)\t0.16074941421717273\n",
            "  (0, 1981)\t0.2893760582598872\n",
            "  (0, 1697)\t0.3269879325881659\n",
            "  (0, 4244)\t0.2893760582598872\n",
            "  (0, 7974)\t0.22962586282138506\n",
            "  (0, 3457)\t0.18886704248639122\n",
            "  (0, 1699)\t0.30040780708092873\n",
            "  (0, 1283)\t0.2652707924072797\n",
            "  (0, 2239)\t0.3073992946007125\n",
            "  (0, 5597)\t0.25827930488749584\n",
            "  (0, 4128)\t0.3425363092743615\n",
            "  (0, 3373)\t0.13813519804363328\n",
            "(5572, 8158)\n"
          ]
        }
      ]
    },
    {
      "cell_type": "code",
      "source": [
        "print(tfid_matrix[300])"
      ],
      "metadata": {
        "colab": {
          "base_uri": "https://localhost:8080/"
        },
        "id": "coAKPKdUkgE8",
        "outputId": "f2a4f768-40d2-4ef5-a6a6-1d5f9fabb102"
      },
      "execution_count": null,
      "outputs": [
        {
          "output_type": "stream",
          "name": "stdout",
          "text": [
            "  (0, 2489)\t0.4363004076017161\n",
            "  (0, 3651)\t0.36858834742637536\n",
            "  (0, 6619)\t0.34878383940180097\n",
            "  (0, 1302)\t0.34125451489376435\n",
            "  (0, 4288)\t0.2561210498967912\n",
            "  (0, 7251)\t0.40950423675239317\n",
            "  (0, 3080)\t0.26778946875694515\n",
            "  (0, 5998)\t0.29791514266610997\n",
            "  (0, 3417)\t0.20475211837619658\n"
          ]
        }
      ]
    },
    {
      "cell_type": "code",
      "metadata": {
        "id": "iKgI1wIrAVi5",
        "colab": {
          "base_uri": "https://localhost:8080/"
        },
        "outputId": "a1a38209-4ca5-425c-9337-b89e872f4aa6"
      },
      "source": [
        "# collect the sparse matrix into dense one\n",
        "array = tfid_matrix.todense()\n",
        "print(type(array))\n",
        "print(array[0])\n",
        "print(array.shape)"
      ],
      "execution_count": null,
      "outputs": [
        {
          "output_type": "stream",
          "name": "stdout",
          "text": [
            "<class 'numpy.matrix'>\n",
            "[[0. 0. 0. ... 0. 0. 0.]]\n",
            "(5572, 8158)\n"
          ]
        }
      ]
    },
    {
      "cell_type": "code",
      "metadata": {
        "id": "VLgz79rmApSO",
        "colab": {
          "base_uri": "https://localhost:8080/",
          "height": 172
        },
        "outputId": "52c3445e-4738-48fe-94f6-0d70c495b7f1"
      },
      "source": [
        "df = pd.DataFrame(array)\n",
        "df[(df[10] != 0)].head()"
      ],
      "execution_count": null,
      "outputs": [
        {
          "output_type": "execute_result",
          "data": {
            "text/plain": [
              "      0     1     2     3     4     5     6     7     8     9     ...  8148  \\\n",
              "462    0.0   0.0   0.0   0.0   0.0   0.0   0.0   0.0   0.0   0.0  ...   0.0   \n",
              "796    0.0   0.0   0.0   0.0   0.0   0.0   0.0   0.0   0.0   0.0  ...   0.0   \n",
              "5381   0.0   0.0   0.0   0.0   0.0   0.0   0.0   0.0   0.0   0.0  ...   0.0   \n",
              "\n",
              "      8149  8150  8151  8152  8153  8154  8155  8156  8157  \n",
              "462    0.0   0.0   0.0   0.0   0.0   0.0   0.0   0.0   0.0  \n",
              "796    0.0   0.0   0.0   0.0   0.0   0.0   0.0   0.0   0.0  \n",
              "5381   0.0   0.0   0.0   0.0   0.0   0.0   0.0   0.0   0.0  \n",
              "\n",
              "[3 rows x 8158 columns]"
            ],
            "text/html": [
              "\n",
              "  <div id=\"df-e3a9ac4b-919e-4317-bff2-90ac4fbfa4d9\">\n",
              "    <div class=\"colab-df-container\">\n",
              "      <div>\n",
              "<style scoped>\n",
              "    .dataframe tbody tr th:only-of-type {\n",
              "        vertical-align: middle;\n",
              "    }\n",
              "\n",
              "    .dataframe tbody tr th {\n",
              "        vertical-align: top;\n",
              "    }\n",
              "\n",
              "    .dataframe thead th {\n",
              "        text-align: right;\n",
              "    }\n",
              "</style>\n",
              "<table border=\"1\" class=\"dataframe\">\n",
              "  <thead>\n",
              "    <tr style=\"text-align: right;\">\n",
              "      <th></th>\n",
              "      <th>0</th>\n",
              "      <th>1</th>\n",
              "      <th>2</th>\n",
              "      <th>3</th>\n",
              "      <th>4</th>\n",
              "      <th>5</th>\n",
              "      <th>6</th>\n",
              "      <th>7</th>\n",
              "      <th>8</th>\n",
              "      <th>9</th>\n",
              "      <th>...</th>\n",
              "      <th>8148</th>\n",
              "      <th>8149</th>\n",
              "      <th>8150</th>\n",
              "      <th>8151</th>\n",
              "      <th>8152</th>\n",
              "      <th>8153</th>\n",
              "      <th>8154</th>\n",
              "      <th>8155</th>\n",
              "      <th>8156</th>\n",
              "      <th>8157</th>\n",
              "    </tr>\n",
              "  </thead>\n",
              "  <tbody>\n",
              "    <tr>\n",
              "      <th>462</th>\n",
              "      <td>0.0</td>\n",
              "      <td>0.0</td>\n",
              "      <td>0.0</td>\n",
              "      <td>0.0</td>\n",
              "      <td>0.0</td>\n",
              "      <td>0.0</td>\n",
              "      <td>0.0</td>\n",
              "      <td>0.0</td>\n",
              "      <td>0.0</td>\n",
              "      <td>0.0</td>\n",
              "      <td>...</td>\n",
              "      <td>0.0</td>\n",
              "      <td>0.0</td>\n",
              "      <td>0.0</td>\n",
              "      <td>0.0</td>\n",
              "      <td>0.0</td>\n",
              "      <td>0.0</td>\n",
              "      <td>0.0</td>\n",
              "      <td>0.0</td>\n",
              "      <td>0.0</td>\n",
              "      <td>0.0</td>\n",
              "    </tr>\n",
              "    <tr>\n",
              "      <th>796</th>\n",
              "      <td>0.0</td>\n",
              "      <td>0.0</td>\n",
              "      <td>0.0</td>\n",
              "      <td>0.0</td>\n",
              "      <td>0.0</td>\n",
              "      <td>0.0</td>\n",
              "      <td>0.0</td>\n",
              "      <td>0.0</td>\n",
              "      <td>0.0</td>\n",
              "      <td>0.0</td>\n",
              "      <td>...</td>\n",
              "      <td>0.0</td>\n",
              "      <td>0.0</td>\n",
              "      <td>0.0</td>\n",
              "      <td>0.0</td>\n",
              "      <td>0.0</td>\n",
              "      <td>0.0</td>\n",
              "      <td>0.0</td>\n",
              "      <td>0.0</td>\n",
              "      <td>0.0</td>\n",
              "      <td>0.0</td>\n",
              "    </tr>\n",
              "    <tr>\n",
              "      <th>5381</th>\n",
              "      <td>0.0</td>\n",
              "      <td>0.0</td>\n",
              "      <td>0.0</td>\n",
              "      <td>0.0</td>\n",
              "      <td>0.0</td>\n",
              "      <td>0.0</td>\n",
              "      <td>0.0</td>\n",
              "      <td>0.0</td>\n",
              "      <td>0.0</td>\n",
              "      <td>0.0</td>\n",
              "      <td>...</td>\n",
              "      <td>0.0</td>\n",
              "      <td>0.0</td>\n",
              "      <td>0.0</td>\n",
              "      <td>0.0</td>\n",
              "      <td>0.0</td>\n",
              "      <td>0.0</td>\n",
              "      <td>0.0</td>\n",
              "      <td>0.0</td>\n",
              "      <td>0.0</td>\n",
              "      <td>0.0</td>\n",
              "    </tr>\n",
              "  </tbody>\n",
              "</table>\n",
              "<p>3 rows × 8158 columns</p>\n",
              "</div>\n",
              "      <button class=\"colab-df-convert\" onclick=\"convertToInteractive('df-e3a9ac4b-919e-4317-bff2-90ac4fbfa4d9')\"\n",
              "              title=\"Convert this dataframe to an interactive table.\"\n",
              "              style=\"display:none;\">\n",
              "        \n",
              "  <svg xmlns=\"http://www.w3.org/2000/svg\" height=\"24px\"viewBox=\"0 0 24 24\"\n",
              "       width=\"24px\">\n",
              "    <path d=\"M0 0h24v24H0V0z\" fill=\"none\"/>\n",
              "    <path d=\"M18.56 5.44l.94 2.06.94-2.06 2.06-.94-2.06-.94-.94-2.06-.94 2.06-2.06.94zm-11 1L8.5 8.5l.94-2.06 2.06-.94-2.06-.94L8.5 2.5l-.94 2.06-2.06.94zm10 10l.94 2.06.94-2.06 2.06-.94-2.06-.94-.94-2.06-.94 2.06-2.06.94z\"/><path d=\"M17.41 7.96l-1.37-1.37c-.4-.4-.92-.59-1.43-.59-.52 0-1.04.2-1.43.59L10.3 9.45l-7.72 7.72c-.78.78-.78 2.05 0 2.83L4 21.41c.39.39.9.59 1.41.59.51 0 1.02-.2 1.41-.59l7.78-7.78 2.81-2.81c.8-.78.8-2.07 0-2.86zM5.41 20L4 18.59l7.72-7.72 1.47 1.35L5.41 20z\"/>\n",
              "  </svg>\n",
              "      </button>\n",
              "      \n",
              "  <style>\n",
              "    .colab-df-container {\n",
              "      display:flex;\n",
              "      flex-wrap:wrap;\n",
              "      gap: 12px;\n",
              "    }\n",
              "\n",
              "    .colab-df-convert {\n",
              "      background-color: #E8F0FE;\n",
              "      border: none;\n",
              "      border-radius: 50%;\n",
              "      cursor: pointer;\n",
              "      display: none;\n",
              "      fill: #1967D2;\n",
              "      height: 32px;\n",
              "      padding: 0 0 0 0;\n",
              "      width: 32px;\n",
              "    }\n",
              "\n",
              "    .colab-df-convert:hover {\n",
              "      background-color: #E2EBFA;\n",
              "      box-shadow: 0px 1px 2px rgba(60, 64, 67, 0.3), 0px 1px 3px 1px rgba(60, 64, 67, 0.15);\n",
              "      fill: #174EA6;\n",
              "    }\n",
              "\n",
              "    [theme=dark] .colab-df-convert {\n",
              "      background-color: #3B4455;\n",
              "      fill: #D2E3FC;\n",
              "    }\n",
              "\n",
              "    [theme=dark] .colab-df-convert:hover {\n",
              "      background-color: #434B5C;\n",
              "      box-shadow: 0px 1px 3px 1px rgba(0, 0, 0, 0.15);\n",
              "      filter: drop-shadow(0px 1px 2px rgba(0, 0, 0, 0.3));\n",
              "      fill: #FFFFFF;\n",
              "    }\n",
              "  </style>\n",
              "\n",
              "      <script>\n",
              "        const buttonEl =\n",
              "          document.querySelector('#df-e3a9ac4b-919e-4317-bff2-90ac4fbfa4d9 button.colab-df-convert');\n",
              "        buttonEl.style.display =\n",
              "          google.colab.kernel.accessAllowed ? 'block' : 'none';\n",
              "\n",
              "        async function convertToInteractive(key) {\n",
              "          const element = document.querySelector('#df-e3a9ac4b-919e-4317-bff2-90ac4fbfa4d9');\n",
              "          const dataTable =\n",
              "            await google.colab.kernel.invokeFunction('convertToInteractive',\n",
              "                                                     [key], {});\n",
              "          if (!dataTable) return;\n",
              "\n",
              "          const docLinkHtml = 'Like what you see? Visit the ' +\n",
              "            '<a target=\"_blank\" href=https://colab.research.google.com/notebooks/data_table.ipynb>data table notebook</a>'\n",
              "            + ' to learn more about interactive tables.';\n",
              "          element.innerHTML = '';\n",
              "          dataTable['output_type'] = 'display_data';\n",
              "          await google.colab.output.renderOutput(dataTable, element);\n",
              "          const docLink = document.createElement('div');\n",
              "          docLink.innerHTML = docLinkHtml;\n",
              "          element.appendChild(docLink);\n",
              "        }\n",
              "      </script>\n",
              "    </div>\n",
              "  </div>\n",
              "  "
            ]
          },
          "metadata": {},
          "execution_count": 7
        }
      ]
    },
    {
      "cell_type": "code",
      "metadata": {
        "id": "HF9x6EJ5cdQC"
      },
      "source": [
        "df['v1']=smsDF['v1']"
      ],
      "execution_count": null,
      "outputs": []
    },
    {
      "cell_type": "code",
      "metadata": {
        "id": "WuObL8D-jcfT"
      },
      "source": [
        "from sklearn.model_selection import train_test_split\n",
        "\n",
        "features = df.columns.tolist()\n",
        "features.remove('v1')\n",
        "\n",
        "X_train, X_test, y_train, y_test = train_test_split(df[features], df['v1'], test_size=0.33)"
      ],
      "execution_count": null,
      "outputs": []
    },
    {
      "cell_type": "markdown",
      "metadata": {
        "id": "kd_39CtTR2ht"
      },
      "source": [
        "* **Bernoulli Naive Bayes :** It assumes that all our features are binary\n",
        "\n",
        "* **Multinomial Naive Bayes :** Its is used when we have discrete data (e.g. movie ratings ranging 1 and 5 as each rating will have certain frequency to represent). In text learning we have the count of each word to predict the class or label.\n",
        "\n",
        "* **Gaussian Naive Bayes :** Because of the assumption of the normal distribution, Gaussian Naive Bayes is used in cases when all our features are continuous."
      ]
    },
    {
      "cell_type": "code",
      "metadata": {
        "id": "b3Q6CAQ0XhB5",
        "colab": {
          "base_uri": "https://localhost:8080/"
        },
        "outputId": "123bf05a-1015-46b9-c031-7ad3c1258a47"
      },
      "source": [
        "from sklearn.naive_bayes import GaussianNB, BernoulliNB, MultinomialNB\n",
        "from sklearn.metrics import accuracy_score\n",
        "\n",
        "#model=GaussianNB() # .89\n",
        "model=BernoulliNB() # .97\n",
        "#model=MultinomialNB() # .95\n",
        "\n",
        "model.fit(X_train,y_train)\n",
        "y_pred=model.predict(X_test)\n",
        "acc = accuracy_score(y_test, y_pred)\n",
        "print('Accuracy: %.3f' % acc)\n"
      ],
      "execution_count": null,
      "outputs": [
        {
          "output_type": "stream",
          "name": "stdout",
          "text": [
            "Accuracy: 0.973\n"
          ]
        }
      ]
    }
  ]
}